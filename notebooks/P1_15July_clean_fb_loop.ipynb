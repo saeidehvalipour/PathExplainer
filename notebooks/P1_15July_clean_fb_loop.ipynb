{
 "cells": [
  {
   "cell_type": "markdown",
   "id": "29ca9a8a-c56f-4b3a-b21c-a0ecd6c471fe",
   "metadata": {},
   "source": [
    "#### Feedback loop (18th july)\n",
    " (GABBR1 C1414904, Baclofen C0004609)"
   ]
  },
  {
   "cell_type": "code",
   "execution_count": 8,
   "id": "32c5ccb5-46f7-4292-8410-380de12b693d",
   "metadata": {
    "execution": {
     "iopub.execute_input": "2024-07-18T21:01:51.836850Z",
     "iopub.status.busy": "2024-07-18T21:01:51.836614Z",
     "iopub.status.idle": "2024-07-18T21:01:51.840860Z",
     "shell.execute_reply": "2024-07-18T21:01:51.840371Z",
     "shell.execute_reply.started": "2024-07-18T21:01:51.836823Z"
    }
   },
   "outputs": [],
   "source": [
    "import torch\n",
    "import json\n",
    "import os\n",
    "import pandas as pd\n",
    "import numpy as np\n",
    "from pathlib import Path\n",
    "from tqdm import tqdm\n",
    "import random\n",
    "import text_util\n",
    "import openai\n",
    "from collections import defaultdict\n",
    "from itertools import cycle\n",
    "import faiss\n",
    "from transformers import DPRQuestionEncoder, DPRQuestionEncoderTokenizer, DPRContextEncoder, DPRContextEncoderTokenizer\n",
    "\n",
    "from pathlib import Path\n",
    "from openai import OpenAI\n",
    "from agatha.construct.semrep_handler import SemRepHandler\n",
    "import semantic_search_util\n",
    "# from semantic_search_util import generate_negatives, st_nodelbl_dict,retrieve_context_path\n",
    "from agatha.util.sqlite3_lookup import Sqlite3LookupTable\n",
    "from sentence_transformers import SentenceTransformer, util\n",
    "import warnings\n",
    "\n",
    "warnings.filterwarnings('ignore')\n",
    "os.environ[\"TOKENIZERS_PARALLELISM\"] = \"false\"\n",
    "# pd.set_option('display.max_colwidth', None)\n",
    "# pd.set_option('display.max_columns', None)"
   ]
  },
  {
   "cell_type": "code",
   "execution_count": 9,
   "id": "abbf6929-f49b-417a-908c-09c8ad3226f7",
   "metadata": {
    "execution": {
     "iopub.execute_input": "2024-07-18T21:01:56.113882Z",
     "iopub.status.busy": "2024-07-18T21:01:56.113413Z",
     "iopub.status.idle": "2024-07-18T21:01:56.119414Z",
     "shell.execute_reply": "2024-07-18T21:01:56.118771Z",
     "shell.execute_reply.started": "2024-07-18T21:01:56.113843Z"
    }
   },
   "outputs": [],
   "source": [
    "agatha_sent_db_path = (\n",
    "    '/lustre/acslab/shared/Agatha_shared/2021_11_22_full/sentences.sqlite3'\n",
    ")\n",
    "sents_db = Sqlite3LookupTable(agatha_sent_db_path)"
   ]
  },
  {
   "cell_type": "markdown",
   "id": "35cea5ab-e471-4b26-a89b-e546d0f5e720",
   "metadata": {},
   "source": [
    "## 1.Retrieve Path for source and target node from HGCR\n",
    "Got pair, and retrieve all paths for that pair from Retrieval component"
   ]
  },
  {
   "cell_type": "code",
   "execution_count": 12,
   "id": "9a9e9eb3-8700-4376-a118-1be038e86ad9",
   "metadata": {
    "execution": {
     "iopub.execute_input": "2024-07-18T21:37:59.810908Z",
     "iopub.status.busy": "2024-07-18T21:37:59.810483Z",
     "iopub.status.idle": "2024-07-18T21:37:59.814851Z",
     "shell.execute_reply": "2024-07-18T21:37:59.813988Z",
     "shell.execute_reply.started": "2024-07-18T21:37:59.810869Z"
    }
   },
   "outputs": [],
   "source": [
    "source_cui = 'C1414904' # GABBR1\n",
    "target_cui = 'C0004609' # Baclofen"
   ]
  },
  {
   "cell_type": "code",
   "execution_count": 13,
   "id": "e6381b1a-e1f4-4751-b9cc-1dec2c4bc5d1",
   "metadata": {
    "execution": {
     "iopub.execute_input": "2024-07-18T21:38:14.370060Z",
     "iopub.status.busy": "2024-07-18T21:38:14.369849Z",
     "iopub.status.idle": "2024-07-18T21:38:14.394864Z",
     "shell.execute_reply": "2024-07-18T21:38:14.394368Z",
     "shell.execute_reply.started": "2024-07-18T21:38:14.370042Z"
    }
   },
   "outputs": [
    {
     "data": {
      "text/html": [
       "<div>\n",
       "<style scoped>\n",
       "    .dataframe tbody tr th:only-of-type {\n",
       "        vertical-align: middle;\n",
       "    }\n",
       "\n",
       "    .dataframe tbody tr th {\n",
       "        vertical-align: top;\n",
       "    }\n",
       "\n",
       "    .dataframe thead th {\n",
       "        text-align: right;\n",
       "    }\n",
       "</style>\n",
       "<table border=\"1\" class=\"dataframe\">\n",
       "  <thead>\n",
       "    <tr style=\"text-align: right;\">\n",
       "      <th></th>\n",
       "      <th>path</th>\n",
       "      <th>score_std</th>\n",
       "      <th>score_mean</th>\n",
       "      <th>dec_path</th>\n",
       "      <th>context_pmids</th>\n",
       "    </tr>\n",
       "  </thead>\n",
       "  <tbody>\n",
       "    <tr>\n",
       "      <th>153</th>\n",
       "      <td>[C1414904, C1420206, C1426735, C0004609]</td>\n",
       "      <td>0.000000</td>\n",
       "      <td>0.999669</td>\n",
       "      <td>[GABBR1 gene, SLC6A1 gene, SLC17A8 gene, baclo...</td>\n",
       "      <td>{('C1414904', 'C1420206'): ['26727527'], ('C14...</td>\n",
       "    </tr>\n",
       "    <tr>\n",
       "      <th>134</th>\n",
       "      <td>[C1414904, C1414925, C0751791, C0004609]</td>\n",
       "      <td>0.000000</td>\n",
       "      <td>0.998868</td>\n",
       "      <td>[GABBR1 gene, GAD1 gene, Reflex Epilepsy, Audi...</td>\n",
       "      <td>{('C1414904', 'C1414925'): ['25641668'], ('C14...</td>\n",
       "    </tr>\n",
       "    <tr>\n",
       "      <th>27</th>\n",
       "      <td>[C1414904, C0009595, C0241705, C0004609]</td>\n",
       "      <td>0.000000</td>\n",
       "      <td>0.998843</td>\n",
       "      <td>[GABBR1 gene, Obsessive-Compulsive Personality...</td>\n",
       "      <td>{('C1414904', 'C0009595'): ['27047397'], ('C00...</td>\n",
       "    </tr>\n",
       "    <tr>\n",
       "      <th>105</th>\n",
       "      <td>[C1414904, C1367458, C1422223, C0004609]</td>\n",
       "      <td>0.000353</td>\n",
       "      <td>0.998821</td>\n",
       "      <td>[GABBR1 gene, LGI1 gene, CNTNAP2 gene, baclofen]</td>\n",
       "      <td>{('C1414904', 'C1367458'): ['34836497', '18355...</td>\n",
       "    </tr>\n",
       "    <tr>\n",
       "      <th>165</th>\n",
       "      <td>[C1414904, C0014553, C1413059, C0004609]</td>\n",
       "      <td>0.000000</td>\n",
       "      <td>0.998617</td>\n",
       "      <td>[GABBR1 gene, Absence Epilepsy, CACNA1E gene, ...</td>\n",
       "      <td>{('C1414904', 'C0014553'): ['12770685'], ('C00...</td>\n",
       "    </tr>\n",
       "    <tr>\n",
       "      <th>...</th>\n",
       "      <td>...</td>\n",
       "      <td>...</td>\n",
       "      <td>...</td>\n",
       "      <td>...</td>\n",
       "      <td>...</td>\n",
       "    </tr>\n",
       "    <tr>\n",
       "      <th>35</th>\n",
       "      <td>[C1414904, C0393639, C0038220, C0004609]</td>\n",
       "      <td>0.012101</td>\n",
       "      <td>0.811307</td>\n",
       "      <td>[GABBR1 gene, Hashimoto's encephalitis, Status...</td>\n",
       "      <td>{('C1414904', 'C0393639'): ['34836497'], ('C03...</td>\n",
       "    </tr>\n",
       "    <tr>\n",
       "      <th>166</th>\n",
       "      <td>[C1414904, C0393639, C0006012, C0004609]</td>\n",
       "      <td>0.000000</td>\n",
       "      <td>0.791663</td>\n",
       "      <td>[GABBR1 gene, Hashimoto's encephalitis, Border...</td>\n",
       "      <td>{('C1414904', 'C0393639'): ['34836497'], ('C03...</td>\n",
       "    </tr>\n",
       "    <tr>\n",
       "      <th>78</th>\n",
       "      <td>[C1414904, C0009952, C0080356, C0004609]</td>\n",
       "      <td>0.021340</td>\n",
       "      <td>0.697327</td>\n",
       "      <td>[GABBR1 gene, Febrile Convulsions, valproate, ...</td>\n",
       "      <td>{('C1414904', 'C0009952'): ['15799783'], ('C00...</td>\n",
       "    </tr>\n",
       "    <tr>\n",
       "      <th>126</th>\n",
       "      <td>[C1414904, C0270736, C0080356, C0004609]</td>\n",
       "      <td>0.000000</td>\n",
       "      <td>0.662091</td>\n",
       "      <td>[GABBR1 gene, Essential Tremor, valproate, bac...</td>\n",
       "      <td>{('C1414904', 'C0270736'): ['22321358'], ('C02...</td>\n",
       "    </tr>\n",
       "    <tr>\n",
       "      <th>59</th>\n",
       "      <td>[C1414904, C0009595, C0006012, C0004609]</td>\n",
       "      <td>0.000000</td>\n",
       "      <td>0.620688</td>\n",
       "      <td>[GABBR1 gene, Obsessive-Compulsive Personality...</td>\n",
       "      <td>{('C1414904', 'C0009595'): ['27047397'], ('C00...</td>\n",
       "    </tr>\n",
       "  </tbody>\n",
       "</table>\n",
       "<p>246 rows × 5 columns</p>\n",
       "</div>"
      ],
      "text/plain": [
       "                                         path  score_std  score_mean  \\\n",
       "153  [C1414904, C1420206, C1426735, C0004609]   0.000000    0.999669   \n",
       "134  [C1414904, C1414925, C0751791, C0004609]   0.000000    0.998868   \n",
       "27   [C1414904, C0009595, C0241705, C0004609]   0.000000    0.998843   \n",
       "105  [C1414904, C1367458, C1422223, C0004609]   0.000353    0.998821   \n",
       "165  [C1414904, C0014553, C1413059, C0004609]   0.000000    0.998617   \n",
       "..                                        ...        ...         ...   \n",
       "35   [C1414904, C0393639, C0038220, C0004609]   0.012101    0.811307   \n",
       "166  [C1414904, C0393639, C0006012, C0004609]   0.000000    0.791663   \n",
       "78   [C1414904, C0009952, C0080356, C0004609]   0.021340    0.697327   \n",
       "126  [C1414904, C0270736, C0080356, C0004609]   0.000000    0.662091   \n",
       "59   [C1414904, C0009595, C0006012, C0004609]   0.000000    0.620688   \n",
       "\n",
       "                                              dec_path  \\\n",
       "153  [GABBR1 gene, SLC6A1 gene, SLC17A8 gene, baclo...   \n",
       "134  [GABBR1 gene, GAD1 gene, Reflex Epilepsy, Audi...   \n",
       "27   [GABBR1 gene, Obsessive-Compulsive Personality...   \n",
       "105   [GABBR1 gene, LGI1 gene, CNTNAP2 gene, baclofen]   \n",
       "165  [GABBR1 gene, Absence Epilepsy, CACNA1E gene, ...   \n",
       "..                                                 ...   \n",
       "35   [GABBR1 gene, Hashimoto's encephalitis, Status...   \n",
       "166  [GABBR1 gene, Hashimoto's encephalitis, Border...   \n",
       "78   [GABBR1 gene, Febrile Convulsions, valproate, ...   \n",
       "126  [GABBR1 gene, Essential Tremor, valproate, bac...   \n",
       "59   [GABBR1 gene, Obsessive-Compulsive Personality...   \n",
       "\n",
       "                                         context_pmids  \n",
       "153  {('C1414904', 'C1420206'): ['26727527'], ('C14...  \n",
       "134  {('C1414904', 'C1414925'): ['25641668'], ('C14...  \n",
       "27   {('C1414904', 'C0009595'): ['27047397'], ('C00...  \n",
       "105  {('C1414904', 'C1367458'): ['34836497', '18355...  \n",
       "165  {('C1414904', 'C0014553'): ['12770685'], ('C00...  \n",
       "..                                                 ...  \n",
       "35   {('C1414904', 'C0393639'): ['34836497'], ('C03...  \n",
       "166  {('C1414904', 'C0393639'): ['34836497'], ('C03...  \n",
       "78   {('C1414904', 'C0009952'): ['15799783'], ('C00...  \n",
       "126  {('C1414904', 'C0270736'): ['22321358'], ('C02...  \n",
       "59   {('C1414904', 'C0009595'): ['27047397'], ('C00...  \n",
       "\n",
       "[246 rows x 5 columns]"
      ]
     },
     "execution_count": 13,
     "metadata": {},
     "output_type": "execute_result"
    }
   ],
   "source": [
    "df = pd.read_pickle('P1_GABBR1_Baclofen.pkl')\n",
    "df"
   ]
  },
  {
   "cell_type": "code",
   "execution_count": 14,
   "id": "ce48c1e5-e6e1-44e4-a878-c18870cd9c96",
   "metadata": {
    "execution": {
     "iopub.execute_input": "2024-07-18T21:38:18.660496Z",
     "iopub.status.busy": "2024-07-18T21:38:18.660338Z",
     "iopub.status.idle": "2024-07-18T21:38:18.706340Z",
     "shell.execute_reply": "2024-07-18T21:38:18.705855Z",
     "shell.execute_reply.started": "2024-07-18T21:38:18.660476Z"
    }
   },
   "outputs": [
    {
     "data": {
      "text/html": [
       "<div>\n",
       "<style scoped>\n",
       "    .dataframe tbody tr th:only-of-type {\n",
       "        vertical-align: middle;\n",
       "    }\n",
       "\n",
       "    .dataframe tbody tr th {\n",
       "        vertical-align: top;\n",
       "    }\n",
       "\n",
       "    .dataframe thead th {\n",
       "        text-align: right;\n",
       "    }\n",
       "</style>\n",
       "<table border=\"1\" class=\"dataframe\">\n",
       "  <thead>\n",
       "    <tr style=\"text-align: right;\">\n",
       "      <th></th>\n",
       "      <th>path</th>\n",
       "      <th>context_pmids</th>\n",
       "    </tr>\n",
       "  </thead>\n",
       "  <tbody>\n",
       "    <tr>\n",
       "      <th>153</th>\n",
       "      <td>[C1414904, C1420206, C1426735, C0004609]</td>\n",
       "      <td>{('C1414904', 'C1420206'): ['26727527'], ('C14...</td>\n",
       "    </tr>\n",
       "    <tr>\n",
       "      <th>134</th>\n",
       "      <td>[C1414904, C1414925, C0751791, C0004609]</td>\n",
       "      <td>{('C1414904', 'C1414925'): ['25641668'], ('C14...</td>\n",
       "    </tr>\n",
       "    <tr>\n",
       "      <th>27</th>\n",
       "      <td>[C1414904, C0009595, C0241705, C0004609]</td>\n",
       "      <td>{('C1414904', 'C0009595'): ['27047397'], ('C00...</td>\n",
       "    </tr>\n",
       "    <tr>\n",
       "      <th>105</th>\n",
       "      <td>[C1414904, C1367458, C1422223, C0004609]</td>\n",
       "      <td>{('C1414904', 'C1367458'): ['34836497', '18355...</td>\n",
       "    </tr>\n",
       "    <tr>\n",
       "      <th>165</th>\n",
       "      <td>[C1414904, C0014553, C1413059, C0004609]</td>\n",
       "      <td>{('C1414904', 'C0014553'): ['12770685'], ('C00...</td>\n",
       "    </tr>\n",
       "    <tr>\n",
       "      <th>72</th>\n",
       "      <td>[C1414904, C4022738, C0069964, C0004609]</td>\n",
       "      <td>{('C1414904', 'C4022738'): ['36103875'], ('C40...</td>\n",
       "    </tr>\n",
       "    <tr>\n",
       "      <th>50</th>\n",
       "      <td>[C1414904, C0009595, C0030662, C0004609]</td>\n",
       "      <td>{('C1414904', 'C0009595'): ['27047397'], ('C00...</td>\n",
       "    </tr>\n",
       "    <tr>\n",
       "      <th>132</th>\n",
       "      <td>[C1414904, C4022738, C1422223, C0004609]</td>\n",
       "      <td>{('C1414904', 'C4022738'): ['36103875'], ('C40...</td>\n",
       "    </tr>\n",
       "    <tr>\n",
       "      <th>81</th>\n",
       "      <td>[C1414904, C0009952, C1419867, C0004609]</td>\n",
       "      <td>{('C1414904', 'C0009952'): ['15799783'], ('C00...</td>\n",
       "    </tr>\n",
       "    <tr>\n",
       "      <th>204</th>\n",
       "      <td>[C1414904, C0586323, C0549393, C0004609]</td>\n",
       "      <td>{('C1414904', 'C0586323'): ['16800828'], ('C05...</td>\n",
       "    </tr>\n",
       "    <tr>\n",
       "      <th>183</th>\n",
       "      <td>[C1414904, C0245382, C0030805, C0004609]</td>\n",
       "      <td>{('C1414904', 'C0245382'): ['25780644'], ('C02...</td>\n",
       "    </tr>\n",
       "    <tr>\n",
       "      <th>234</th>\n",
       "      <td>[C1414904, C0009595, C0574785, C0004609]</td>\n",
       "      <td>{('C1414904', 'C0009595'): ['27047397'], ('C00...</td>\n",
       "    </tr>\n",
       "    <tr>\n",
       "      <th>137</th>\n",
       "      <td>[C1414904, C0009595, C0242701, C0004609]</td>\n",
       "      <td>{('C1414904', 'C0009595'): ['27047397'], ('C00...</td>\n",
       "    </tr>\n",
       "    <tr>\n",
       "      <th>215</th>\n",
       "      <td>[C1414904, C0270850, C1415499, C0004609]</td>\n",
       "      <td>{('C1414904', 'C0270850'): ['9933300'], ('C027...</td>\n",
       "    </tr>\n",
       "    <tr>\n",
       "      <th>159</th>\n",
       "      <td>[C1414904, C1414925, C0048044, C0004609]</td>\n",
       "      <td>{('C1414904', 'C1414925'): ['25641668'], ('C14...</td>\n",
       "    </tr>\n",
       "    <tr>\n",
       "      <th>170</th>\n",
       "      <td>[C1414904, C1414925, C0061145, C0004609]</td>\n",
       "      <td>{('C1414904', 'C1414925'): ['25641668'], ('C14...</td>\n",
       "    </tr>\n",
       "    <tr>\n",
       "      <th>196</th>\n",
       "      <td>[C1414904, C0270850, C0751785, C0004609]</td>\n",
       "      <td>{('C1414904', 'C0270850'): ['9933300'], ('C027...</td>\n",
       "    </tr>\n",
       "    <tr>\n",
       "      <th>104</th>\n",
       "      <td>[C1414904, C1414925, C0772289, C0004609]</td>\n",
       "      <td>{('C1414904', 'C1414925'): ['25641668'], ('C14...</td>\n",
       "    </tr>\n",
       "    <tr>\n",
       "      <th>129</th>\n",
       "      <td>[C1414904, C1414925, C3179404, C0004609]</td>\n",
       "      <td>{('C1414904', 'C1414925'): ['25641668'], ('C14...</td>\n",
       "    </tr>\n",
       "    <tr>\n",
       "      <th>184</th>\n",
       "      <td>[C1414904, C0009595, C0596170, C0004609]</td>\n",
       "      <td>{('C1414904', 'C0009595'): ['27047397'], ('C00...</td>\n",
       "    </tr>\n",
       "  </tbody>\n",
       "</table>\n",
       "</div>"
      ],
      "text/plain": [
       "                                         path  \\\n",
       "153  [C1414904, C1420206, C1426735, C0004609]   \n",
       "134  [C1414904, C1414925, C0751791, C0004609]   \n",
       "27   [C1414904, C0009595, C0241705, C0004609]   \n",
       "105  [C1414904, C1367458, C1422223, C0004609]   \n",
       "165  [C1414904, C0014553, C1413059, C0004609]   \n",
       "72   [C1414904, C4022738, C0069964, C0004609]   \n",
       "50   [C1414904, C0009595, C0030662, C0004609]   \n",
       "132  [C1414904, C4022738, C1422223, C0004609]   \n",
       "81   [C1414904, C0009952, C1419867, C0004609]   \n",
       "204  [C1414904, C0586323, C0549393, C0004609]   \n",
       "183  [C1414904, C0245382, C0030805, C0004609]   \n",
       "234  [C1414904, C0009595, C0574785, C0004609]   \n",
       "137  [C1414904, C0009595, C0242701, C0004609]   \n",
       "215  [C1414904, C0270850, C1415499, C0004609]   \n",
       "159  [C1414904, C1414925, C0048044, C0004609]   \n",
       "170  [C1414904, C1414925, C0061145, C0004609]   \n",
       "196  [C1414904, C0270850, C0751785, C0004609]   \n",
       "104  [C1414904, C1414925, C0772289, C0004609]   \n",
       "129  [C1414904, C1414925, C3179404, C0004609]   \n",
       "184  [C1414904, C0009595, C0596170, C0004609]   \n",
       "\n",
       "                                         context_pmids  \n",
       "153  {('C1414904', 'C1420206'): ['26727527'], ('C14...  \n",
       "134  {('C1414904', 'C1414925'): ['25641668'], ('C14...  \n",
       "27   {('C1414904', 'C0009595'): ['27047397'], ('C00...  \n",
       "105  {('C1414904', 'C1367458'): ['34836497', '18355...  \n",
       "165  {('C1414904', 'C0014553'): ['12770685'], ('C00...  \n",
       "72   {('C1414904', 'C4022738'): ['36103875'], ('C40...  \n",
       "50   {('C1414904', 'C0009595'): ['27047397'], ('C00...  \n",
       "132  {('C1414904', 'C4022738'): ['36103875'], ('C40...  \n",
       "81   {('C1414904', 'C0009952'): ['15799783'], ('C00...  \n",
       "204  {('C1414904', 'C0586323'): ['16800828'], ('C05...  \n",
       "183  {('C1414904', 'C0245382'): ['25780644'], ('C02...  \n",
       "234  {('C1414904', 'C0009595'): ['27047397'], ('C00...  \n",
       "137  {('C1414904', 'C0009595'): ['27047397'], ('C00...  \n",
       "215  {('C1414904', 'C0270850'): ['9933300'], ('C027...  \n",
       "159  {('C1414904', 'C1414925'): ['25641668'], ('C14...  \n",
       "170  {('C1414904', 'C1414925'): ['25641668'], ('C14...  \n",
       "196  {('C1414904', 'C0270850'): ['9933300'], ('C027...  \n",
       "104  {('C1414904', 'C1414925'): ['25641668'], ('C14...  \n",
       "129  {('C1414904', 'C1414925'): ['25641668'], ('C14...  \n",
       "184  {('C1414904', 'C0009595'): ['27047397'], ('C00...  "
      ]
     },
     "execution_count": 14,
     "metadata": {},
     "output_type": "execute_result"
    }
   ],
   "source": [
    "columns_to_select = ['path', 'context_pmids']\n",
    "top_20_df = df.loc[:, columns_to_select].head(20)\n",
    "top_20_df"
   ]
  },
  {
   "cell_type": "code",
   "execution_count": 36,
   "id": "259e0bed-4063-4926-b18b-a0c4c60b7465",
   "metadata": {
    "execution": {
     "iopub.execute_input": "2024-07-16T17:26:36.989477Z",
     "iopub.status.busy": "2024-07-16T17:26:36.989322Z",
     "iopub.status.idle": "2024-07-16T17:26:36.991627Z",
     "shell.execute_reply": "2024-07-16T17:26:36.991228Z",
     "shell.execute_reply.started": "2024-07-16T17:26:36.989458Z"
    }
   },
   "outputs": [],
   "source": [
    "pd.set_option('display.max_colwidth', None)"
   ]
  },
  {
   "cell_type": "code",
   "execution_count": 6,
   "id": "5fb80075-0e36-4c47-96da-54b6bcd5c9ef",
   "metadata": {
    "execution": {
     "iopub.execute_input": "2024-07-16T17:17:12.721769Z",
     "iopub.status.busy": "2024-07-16T17:17:12.721401Z",
     "iopub.status.idle": "2024-07-16T17:17:12.801334Z",
     "shell.execute_reply": "2024-07-16T17:17:12.800559Z",
     "shell.execute_reply.started": "2024-07-16T17:17:12.721730Z"
    },
    "scrolled": true
   },
   "outputs": [
    {
     "data": {
      "text/plain": [
       "{('C1414263',\n",
       "  'C0252643'): {'14506620': 'Attenuation of renal vasopressin V2 receptor upregulation by bosentan, an ETA/ETB receptor antagonist. Circulating endothelin (ET) levels are elevated in heart failure and positively correlated with severity of heart failure. Recent studies demonstrated arginine vasopressin (AVP) V2 mRNA expression was upregulated in the inner medullary collecting duct (IMCD) of cardiomyopathic hamsters (CM). The goal of the present studies was to determine if ET-1 is involved in upregulating the expression of AVP V2 mRNA in the IMCD of CM by using a mixed ETA/ETB receptor antagonist bosentan. Our results showed plasma ET-1 levels increased in CM hamsters and related with the severity of heart failure. The competitive reverse-transcriptase polymerase chain reaction (RT-PCR) method was used to quantify the expression of AVP V2 and aquaporin 2 (AQP2) mRNA in the IMCD. AVP V2 mRNA expression was elevated in placebo-treated CM hamsters and decreased significantly with 14 days of bosentan treatment. Similar results were seen with AQP2 mRNA. The effect of bosentan in normalizing the expression of AVP V2 and AQP2 mRNA in the IMCD of CM was confirmed by in situ hybridization studies. Bosentan treatments reduced the intensitites of the signals in the IMCD of CM hamsters to that seen in normal hamsters. This study demonstrated that AVP V2 and AQP2 mRNA are upregulated in CM hamsters and these upregulations are attenuated by bosentan treatment, suggesting that ET-1 plays a role in upregulating the expression of AVP V2 mRNA in CM hamsters. ', '7921608': 'Effects of bosentan (Ro 47-0203), an ETA-, ETB-receptor antagonist, on regional haemodynamic responses to endothelins in conscious rats. 1. Regional haemodynamic responses to endothelin (ET)-1, -2 and -3 and big ET-1 (all at 500 pmol kg-1) were assessed in the same conscious Long Evans rats (n = 8) in the absence or presence of the mixed ETA-, ETB-receptor antagonist, Ro 47-0203 (bosentan; 30 mg kg-1). 2. Bosentan blocked the initial depressor, tachycardic and hindquarters hyperaemic vasodilator effects of ET-1, -2 and -3, and substantially curtailed the primary renal and secondary hindquarters vasoconstrictor responses. Bosentan did not inhibit the initial mesenteric vasoconstrictor action of ET-1, but reduced the duration of the later mesenteric vasoconstriction. In contrast, bosentan delayed the rate of onset, and reduced the duration, of the mesenteric vasoconstrictor actions of ET-2 and ET-3. The most likely explanation of this finding is that ET-1, but not ET-2 or ET-3, triggered a covert mesenteric vasodilator mechanism which was antagonized by bosentan. 3. Bosentan blocked all the effects of big ET-1, and, in a separate group of rats (n = 7), blocked all the haemodynamic effects of a lower dose of ET-1 (50 pmol kg-1), with the exception of a slight mesenteric vasoconstriction. 4. The most straightforward explanation of the results is that the major haemodynamic effects of ET-1, -2 and -3, and all the effects of big ET-1, are mediated through ETA- and/or ETB-receptors that are effectively antagonized by bosentan. ', '8640984': 'Endothelin-1 is involved in norepinephrine-induced ventricular hypertrophy in vivo. Acute effects of bosentan, an orally active, mixed endothelin ETA and ETB receptor antagonist. Endothelin-1 (ET-1) has potent effects on cell growth and induces hypertrophy of cultured ventricular myocytes. Catecholamines increase expression of ET-1 mRNA by cultured myocytes. We investigated the role of endogenous ET-1 in catecholamine-induced hypertrophy in vivo by studying the effects of continuous norepinephrine infusion on physical and molecular markers of ventricular hypertrophy, ventricular and noncardiac expression of ET-1 mRNA, and the acute effects of bosentan, an orally active ETA and ETB receptor antagonist. Seventy male Sprague-Dawley rats (175 to 200 g) were divided into four groups: (1) sham-operated rats, (2) norepinephrine-infused rats (600 micrograms.kg-1.h-1 by subcutaneous osmotic pump, up to 7 days), (3) sham-operated rats given bosentan, and (4) norepinephrine-infused rats given bosentan. Bosentan (100 mg/kg once daily) was administered by gavage for 6 days starting 1 day before operation. Norepinephrine caused increases in absolute ventricular weight and ratios of ventricular weight to body weight and ventricular RNA to protein. Ventricular expression of mRNAs for atrial natriuretic factor, skeletal alpha-actin, and beta-myosin heavy chain, which in adult rat ventricle are indicators of hypertrophy, also increased. Ventricular expression of ET-1 mRNA was elevated in the norepinephrine group at 1, 2, and 3 days. By 5 days, this had fallen to control levels. In lung, kidney, and skeletal muscle, norepinephrine did not significantly increase expression of ET-1 mRNA. Bosentan attenuated norepinephrine-induced increases in ventricular weight, ratio of RNA to protein, and expression of skeletal alpha-actin mRNA and beta-myosin heavy chain mRNA at 5 days, but it did not attenuate increased ventricular expression of atrial natriuretic factor mRNA. These data suggest that endogenous ET-1 plays a direct role in mediating norepinephrine-induced ventricular hypertrophy in vivo. ', '8528554': 'Effects of the ETA/ETB receptor antagonist, bosentan on endothelin-1-induced myocardial ischaemia and oedema in the rat. 1. The purpose of this study were to assess the role of ETB receptors in mediating endothelin-1 (ET-1)-induced myocardial ischaemia and oedema in rats and to study the inhibitory action of the novel nonpeptide ETA/ETB receptor antagonist, bosentan on these actions of ET-1. 2. Intravenous bolus injection of ET-1 (1 nmol kg-1) into anaesthetized rats produced marked ST segment elevation of the electrocardiogram without causing arrhythmias. ST segment elevation developed within 30-50 s and persisted for at least 30 min following injection of the peptide. 3. Pretreatment of the animals with bosentan (10 mg kg-1, i.v.) inhibited on average by 96% the ST segment elevation elicited by ET-1 (1 nmol kg-1) compared to the 82% inhibition observed with the ETA receptor-selective antagonist, FR 139317 (2.5 mg kg-1, i.v.). 4. Bolus injection of ET-1 (1 nmol kg-1, i.v.) to conscious chronically catheterized rats evoked a transient depressor response followed by a prolonged pressor effect. Corresponding to changes in blood pressure, a transient tachycardia and a sustained bradycardia were observed. ET-1 (1 nmol kg-1) enhanced albumin extravasation by 119 and 93% in the left ventricle and right atrium, respectively, as measured by the local extravascular accumulation of Evans blue dye. 5. Pretreatment of the animals with bosentan (10 mg kg-1) inhibited by 71 and 90% the depressor and pressor actions of ET-1 (1 nmol kg-1) and the accompanying tachycardia and bradycardia, respectively. FR 139317 (2.5 mg kg-1) attenuated the pressor response to ET-1 and accompanying bradycardia by 75%, without affecting the depressor action and accompanying tachycardia. ET-1-induced albumin extravasation was completely inhibited by bosentan (10 mg kg-1) both in the left ventricle and right atrium, compared to the 86% inhibition observed with FR 139317 (2.5 mg kg-1).6. Like ET-1, the ETB receptor-selective agonist, IRL 1620 (0.3 and 1 nmol kg-1, i.v.) also produced dose-dependent ST segment elevation in anaesthetized rats and enhanced albumin extravasation (up to141% of control) in the left ventricle and right atrium, respectively, in conscious rats. These effects ofIRL 1620 were completely prevented by bosentan (10 mg kg-1).7. These results indicate that ETB receptors, albeit to a lesser extent than ETA receptors, are also involved in mediating ET-1-induced myocardial ischaemia and oedema in the rat, and suggest the therapeutic potential for bosentan in the treatment of ischaemic myocardial diseases. ', '24836182': 'Efficacy of bosentan, a dual ETA and ETB endothelin receptor antagonist, in experimental diabetes induced vascular endothelial dysfunction and associated dementia in rats. The study was designed to investigate the efficacy of bosentan a dual endothelin (ETA and ETB) receptor antagonist in experimental diabetes induced vascular endothelial dysfunction and associated dementia. Diabetes was induced in rats by administration of a single dose (50mg/kg, i.p.) of streptozotocin (STZ). Drug treatment was started after 1 month of STZ administration and treatment was continued until the end of the study. Morris water maze (MWM) test was employed for testing spatial learning and memory. Endothelial function was measured on isolated aortic rings using student physiograph. Serum glucose, body weight, serum nitrite/nitrate, brain thiobarbituric acid reactive species (TBARS), reduced glutathione (GSH) levels, and brain acetylcholinesterase activity were also tested. STZ treatment resulted in significant development of cognitive and vascular endothelial deficits, manifested in the terms of endothelial dysfunction, impairment of learning and memory, reduction in body weight and serum nitrite/nitrate levels along with increase in serum glucose, brain acetylcholinesterase activity, TBARS, and decreased GSH levels. Treatment of bosentan attenuated diabetes induced impairment of learning, memory, endothelial function, and various biochemical parameters. It may be concluded that bosentan has shown efficacy in STZ induced cognitive and vascular endothelial deficits. Thus, endothelin receptors can be considered as a potential pharmacological target for the management of experimental diabetes induced vascular endothelial dysfunction and associated dementia. ', '16335785': 'Bosentan, the mixed ETA-ETB endothelin receptor antagonist, attenuated oxidative stress after experimental myocardial ischemia and reperfusion. Endothelin-1 has been shown to be associated with greater myocardial ischemia and reperfusion injury in which oxidative stress plays a key role. The efficacy of bosentan, a mixed ETA-ETB endothelin receptor antagonist, in protecting the myocardium from ischemia-reperfusion injury and oxidative stress was studied in open-chest Wistar rats. Anesthetized adult male rats (175-250 g b wt) underwent sham operation (SHAM group) or were subjected to 40 min of myocardial ischemia (MI) induced by temporary occlusion of the left anterior descending coronary artery (LAD) followed by 2 h reperfusion (R). Rats submitted to the MI-R protocol were administered bosentan at a dose of 3 mg/kg i.v. 20 min (BOS group) or saline (CON group) 20 min post-occlusion of LAD. After the 2 h reperfusion period the animals were euthanized and the heart rapidly excised. Cardiac tissue samples were snap frozen in liquid nitrogen for biochemical assay and were fixed in 10% formalin solution for histologic evaluation. Myocardial I-R resulted in a significant increase (p < 0.05) in the myocardial malondialdehyde levels and a decrease (p < 0.01) in the myocardial reduced glutathione content. These changes were associated with significant decreases in the myocardial activity of antioxidant enzymes superoxide dismutase (p < 0.05) and catalase (p < 0.01) and severe tissue damage in the jeopardized myocardium in the CON group as compared with the non-myocardial ischemia-reperfusion (NMI-R) SHAM group. Bosentan exerted marked tissue protective effect as assessed by histologic evaluation of the myocardium. The drug significantly (p < 0.05) attenuated myocardial oxidative stress and restored the cellular antioxidant defense mechanisms as compared with the saline-treated controls subjected to the MI-R protocol. Furthermore, bosentan also exerted a marked effect on peripheral hemodynamics and heart rate during the reperfusion phase (data reported elsewhere). These results are consistent with the concept that endothelin-1 may be involved in the pathogenesis of myocardial ischemia and infarction. This study demonstrates the antioxidant effect of non-selective endothelin receptor antagonism elucidating that, part of the aetiology of ischemia and reperfusion induced myocardial injury involves impaired antioxidant defenses. ', '9635152': 'Analysis of effects of bosentan (Ro 47-0203), a nonpeptide endothelin ETA/ETB receptor antagonist, in the hind-limb vascular bed of the cat. The effects of bosentan (Ro 47-0203), an endothelin A and B receptor antagonist, on responses to endothelin-1, sarafotoxin 6c, angiotensin II, and arginine vasopressin were investigated in the hind-limb vascular bed of the cat. Under constant-flow conditions, intraarterial injections of endothelin-1 and sarafotoxin 6c induced biphasic changes in hind-limb perfusion pressure characterized by an initial decrease followed by a secondary increase in perfusion pressure. The vasodilator and vasoconstrictor components of the biphasic responses to endothelin-1 and sarafotoxin 6c were reduced by bosentan, and the endothelin receptor antagonist reduced baseline systemic arterial and hind-limb perfusion pressures. Bosentan decreased vasoconstrictor responses to lower doses of angiotensin II, whereas responses to higher doses of angiotensin II and responses to vasopressin, U46619, BAY K8644, norepinephrine, acetylcholine, bradykinin, levcromakalim, PGE1, adrenomedullin, and calcitonin gene-related peptide were not altered. Vasoconstrictor responses to ET-1 were not altered by the angiotensin AT1 receptor antagonist DuP 532 or the AT2 receptor antagonist PD123,319. The results of the present study show that bosentan attenuates vasodilator and vasoconstrictor responses to endothelin-1 and sarafotoxin 6c and vasoconstrictor responses to lower doses of angiotensin II in the hind-limb vascular bed of the cat. These results suggest that endothelin may be involved in mediating responses to lower doses of angiotensin II and in the maintenance of baseline tone in the systemic vascular bed of the cat. ', '7544236': 'Endothelin-1 expression in blood vessels of DOCA-salt hypertensive rats treated with the combined ETA/ETB endothelin receptor antagonist bosentan. In previous studies it has been shown that blood vessels of deoxycorticosterone acetate (DOCA) salt hypertensive rats present significantly higher immunoreactive ET-1 (ir-ET-1) content and increased ET-1 gene expression. DOCA-salt hypertensive rats respond to treatment with the combined ETA/ETB endothelin receptor antagonist bosentan with lowering of blood pressure. In the present study, we investigated the ir-ET-1 levels and the expression of the ET-1 gene in blood vessels of DOCA-salt hypertensive rats treated or not treated with bosentan. Blood pressure was significantly lower in bosentan-treated rats (185 +/- 6 mmHg; 1 mmHg = 133.3 Pa) compared with DOCA-salt hypertensive rats (203 +/- 4 mmHg; p < 0.01). Plasma ir-ET-1 concentration was slightly but significantly elevated (p < 0.01) in DOCA-salt hypertensive rats compared with uninephrectomized control rats, and was further increased (p < 0.01) in bosentan-treated rats. The tissue wet weight and ir-ET-1 content of segments of thoracic aorta were significantly increased (p < 0.01) in DOCA-salt hypertensive rats in comparison with control rats, but were similar in bosentan-treated DOCA-salt rats. The abundance of ET-1 mRNA measured by Northern blot analysis in thoracic aorta and the ir-ET-1 content were attenuated by bosentan treatment. Tissue wet weight and ir-ET-1 content in the mesenteric vascular bed were similar in bosentan-treated and -untreated DOCA-salt rats, and were significantly higher in both groups than in control rats (p < 0.01).(ABSTRACT TRUNCATED AT 250 WORDS) ', '15629255': 'Effect of bosentan (ETA/ETB receptor antagonist) on metabolic changes during stress and diabetes. Elevated plasma ET-1 levels have been reported in several conditions such as stress and diabetes. ET-1 is found to cause insulin resistance and to stimulate liver glycogenolysis. The question arises whether ET-1 has a role in the metabolic changes occurring in such conditions. To test this, we studied the possible effect of the endothelin receptor antagonist, bosentan (50 and 100 mg kg(-1)) on serum glucose and insulin levels as well as on liver glycogen contents in normoglycemic stressed animals. In addition, the effect of bosentan on serum glucose and insulin levels in both mild and severely diabetic rats and its effect on insulin-induced hypoglycemia were also determined. Restraining water immersion stress was used as a model for severe stress reported to elevate plasma ET-1 level. Mild diabetes was induced in rats by intraperitoneal injection of a low dose of streptozotocin (38 mg kg(-1)) while severe diabetes was induced by intraperitoneal injection of a higher dose of streptozotocin (45 mg kg(-1)). Bosentan partially prevented stress-induced both hyperglycemia and decrease in glycogen content while it completely blocked the stress-induced decrease in insulin level in normoglycemic stressed rats. Bosentan also decreased serum glucose level without any effect on insulin secretion in mild diabetic rats and potentiated the hypoglycemic action of insulin. ', '20404221': 'Greater functional ETB receptor antagonism with bosentan than sitaxsentan in healthy men. Endothelin (ET)-1 is implicated in the development of hypertension and a role for endothelin receptor antagonists (ETRAs) in the management of hypertension is emerging. ETRAs are classified as selective or mixed depending on their degree of ET(A):ET(B) receptor blockade. As yet, there are no comparative studies in humans that measure biochemical and functional ET(B) blockade achieved by currently licensed ETRAs. We therefore investigated the effects of bosentan, a mixed ETRA, and sitaxsentan, an ET(A) selective ETRA, on plasma ET-1 concentrations and ET(B)-mediated vasodilatation to ET-3. In a randomized, double-blind, 3-way crossover study, 10 healthy subjects received 7 days of placebo, bosentan 250 mg, and sitaxsentan 100 mg daily. Plasma ET-1 concentrations were measured at baseline and 3 hours on day 1 and predose on day 7. Subjects also underwent forearm blood flow measurements on day 7 of each period with brachial artery infusion of ET-3 (60 pmol/min for 5 minutes). Bosentan, but not placebo or sitaxsentan, significantly increased plasma ET-1 concentrations at day 7 (+0.70+/-0.20 pg/mL; P<0.005). Maximal ET-3-mediated vasodilatation was seen at 2 minutes following placebo (30+/-6%) and sitaxsentan (21+/-11%); however, this was abolished by bosentan, with a reduction in forearm blood flow of 8+/-3% (P<0.01 versus placebo and sitaxsentan). Bosentan but not sitaxsentan increases circulating plasma ET-1 levels and abolishes acute ET-3-mediated vasodilatation, confirming that the mixed ET(A/B) antagonist bosentan, but not the selective ET(A) antagonist sitaxsentan, causes functional ET(B) blockade at clinically relevant doses in healthy human subjects. ', '7858879': 'Role of endogenous endothelin in myocardial and coronary endothelial injury after ischaemia and reperfusion in rats: studies with bosentan, a mixed ETA-ETB antagonist. 1. Previous studies suggested that endothelin-1 (ET-1) may play a role in myocardial ischaemia and reperfusion. This study was designed to test the effect of a new nonpeptide antagonist of endothelin ETA and ETB receptors, bosentan, on myocardial infarct size, ventricular arrhythmias, and coronary endothelial dysfunction after ischaemia and reperfusion. 2. Anaesthetized male Wistar rats were subjected to 20 min ischaemia (left coronary artery occlusion) followed by 1 h (for the evaluation of coronary endothelial dysfunction) or 2 h (for the evaluation of infarct size) reperfusion, or 5 min ischaemia followed by 15 min reperfusion (for the evaluation of reperfusion arrhythmias). Vascular studies were performed on 1.5-2 mm coronary segments (internal diameter 250-300 microns) removed distal to the site of occlusion and mounted in wire myographs for isometric tension recording. Area at risk and infarct size were determined by Indian ink injection and triphenyl tetrazolium staining, using computerized analysis of enlarged sections after colour video acquisition. 3. Bosentan, administered at a dose which virtually abolished the pressor response to big ET-1 (3 mg kg-1, i.v. before ischaemia) did not affect heart rate, arterial pressure or the rate pressure product before ischaemia, during ischaemia and during reperfusion. Bosentan did not affect the incidence of reperfusion-induced ventricular fibrillation (controls: 86%, n = 14; bosentan: 93%, n = 15), and did not modify infarct size (% of area at risk: controls: 63 +/- 4, n = 10; bosentan: 60 +/- 6, n = 8). Ischaemia followed by reperfusion markedly reduced the endothelium-dependent relaxations to acetylcholine(maximal response: sham: 59 +/- 4%, n = 9; ischaemia-reperfusion: 26+/- 6%, n = 8; P<0.01), characteristic of reperfusion-induced endothelial dysfunction, and this dysfunction was not prevented by bosentan (maximal response to acetylcholine: 25 +/-5%, n = 9; P<0.01 vs sham; P = NS vs ischaemia/reperfusion).4. These experiments suggest that endogenous endothelin does not contribute to myocyte or coronary endothelial injury in this rat model of ischaemia and reperfusion. ', '28805809': 'X-ray structures of endothelin ETB receptor bound to clinical antagonist bosentan and its analog. Endothelin receptors (ETRs) have crucial roles in vascular control and are targets for drugs designed to treat circulatory-system diseases and cancer progression. The nonpeptide dual-ETR antagonist bosentan is the first oral drug approved to treat pulmonary arterial hypertension. Here we report crystal structures of human endothelin ETB receptor bound to bosentan and to the ETB-selective analog K-8794, at 3.6-A and 2.2-A resolution, respectively. The K-8794-bound structure reveals the detailed water-mediated hydrogen-bonding network at the transmembrane core, which could account for the weak negative allosteric modulation of ETB by Na+ ions. The bosentan-bound structure reveals detailed interactions with ETB, which are probably conserved in the ETA receptor. A comparison of the two structures shows unexpected similarity between antagonist and agonist binding. Despite this similarity, bosentan sterically prevents the inward movement of transmembrane helix 6 (TM6), and thus exerts its antagonistic activity. These structural insights will facilitate the rational design of new ETR-targeting drugs. ', '7721390': 'ETA and ETB receptors mediate contraction to endothelin-1 in renal artery of aging SHR. Effects of FR139317 and bosentan. We characterized vascular endothelin receptors of the renal artery from adult (12 to 16 weeks of age) and old (72 to 76 weeks) spontaneously hypertensive rats (SHR) and age-matched Wistar-Kyoto rats (WKY). Vessels were suspended in organ chambers (37 degrees C, aerated with 95% O2/5% CO2), and isometric tension was recorded. The endothelin-A (ETA) receptor antagonist FR139317, the combined ETA/ETB receptor antagonist bosentan, and the ETB-selective agonist sarafotoxin S6c were used. In old (and less so in adult) SHR, cumulative concentration-contraction curves to endothelin-1 showed a small contraction resistant to FR139317 (10(-5) mol/L) at 3 x 10(-9) to 10(-8) mol/L endothelin-1, which was completely inhibited by bosentan (10(-5) mol/L). This FR139317-resistant contraction to endothelin-1 was not present in WKY. Furthermore, in the presence of FR139317 (10(-5) mol/L), sarafotoxin S6c induced a stronger contraction in old SHR than in WKY (P < .05). In rings contracted with norepinephrine, sarafotoxin S6c caused endothelium-dependent relaxations in both strains; these relaxations were blocked by N omega-nitro-L-arginine methyl ester, indicating that nitric oxide is the mediator. In WKY but not SHR, release of nitric oxide by sarafotoxin S6c increased with age (P < .05). Thus, both ETA and ETB receptors mediate contraction to endothelin-1 in the renal artery from SHR but not WKY. ETB receptors on vascular smooth muscle seem to be unmasked with age in SHR, whereas those on endothelium (mediating nitric oxide release) exhibit more efficient responses with age in WKY. '}}"
      ]
     },
     "execution_count": 6,
     "metadata": {},
     "output_type": "execute_result"
    }
   ],
   "source": [
    "# # get all abstract texts along a specific path as (key: edge(cui,cui) : {(value) {'pmid':'abstract'}})\n",
    "path_153_context_pmids = df.loc[0]['context_pmids']\n",
    "path_context_dict = (text_util.get_path_context(path_153_context_pmids,sents_db))\n",
    "path_context_dict\n",
    "# pmid_list = [pubid for path in path_context_dict.values() for pubid in path.keys()]\n",
    "# pmid_list"
   ]
  },
  {
   "cell_type": "markdown",
   "id": "9c4c9a3d-3a14-4b89-a03f-fd3ae2dc5fdd",
   "metadata": {},
   "source": [
    "### 1.1. PredicatorGraph -> a Subset of Semantic Graph with only UMLS term and Predicates"
   ]
  },
  {
   "cell_type": "code",
   "execution_count": 7,
   "id": "72243d8a-3b22-43c7-8464-4c033ec4dd31",
   "metadata": {
    "execution": {
     "iopub.execute_input": "2024-07-16T17:17:18.633766Z",
     "iopub.status.busy": "2024-07-16T17:17:18.633341Z",
     "iopub.status.idle": "2024-07-16T17:17:18.637773Z",
     "shell.execute_reply": "2024-07-16T17:17:18.636999Z",
     "shell.execute_reply.started": "2024-07-16T17:17:18.633726Z"
    }
   },
   "outputs": [],
   "source": [
    "workingFolder = \\\n",
    "    '/lustre/acslab/shared/Agatha_shared/2021_11_22'\n",
    "\n",
    "model_path = f'{workingFolder}/model_epoch5_darwin.pt'\n",
    "embedding_path = f'{workingFolder}/embeddings/predicate_subset'\n",
    "entity_db = f'{workingFolder}/predicate_entities.sqlite3'\n",
    "graph_db = f'{workingFolder}/predicate_graph.sqlite3'"
   ]
  },
  {
   "cell_type": "code",
   "execution_count": 8,
   "id": "1d237496-b0df-4719-b76a-48894a4569f9",
   "metadata": {
    "execution": {
     "iopub.execute_input": "2024-07-16T17:17:18.638887Z",
     "iopub.status.busy": "2024-07-16T17:17:18.638670Z",
     "iopub.status.idle": "2024-07-16T17:17:20.331380Z",
     "shell.execute_reply": "2024-07-16T17:17:20.330712Z",
     "shell.execute_reply.started": "2024-07-16T17:17:18.638863Z"
    }
   },
   "outputs": [],
   "source": [
    "model = torch.load(model_path)\n",
    "\n",
    "model.configure_paths(\n",
    "  embedding_dir=embedding_path,\n",
    "  entity_db=entity_db,\n",
    "  graph_db=graph_db,\n",
    ")\n",
    "\n",
    "model = model.eval()"
   ]
  },
  {
   "cell_type": "code",
   "execution_count": 50,
   "id": "7782a356-1df0-4c93-8764-95bd2d8f0b70",
   "metadata": {
    "execution": {
     "iopub.execute_input": "2024-07-15T20:27:00.625420Z",
     "iopub.status.busy": "2024-07-15T20:27:00.625035Z",
     "iopub.status.idle": "2024-07-15T20:27:00.816977Z",
     "shell.execute_reply": "2024-07-15T20:27:00.816504Z",
     "shell.execute_reply.started": "2024-07-15T20:27:00.625381Z"
    }
   },
   "outputs": [
    {
     "data": {
      "text/plain": [
       "[0.22483156621456146]"
      ]
     },
     "execution_count": 50,
     "metadata": {},
     "output_type": "execute_result"
    }
   ],
   "source": [
    "model.predict_from_terms([('m:c1417434', 'm:c0360556')])"
   ]
  },
  {
   "cell_type": "code",
   "execution_count": 9,
   "id": "532f0d41-9a01-4f01-9475-e02bc7420c1d",
   "metadata": {
    "execution": {
     "iopub.execute_input": "2024-07-16T17:17:25.027104Z",
     "iopub.status.busy": "2024-07-16T17:17:25.026482Z",
     "iopub.status.idle": "2024-07-16T17:17:25.032671Z",
     "shell.execute_reply": "2024-07-16T17:17:25.031879Z",
     "shell.execute_reply.started": "2024-07-16T17:17:25.027062Z"
    }
   },
   "outputs": [],
   "source": [
    "def extract_pred_cui_pairs(model):\n",
    "    # nodelist = model.graph.keys() => 'p:c0003128:causes:c1273869','p:c0401187:compared_with:c3522497','p:c0002921:treats(coref):c0745730',\n",
    "    nodelist = model.graph.keys()\n",
    "    pred_pairs_list = [p for p in tqdm(nodelist) if p[0] == 'p']\n",
    "    \n",
    "    pred_cui_pairs_set = set()\n",
    "    \n",
    "    for p in tqdm(pred_pairs_list):\n",
    "        p_split = p.upper().split(':')\n",
    "        s = p_split[1]\n",
    "        o = p_split[-1]\n",
    "        pred_cui_pairs_set.add(tuple(sorted([s, o])))\n",
    "    \n",
    "    return pred_cui_pairs_set"
   ]
  },
  {
   "cell_type": "code",
   "execution_count": 10,
   "id": "e47058fa-583f-43df-a7fa-be0f4c8c0ca0",
   "metadata": {
    "execution": {
     "iopub.execute_input": "2024-07-16T17:17:27.648221Z",
     "iopub.status.busy": "2024-07-16T17:17:27.647845Z",
     "iopub.status.idle": "2024-07-16T17:18:37.616419Z",
     "shell.execute_reply": "2024-07-16T17:18:37.615272Z",
     "shell.execute_reply.started": "2024-07-16T17:17:27.648184Z"
    }
   },
   "outputs": [
    {
     "name": "stderr",
     "output_type": "stream",
     "text": [
      "100%|██████████| 26953485/26953485 [00:10<00:00, 2694708.73it/s]\n",
      "100%|██████████| 26535915/26535915 [00:40<00:00, 652418.86it/s]"
     ]
    },
    {
     "name": "stdout",
     "output_type": "stream",
     "text": [
      "19086440\n"
     ]
    },
    {
     "name": "stderr",
     "output_type": "stream",
     "text": [
      "\n"
     ]
    }
   ],
   "source": [
    "# Replace `model` with your actual model instance containing the graph\n",
    "pred_cui_pairs_set = extract_pred_cui_pairs(model)\n",
    "print(len(pred_cui_pairs_set))"
   ]
  },
  {
   "cell_type": "markdown",
   "id": "d7cc2c8b-72a9-4950-9434-ebbf27e012b1",
   "metadata": {},
   "source": [
    "### 1.2. SemrepHandler ==> Identify Predicates"
   ]
  },
  {
   "cell_type": "code",
   "execution_count": 11,
   "id": "9f4d643f-df73-42a0-ae50-4403ce2e0bd6",
   "metadata": {
    "execution": {
     "iopub.execute_input": "2024-07-16T17:18:40.275540Z",
     "iopub.status.busy": "2024-07-16T17:18:40.275285Z",
     "iopub.status.idle": "2024-07-16T17:18:40.279086Z",
     "shell.execute_reply": "2024-07-16T17:18:40.278392Z",
     "shell.execute_reply.started": "2024-07-16T17:18:40.275515Z"
    }
   },
   "outputs": [],
   "source": [
    "nlm_soft_folder = '/lustre/acslab/users/3281/SemRep'\n",
    "sr_temp_folder = '/lustre/acslab/users/3281/semrep_temp_2024'\n",
    "sr_replace_utf8_path = '/lustre/acslab/users/3281/SemRep/replace_utf8.jar'"
   ]
  },
  {
   "cell_type": "code",
   "execution_count": 12,
   "id": "23ac81f4-8e34-4931-8fd6-532779b9caba",
   "metadata": {
    "execution": {
     "iopub.execute_input": "2024-07-16T17:18:41.172048Z",
     "iopub.status.busy": "2024-07-16T17:18:41.171632Z",
     "iopub.status.idle": "2024-07-16T17:19:12.602731Z",
     "shell.execute_reply": "2024-07-16T17:19:12.602284Z",
     "shell.execute_reply.started": "2024-07-16T17:18:41.171937Z"
    }
   },
   "outputs": [
    {
     "name": "stdout",
     "output_type": "stream",
     "text": [
      "Existing services killed.\n",
      "\n",
      "SKR and WSD services started.\n"
     ]
    }
   ],
   "source": [
    "sr_h = SemRepHandler(\n",
    "    nlm_soft_path=nlm_soft_folder,\n",
    "    temp_folder=sr_temp_folder,\n",
    "    replace_utf8_path=sr_replace_utf8_path,\n",
    ")"
   ]
  },
  {
   "cell_type": "code",
   "execution_count": 13,
   "id": "2bb2ed62-202b-438f-8485-f4ba95b84460",
   "metadata": {
    "execution": {
     "iopub.execute_input": "2024-07-16T17:19:15.582335Z",
     "iopub.status.busy": "2024-07-16T17:19:15.581882Z",
     "iopub.status.idle": "2024-07-16T17:19:15.586238Z",
     "shell.execute_reply": "2024-07-16T17:19:15.585659Z",
     "shell.execute_reply.started": "2024-07-16T17:19:15.582290Z"
    }
   },
   "outputs": [],
   "source": [
    "sr_h.sr_binary_path = Path('/lustre/acslab/users/3281/SemRep/public_semrep/bin/semrep.v1.9_2021AB')"
   ]
  },
  {
   "cell_type": "code",
   "execution_count": 14,
   "id": "b67af5b9-2c0a-4aee-8502-498442ac3b48",
   "metadata": {
    "execution": {
     "iopub.execute_input": "2024-07-16T17:19:43.885596Z",
     "iopub.status.busy": "2024-07-16T17:19:43.885117Z",
     "iopub.status.idle": "2024-07-16T17:19:54.323288Z",
     "shell.execute_reply": "2024-07-16T17:19:54.322381Z",
     "shell.execute_reply.started": "2024-07-16T17:19:43.885556Z"
    }
   },
   "outputs": [
    {
     "name": "stdout",
     "output_type": "stream",
     "text": [
      "Run SemRep in interactive mode...\n",
      "Processing input with replace_utf8.jar utility...\n"
     ]
    },
    {
     "data": {
      "text/plain": [
       "{'s:user_input_0:1': {'sent_text': 'EDNRB and Bosentan ',\n",
       "  'terms': [{'CID': 'C1414263',\n",
       "    'pref_name': 'EDNRB gene',\n",
       "    'extracted_text': 'EDNRB',\n",
       "    'label': 'UMLS',\n",
       "    'sem_types': ['gngm'],\n",
       "    'negated': False},\n",
       "   {'CID': 'C0252643',\n",
       "    'pref_name': 'bosentan',\n",
       "    'extracted_text': 'Bosentan',\n",
       "    'label': 'UMLS',\n",
       "    'sem_types': ['orch', 'phsu'],\n",
       "    'negated': False}],\n",
       "  'relations': []}}"
      ]
     },
     "execution_count": 14,
     "metadata": {},
     "output_type": "execute_result"
    }
   ],
   "source": [
    "sr_h.ProcessList_parallel(['EDNRB and Bosentan'])"
   ]
  },
  {
   "cell_type": "code",
   "execution_count": 54,
   "id": "3d9b27b3-b9a7-4bc3-b4d2-f5dcd37086b6",
   "metadata": {
    "execution": {
     "iopub.execute_input": "2024-07-15T20:28:32.320025Z",
     "iopub.status.busy": "2024-07-15T20:28:32.319585Z",
     "iopub.status.idle": "2024-07-15T20:28:32.323608Z",
     "shell.execute_reply": "2024-07-15T20:28:32.322859Z",
     "shell.execute_reply.started": "2024-07-15T20:28:32.319982Z"
    }
   },
   "outputs": [],
   "source": [
    "# pd.DataFrame(sr_h.ProcessList_parallel(['WFS1 and Pioglitazone'])['s:user_input_0:1']['terms'])"
   ]
  },
  {
   "cell_type": "markdown",
   "id": "69ab28a3-5975-4496-a1d4-8dbac5d1a910",
   "metadata": {},
   "source": [
    "## 2. OPENAI LLM Generate Response"
   ]
  },
  {
   "cell_type": "code",
   "execution_count": 15,
   "id": "e3abbd5f-5d89-4c72-8148-33835a6b6ebe",
   "metadata": {
    "execution": {
     "iopub.execute_input": "2024-07-16T17:19:56.480757Z",
     "iopub.status.busy": "2024-07-16T17:19:56.480452Z",
     "iopub.status.idle": "2024-07-16T17:19:56.520937Z",
     "shell.execute_reply": "2024-07-16T17:19:56.520354Z",
     "shell.execute_reply.started": "2024-07-16T17:19:56.480723Z"
    }
   },
   "outputs": [],
   "source": [
    "llm_model = \"gpt-4o\"\n",
    "# swap it with gpt 3.5\n",
    "open('OAI_CONFIG_LIST').read().strip()\n",
    "client = OpenAI(\n",
    "    api_key=open('OAI_CONFIG_LIST').read().strip(),\n",
    ")"
   ]
  },
  {
   "cell_type": "code",
   "execution_count": 16,
   "id": "9894ffef-dcf3-4bf6-99ce-66b6a3807a75",
   "metadata": {
    "execution": {
     "iopub.execute_input": "2024-07-16T17:19:57.451249Z",
     "iopub.status.busy": "2024-07-16T17:19:57.451011Z",
     "iopub.status.idle": "2024-07-16T17:19:59.709774Z",
     "shell.execute_reply": "2024-07-16T17:19:59.708583Z",
     "shell.execute_reply.started": "2024-07-16T17:19:57.451223Z"
    }
   },
   "outputs": [],
   "source": [
    "chat_completion = client.chat.completions.create(\n",
    "    messages=[\n",
    "        {\n",
    "            \"role\": \"user\",\n",
    "            \"content\": \"Hi, how are you?\",\n",
    "        }\n",
    "    ],\n",
    "    model=llm_model,\n",
    "    temperature=0.5,\n",
    ")"
   ]
  },
  {
   "cell_type": "code",
   "execution_count": 17,
   "id": "15049824-6d6b-4edb-97ee-b2b08e9f4846",
   "metadata": {
    "execution": {
     "iopub.execute_input": "2024-07-16T17:19:59.711700Z",
     "iopub.status.busy": "2024-07-16T17:19:59.711360Z",
     "iopub.status.idle": "2024-07-16T17:19:59.717372Z",
     "shell.execute_reply": "2024-07-16T17:19:59.716562Z",
     "shell.execute_reply.started": "2024-07-16T17:19:59.711659Z"
    }
   },
   "outputs": [],
   "source": [
    "def oai_get_response(msg, temp, top_p, seed=None):\n",
    "    chat_completion = client.chat.completions.create(\n",
    "        messages=[\n",
    "            {\n",
    "                \"role\": \"user\",\n",
    "                \"content\": msg,\n",
    "            }\n",
    "        ],\n",
    "        model=llm_model,\n",
    "        temperature=temp,\n",
    "        top_p=top_p,\n",
    "    )\n",
    "    \n",
    "    reply_text = chat_completion.choices[0].message.content\n",
    "    \n",
    "    return reply_text"
   ]
  },
  {
   "cell_type": "markdown",
   "id": "21dae205-0691-420f-8fc9-0a0f2d416425",
   "metadata": {},
   "source": [
    "### 2.1. Retrieve abstracts from pmids per path:"
   ]
  },
  {
   "cell_type": "code",
   "execution_count": 31,
   "id": "cb66cad9-e433-4fa6-acf3-eae5462ffc13",
   "metadata": {
    "execution": {
     "iopub.execute_input": "2024-07-16T15:53:50.000684Z",
     "iopub.status.busy": "2024-07-16T15:53:50.000301Z",
     "iopub.status.idle": "2024-07-16T15:53:50.290697Z",
     "shell.execute_reply": "2024-07-16T15:53:50.290037Z",
     "shell.execute_reply.started": "2024-07-16T15:53:50.000645Z"
    },
    "scrolled": true
   },
   "outputs": [
    {
     "data": {
      "text/plain": [
       "['DNA Methylation at the Neonatal State and at the Time of Diagnosis: Preliminary Support for an Association with the Estrogen Receptor 1, Gamma-Aminobutyric Acid B Receptor 1, and Myelin Oligodendrocyte Glycoprotein in Female Adolescent Patients with OCD. Obsessive-compulsive disorder (OCD) is a neuropsychiatric disorder. Non-genetic factors and their interaction with genes have attracted increasing attention. Epigenetics is regarded an important interface between environmental signals and activation/repression of genomic responses. Epigenetic mechanisms have not previously been examined in OCD in children and adolescents. The aim of the present study was to examine the DNA methylation profile of selected genes in blood spots from neonates later diagnosed with OCD and in the same children/adolescents at the time of diagnosis compared with age- and sex-matched controls. Furthermore, we wanted to characterize the association of the differential methylation profiles with the severity of OCD and treatment outcome. Dried and new blood spot samples were obtained from 21 female children/adolescents with verified OCD and 12 female controls. The differential methylation was analyzed using a linear model and the correlation with the severity of OCD and treatment outcome was analyzed using the Pearson correlation. We evaluated selected Illumina Infinium HumanMethylation450 BeadChip probes within and up to 100,000 bp up- and downstream of 14 genes previously associated with OCD (SLC1A1, SLC25A12, GABBR1, GAD1, DLGAP1, MOG, BDNF, OLIG2, NTRK2 and 3, ESR1, SL6A4, TPH2, and COMT). The study found no significantly differential methylation. However, preliminary support for a difference was found for the gamma-aminobutyric acid (GABA) B receptor 1 (cg10234998, cg17099072) in blood samples at birth and for the estrogen receptor 1 (ESR1) (cg10939667), the myelin oligodendrocyte glycoprotein (MOG) (cg16650906), and the brain-derived neurotrophic factor (BDNF) (cg14080521) in blood samples at the time of diagnosis. Preliminary support for an association was observed between the methylation profiles of GABBR1 and MOG and baseline severity, treatment effect, and responder status; and between the methylation profile of ESR1 and baseline severity. To our knowledge, this is the first study to examine the DNA methylation profiles in OCD. The study points towards possible differences in the methylation profiles and suggests a correlation with the severity of OCD. However, the results warrant further studies in larger sample sets. ',\n",
       " 'Association between lower urinary tract symptoms (LUTS) and obsessive-compulsive disorders (OCD) in women: A study based on urodynamic findings and micturition problem. This study focused on women with chronic lower urinary tract symptoms (LUTS) who simultaneously suffered from obsessive-compulsive disorder (OCD) to evaluate the association between micturition abnormality and OCD. A cohort case study was conducted on 128 women with chronic LUTS who visited the academic clinic from 2012 to 2018. The participants with a history of OCD were grouped together, whereas the other group consisted of those with no psychiatric issues. Data were analyzed using the Kolmogorov-Smirnov test and also the nonparametric Kruskal-Wallis and chi2 tests. The participants with OCD had a lower mean age (41.7 vs. 48.8 years) and longer symptom duration than the control group. Moreover, voiding phase problems were more prevalent among OCD patients (mean voiding score: 9.3 vs. 6.9). Urge urinary incontinence (UUI) was the most common type of urinary incontinence in OCD patients, and the most important urodynamic study finding was bladder outlet obstruction (45% and 17% in the OCD and control groups, respectively). Voiding disorders resulted in chronic renal failure in two patients (3.12%). It was shown that bladder outlet obstruction (odds ratio (OR) 4.43, 95% confidence interval [CI] 1.53-12.78, p = 0.006] was the strongest predictor of OCD and stress urinary incontinence (OR 0.20, 95% CI 0.07-0.53, p < 0.001) was the best protector against OCD. The findings revealed that chronic LUTS was related to voiding dysfunction and urodynamic abnormality in OCD patients. These disorders may be categorized as somatoform disorder that requires appropriate treatments. ',\n",
       " 'Combination of baclofen and antimuscarinics to reduce voiding difficulty in treating women with overactive bladders. To evaluate the efficacy of baclofen in combination with antimuscarinics to treat women with an overactive bladder (OAB) with abnormal voiding patterns. An action research and chart review was conducted in 245 OAB women. Women were prescribed tolterodine or oxybutynin with or without baclofen after urodynamics. The complaint of voiding difficulty was followed up one week later. There was a significant difference in the occurrence of voiding difficulty after antimuscarinic administration in OAB women with abnormal voiding patterns compared with normal patterns (18% vs 4.9%, respectively; p = 0.013). The clinical difference of voiding difficulty after treating with antimuscarinics between both voiding patterns disappeared after adding baclofen (abnormal voiding pattern vs normal pattern; 11.1% vs. 5.6%, respectively; p = 1.000). Combined use of baclofen and antimuscarinic agents could reduce voiding difficulty in treating women with overactive bladders with abnormal voiding patterns. ']"
      ]
     },
     "execution_count": 31,
     "metadata": {},
     "output_type": "execute_result"
    }
   ],
   "source": [
    "path_153_context_pmids = df.loc[27]['context_pmids']\n",
    "path_context_dict = (text_util.get_path_context(path_153_context_pmids,sents_db))\n",
    "# print(path_context_dict)\n",
    "path_context_dict = (text_util.get_path_context(path_153_context_pmids,sents_db))\n",
    "path_context_abstracts = semantic_search_util.retrieve_context_path(path_context_dict)\n",
    "path_context_abstracts"
   ]
  },
  {
   "cell_type": "markdown",
   "id": "0eee91e5-248e-421a-9fe6-fb1f4d6a5c99",
   "metadata": {},
   "source": [
    "### 2.2. Prompt Engineering"
   ]
  },
  {
   "cell_type": "code",
   "execution_count": 21,
   "id": "a789b3cb-3252-4925-a135-2696991718d6",
   "metadata": {
    "execution": {
     "iopub.execute_input": "2024-07-16T15:49:21.864477Z",
     "iopub.status.busy": "2024-07-16T15:49:21.864108Z",
     "iopub.status.idle": "2024-07-16T15:49:21.869378Z",
     "shell.execute_reply": "2024-07-16T15:49:21.868496Z",
     "shell.execute_reply.started": "2024-07-16T15:49:21.864439Z"
    }
   },
   "outputs": [],
   "source": [
    "def generate_llm_fix_prompt(source, target, path_context_dict):\n",
    "    path_context_abstracts = semantic_search_util.retrieve_context_path(path_context_dict)\n",
    "    llm_prompt_template = 'How would you describe an indirect relationship between {source} and {target} given the following scientific abstracts as context?'\n",
    "    llm_fix_prompt_str = '\\n\\n'.join(path_context_abstracts)\n",
    "    llm_fix_prompt_combo = llm_prompt_template.format(source=source, target=target) + '\\n\\n' + llm_fix_prompt_str\n",
    "    \n",
    "    return llm_fix_prompt_combo"
   ]
  },
  {
   "cell_type": "code",
   "execution_count": 18,
   "id": "26f57802-8839-4f06-a528-cd222bc504f8",
   "metadata": {
    "execution": {
     "iopub.execute_input": "2024-07-16T17:20:16.274270Z",
     "iopub.status.busy": "2024-07-16T17:20:16.273890Z",
     "iopub.status.idle": "2024-07-16T17:20:16.280333Z",
     "shell.execute_reply": "2024-07-16T17:20:16.279710Z",
     "shell.execute_reply.started": "2024-07-16T17:20:16.274231Z"
    },
    "scrolled": true
   },
   "outputs": [
    {
     "data": {
      "text/plain": [
       "'How would you describe an indirect relationship between EDNRB and Bosentan given the following scientific abstracts as context?\\n\\nEffect of bosentan (ETA/ETB receptor antagonist) on metabolic changes during stress and diabetes. Elevated plasma ET-1 levels have been reported in several conditions such as stress and diabetes. ET-1 is found to cause insulin resistance and to stimulate liver glycogenolysis. The question arises whether ET-1 has a role in the metabolic changes occurring in such conditions. To test this, we studied the possible effect of the endothelin receptor antagonist, bosentan (50 and 100 mg kg(-1)) on serum glucose and insulin levels as well as on liver glycogen contents in normoglycemic stressed animals. In addition, the effect of bosentan on serum glucose and insulin levels in both mild and severely diabetic rats and its effect on insulin-induced hypoglycemia were also determined. Restraining water immersion stress was used as a model for severe stress reported to elevate plasma ET-1 level. Mild diabetes was induced in rats by intraperitoneal injection of a low dose of streptozotocin (38 mg kg(-1)) while severe diabetes was induced by intraperitoneal injection of a higher dose of streptozotocin (45 mg kg(-1)). Bosentan partially prevented stress-induced both hyperglycemia and decrease in glycogen content while it completely blocked the stress-induced decrease in insulin level in normoglycemic stressed rats. Bosentan also decreased serum glucose level without any effect on insulin secretion in mild diabetic rats and potentiated the hypoglycemic action of insulin. \\n\\nEfficacy of bosentan, a dual ETA and ETB endothelin receptor antagonist, in experimental diabetes induced vascular endothelial dysfunction and associated dementia in rats. The study was designed to investigate the efficacy of bosentan a dual endothelin (ETA and ETB) receptor antagonist in experimental diabetes induced vascular endothelial dysfunction and associated dementia. Diabetes was induced in rats by administration of a single dose (50mg/kg, i.p.) of streptozotocin (STZ). Drug treatment was started after 1 month of STZ administration and treatment was continued until the end of the study. Morris water maze (MWM) test was employed for testing spatial learning and memory. Endothelial function was measured on isolated aortic rings using student physiograph. Serum glucose, body weight, serum nitrite/nitrate, brain thiobarbituric acid reactive species (TBARS), reduced glutathione (GSH) levels, and brain acetylcholinesterase activity were also tested. STZ treatment resulted in significant development of cognitive and vascular endothelial deficits, manifested in the terms of endothelial dysfunction, impairment of learning and memory, reduction in body weight and serum nitrite/nitrate levels along with increase in serum glucose, brain acetylcholinesterase activity, TBARS, and decreased GSH levels. Treatment of bosentan attenuated diabetes induced impairment of learning, memory, endothelial function, and various biochemical parameters. It may be concluded that bosentan has shown efficacy in STZ induced cognitive and vascular endothelial deficits. Thus, endothelin receptors can be considered as a potential pharmacological target for the management of experimental diabetes induced vascular endothelial dysfunction and associated dementia. \\n\\nGreater functional ETB receptor antagonism with bosentan than sitaxsentan in healthy men. Endothelin (ET)-1 is implicated in the development of hypertension and a role for endothelin receptor antagonists (ETRAs) in the management of hypertension is emerging. ETRAs are classified as selective or mixed depending on their degree of ET(A):ET(B) receptor blockade. As yet, there are no comparative studies in humans that measure biochemical and functional ET(B) blockade achieved by currently licensed ETRAs. We therefore investigated the effects of bosentan, a mixed ETRA, and sitaxsentan, an ET(A) selective ETRA, on plasma ET-1 concentrations and ET(B)-mediated vasodilatation to ET-3. In a randomized, double-blind, 3-way crossover study, 10 healthy subjects received 7 days of placebo, bosentan 250 mg, and sitaxsentan 100 mg daily. Plasma ET-1 concentrations were measured at baseline and 3 hours on day 1 and predose on day 7. Subjects also underwent forearm blood flow measurements on day 7 of each period with brachial artery infusion of ET-3 (60 pmol/min for 5 minutes). Bosentan, but not placebo or sitaxsentan, significantly increased plasma ET-1 concentrations at day 7 (+0.70+/-0.20 pg/mL; P<0.005). Maximal ET-3-mediated vasodilatation was seen at 2 minutes following placebo (30+/-6%) and sitaxsentan (21+/-11%); however, this was abolished by bosentan, with a reduction in forearm blood flow of 8+/-3% (P<0.01 versus placebo and sitaxsentan). Bosentan but not sitaxsentan increases circulating plasma ET-1 levels and abolishes acute ET-3-mediated vasodilatation, confirming that the mixed ET(A/B) antagonist bosentan, but not the selective ET(A) antagonist sitaxsentan, causes functional ET(B) blockade at clinically relevant doses in healthy human subjects. '"
      ]
     },
     "execution_count": 18,
     "metadata": {},
     "output_type": "execute_result"
    }
   ],
   "source": [
    "path_context_abstracts = semantic_search_util.retrieve_context_path(path_context_dict)\n",
    "\n",
    "source_cui = 'EDNRB'  # 'C1421501'\n",
    "target_cui = 'Bosentan'     # 'C0071097'\n",
    "llm_prompt_template = 'How would you describe an indirect relationship between {source} and {target} given the following scientific abstracts as context?'\n",
    "\n",
    "llm_fix_prompt_str = '\\n\\n'.join(path_context_abstracts)\n",
    "llm_fix_prompt_combo = llm_prompt_template.format(source=source_cui, target=target_cui) + '\\n\\n' + llm_fix_prompt_str\n",
    "llm_fix_prompt_combo"
   ]
  },
  {
   "cell_type": "markdown",
   "id": "d92e221b-2d4a-42ab-bfff-366204e36576",
   "metadata": {},
   "source": [
    "### 2.3. get resp from LLM as consistance as we can go reduce randomness\n",
    "NOTE: oai_get_response(msg, temp=1e-19, top_p=1e-9, seed=1234) \n",
    "- top_p is a hyperparameter that controls the variety of generated text by only considering tokens with the highest probability"
   ]
  },
  {
   "cell_type": "code",
   "execution_count": 19,
   "id": "dadcc4ab-1c63-47b4-b8d8-cc43679d1899",
   "metadata": {
    "execution": {
     "iopub.execute_input": "2024-07-16T17:20:21.468986Z",
     "iopub.status.busy": "2024-07-16T17:20:21.468626Z",
     "iopub.status.idle": "2024-07-16T17:20:34.909713Z",
     "shell.execute_reply": "2024-07-16T17:20:34.908858Z",
     "shell.execute_reply.started": "2024-07-16T17:20:21.468939Z"
    }
   },
   "outputs": [
    {
     "data": {
      "text/plain": [
       "\"Based on the provided abstracts, an indirect relationship between EDNRB (Endothelin Receptor Type B) and Bosentan can be described as follows:\\n\\n**EDNRB and Bosentan: An Indirect Relationship**\\n\\n**Contextual Overview:**\\n1. **Bosentan's Mechanism of Action:**\\n   - Bosentan is a dual endothelin receptor antagonist that blocks both ETA and ETB receptors. This blockade affects the physiological actions mediated by endothelin-1 (ET-1), a potent vasoconstrictor involved in various pathological conditions such as stress, diabetes, and hypertension.\\n\\n2. **Role of EDNRB:**\\n   - EDNRB (Endothelin Receptor Type B) is one of the receptors for ET-1. It is involved in vasodilation and clearance of ET-1 from the circulation. The blockade of EDNRB by Bosentan can lead to increased levels of circulating ET-1 and altered vascular responses.\\n\\n**Indirect Relationship:**\\n- **Metabolic Effects:**\\n  - In the context of stress and diabetes, Bosentan's blockade of EDNRB (along with ETA) influences metabolic parameters. For instance, Bosentan partially prevents stress-induced hyperglycemia and decreases in liver glycogen content, and it also modulates serum glucose levels in diabetic rats. These effects suggest that EDNRB plays a role in the metabolic changes mediated by ET-1, and Bosentan's antagonism of EDNRB contributes to these observed outcomes.\\n\\n- **Vascular and Cognitive Effects:**\\n  - In experimental diabetes, Bosentan's efficacy in improving vascular endothelial function and cognitive deficits indicates that EDNRB is involved in these processes. The blockade of EDNRB by Bosentan helps attenuate endothelial dysfunction and cognitive impairments, highlighting the receptor's role in these diabetes-induced complications.\\n\\n- **Functional Antagonism:**\\n  - Comparative studies in healthy men show that Bosentan, but not the selective ETA antagonist sitaxsentan, increases plasma ET-1 levels and abolishes ET-3-mediated vasodilation. This functional antagonism of EDNRB by Bosentan underscores its significant role in regulating ET-1 levels and vascular responses.\\n\\n**Conclusion:**\\nThe indirect relationship between EDNRB and Bosentan is characterized by Bosentan's ability to block EDNRB, which in turn affects various physiological and pathological processes mediated by ET-1. This blockade leads to changes in metabolic, vascular, and cognitive functions, demonstrating the critical role of EDNRB in these contexts.\""
      ]
     },
     "execution_count": 19,
     "metadata": {},
     "output_type": "execute_result"
    }
   ],
   "source": [
    "# Note to keep consistant response:\n",
    "#0.00000001 msg = \"What is the capital of France?\"\n",
    "# response = oai_get_response(msg, temp=1e-19, top_p=1e-9, seed=1234)\n",
    "# print(response)\n",
    "llm_resp_path_1 = oai_get_response(llm_fix_prompt_combo, temp=1e-19, top_p=1e-9, seed=1234)\n",
    "llm_resp_path_1"
   ]
  },
  {
   "cell_type": "code",
   "execution_count": 65,
   "id": "5e08743e-df07-4131-b2e3-e1c4fa49e8fc",
   "metadata": {
    "execution": {
     "iopub.execute_input": "2024-07-15T18:20:14.495702Z",
     "iopub.status.busy": "2024-07-15T18:20:14.495529Z",
     "iopub.status.idle": "2024-07-15T18:20:14.498279Z",
     "shell.execute_reply": "2024-07-15T18:20:14.497689Z",
     "shell.execute_reply.started": "2024-07-15T18:20:14.495685Z"
    }
   },
   "outputs": [],
   "source": [
    "# llm_resp_path_2 = oai_get_response(llm_fix_prompt_combo, temp=1e-19, top_p=1e-9, seed=1234)\n",
    "# llm_resp_path_2"
   ]
  },
  {
   "cell_type": "markdown",
   "id": "dee635d0-affc-46cd-b081-2acbdb9ac1c3",
   "metadata": {},
   "source": [
    "## 3. Evaluation"
   ]
  },
  {
   "cell_type": "code",
   "execution_count": 26,
   "id": "b0fa3e8c-2555-4cbf-b4eb-a9dc11aa1644",
   "metadata": {
    "execution": {
     "iopub.execute_input": "2024-07-16T17:22:35.561870Z",
     "iopub.status.busy": "2024-07-16T17:22:35.561425Z",
     "iopub.status.idle": "2024-07-16T17:22:35.749693Z",
     "shell.execute_reply": "2024-07-16T17:22:35.749029Z",
     "shell.execute_reply.started": "2024-07-16T17:22:35.561830Z"
    }
   },
   "outputs": [],
   "source": [
    "with open(\n",
    "    '/lustre/acslab/shared/Agatha_shared/2021_11_22/2021_11_22_semtypes_to_nodelbl_and_vv_dict.json', 'r'\n",
    ") as f:\n",
    "    st_nodelbl_dict = json.load(f)"
   ]
  },
  {
   "cell_type": "code",
   "execution_count": 27,
   "id": "f2bc1a45-603e-4a5c-824d-a97f8f391940",
   "metadata": {
    "execution": {
     "iopub.execute_input": "2024-07-16T17:22:36.095171Z",
     "iopub.status.busy": "2024-07-16T17:22:36.094793Z",
     "iopub.status.idle": "2024-07-16T17:22:36.099749Z",
     "shell.execute_reply": "2024-07-16T17:22:36.099203Z",
     "shell.execute_reply.started": "2024-07-16T17:22:36.095132Z"
    }
   },
   "outputs": [],
   "source": [
    "def generate_negatives(pos_pair, sample_rate=5):\n",
    "    \n",
    "    s = pos_pair[0]\n",
    "    o = pos_pair[1]\n",
    "    \n",
    "    if s[0] != 'm':\n",
    "        s = f'm:{pos_pair[0].lower()}'\n",
    "    \n",
    "    if o[0] != 'm':\n",
    "        o = f'm:{pos_pair[1].lower()}'\n",
    "    \n",
    "    if o in st_nodelbl_dict:\n",
    "        o_st = st_nodelbl_dict[o]\n",
    "        o_sample_list = random.sample(\n",
    "            st_nodelbl_dict[o_st],\n",
    "            sample_rate\n",
    "        )\n",
    "    else:\n",
    "        o_sample_list = []\n",
    "    \n",
    "    out_pairs = []\n",
    "    for o_neg in o_sample_list:\n",
    "        out_pairs.append((s, o_neg))\n",
    "        \n",
    "    return out_pairs"
   ]
  },
  {
   "cell_type": "code",
   "execution_count": 28,
   "id": "844a9456-6b8e-4537-98df-15e05cc32ce7",
   "metadata": {
    "execution": {
     "iopub.execute_input": "2024-07-16T17:22:37.382117Z",
     "iopub.status.busy": "2024-07-16T17:22:37.381699Z",
     "iopub.status.idle": "2024-07-16T17:22:37.391026Z",
     "shell.execute_reply": "2024-07-16T17:22:37.390343Z",
     "shell.execute_reply.started": "2024-07-16T17:22:37.382077Z"
    }
   },
   "outputs": [],
   "source": [
    "def eval_pair(pair, sample_rate = 10):\n",
    "    \n",
    "    pair_negs = generate_negatives(pair, sample_rate=sample_rate)\n",
    "    \n",
    "    agatha_queries = [pair] + pair_negs\n",
    "    \n",
    "    pair_labels = [1] + [0]*len(pair_negs)\n",
    "    \n",
    "    scores = model.predict_from_terms(agatha_queries)\n",
    "    \n",
    "    res_list = sorted(\n",
    "        list(zip(scores, pair_labels)),\n",
    "        key=lambda x: x[0],\n",
    "        reverse=True\n",
    "    )\n",
    "    \n",
    "    rank = None\n",
    "    for i, (score, lbl) in enumerate(res_list):\n",
    "        if lbl == 1:\n",
    "            rank = i\n",
    "            break\n",
    "    \n",
    "    return {\n",
    "        'scores': res_list,\n",
    "        'pos_rank': rank + 1\n",
    "    }"
   ]
  },
  {
   "cell_type": "code",
   "execution_count": 29,
   "id": "9d84a819-de3a-46e5-b2e3-2b920e678e66",
   "metadata": {
    "execution": {
     "iopub.execute_input": "2024-07-16T17:22:40.944102Z",
     "iopub.status.busy": "2024-07-16T17:22:40.943626Z",
     "iopub.status.idle": "2024-07-16T17:22:40.967353Z",
     "shell.execute_reply": "2024-07-16T17:22:40.966811Z",
     "shell.execute_reply.started": "2024-07-16T17:22:40.944062Z"
    }
   },
   "outputs": [],
   "source": [
    "def evaluate_llm_resp(llm_resp_str):\n",
    "    expl_parts_list = []\n",
    "    cleaned_text = llm_resp_str.replace('\\n', '').replace('*', '')\n",
    "    expl_sr_out = sr_h.ProcessList_parallel([cleaned_text])\n",
    "\n",
    "    total_agatha_score = 0\n",
    "    count_agatha_score = 0\n",
    "\n",
    "    for s_id, sent_data in expl_sr_out.items():\n",
    "        sent_text = sent_data['sent_text']\n",
    "\n",
    "        status = 'ok'\n",
    "        bad_predicates = []\n",
    "        good_predicates = []\n",
    "        agatha_score_path = []\n",
    "\n",
    "        for rel in sent_data['relations']:\n",
    "            rel_subj = rel['subj_text']\n",
    "            v = rel['verb']\n",
    "            rel_obj = rel['obj_text']\n",
    "\n",
    "            pred = [rel_subj, rel_obj]\n",
    "\n",
    "            rel_pair = tuple(\n",
    "                sorted(\n",
    "                    [\n",
    "                        rel['subj_id'],\n",
    "                        rel['obj_id']\n",
    "                    ]\n",
    "                )\n",
    "            )\n",
    "            if rel_pair in pred_cui_pairs_set:\n",
    "                good_predicates.append(pred)\n",
    "            if rel_pair not in pred_cui_pairs_set:\n",
    "                subj_id = f\"m:{rel['subj_id'].lower()}\"\n",
    "                obj_id = f\"m:{rel['obj_id'].lower()}\"\n",
    "                if subj_id in model.graph and obj_id in model.graph:\n",
    "                    agatha_score = model.predict_from_terms([[subj_id, obj_id]])[0]\n",
    "                    agatha_rank = eval_pair([subj_id, obj_id], sample_rate=20)['pos_rank']\n",
    "                    pred.append(agatha_rank)\n",
    "                    if agatha_rank > 1:\n",
    "                        status = 'REWORK'\n",
    "                        bad_predicates.append(pred)\n",
    "                        agatha_score_path.append(agatha_score)\n",
    "                        print(\"Agatha score for predicate: {}\".format(agatha_score))\n",
    "                    else:\n",
    "                        good_predicates.append(pred)\n",
    "                        agatha_score_path.append(agatha_score)\n",
    "\n",
    "                    total_agatha_score += agatha_score\n",
    "                    count_agatha_score += 1\n",
    "\n",
    "        print('Sentence:\\n', sent_text)\n",
    "        print('Status:\\n', status)\n",
    "        if status != 'ok':\n",
    "            print('Reason:')\n",
    "            for p in bad_predicates:\n",
    "                print('\\t', p, 'not in AGATHA KB')\n",
    "        else:\n",
    "            if len(good_predicates):\n",
    "                print('Recognized:')\n",
    "            for p in good_predicates:\n",
    "                print('\\t', p, 'in AGATHA KB')\n",
    "\n",
    "        print('\\n-----\\n')\n",
    "\n",
    "        expl_parts_list.append(\n",
    "            {\n",
    "                'sent_text': sent_text,\n",
    "                'status': status,\n",
    "                'bad_predicates': bad_predicates,\n",
    "                'good_predicates': good_predicates,\n",
    "                'agatha_score': agatha_score_path\n",
    "            }\n",
    "        )\n",
    "\n",
    "    if count_agatha_score > 0:\n",
    "        average_agatha_score = total_agatha_score / count_agatha_score\n",
    "        print(\"Average Agatha score: {}\".format(average_agatha_score))\n",
    "    else:\n",
    "        print(\"No Agatha scores available to calculate average.\")\n",
    "\n",
    "    return expl_parts_list"
   ]
  },
  {
   "cell_type": "code",
   "execution_count": 38,
   "id": "b7581716-af4c-4d58-b5fa-ab36093f9235",
   "metadata": {
    "execution": {
     "iopub.execute_input": "2024-07-16T16:07:57.189084Z",
     "iopub.status.busy": "2024-07-16T16:07:57.188713Z",
     "iopub.status.idle": "2024-07-16T16:08:33.732908Z",
     "shell.execute_reply": "2024-07-16T16:08:33.731822Z",
     "shell.execute_reply.started": "2024-07-16T16:07:57.189046Z"
    },
    "scrolled": true
   },
   "outputs": [
    {
     "name": "stdout",
     "output_type": "stream",
     "text": [
      "Run SemRep in interactive mode...\n",
      "Processing input with replace_utf8.jar utility...\n",
      "Sentence:\n",
      " Based on the provided abstracts, an indirect relationship between GABBR1 and Baclofen can be described as follows:1. \n",
      "Status:\n",
      " ok\n",
      "\n",
      "-----\n",
      "\n",
      "Sentence:\n",
      " GABBR1 and OCD: The first abstract discusses the potential role of DNA methylation in the gamma-aminobutyric acid B receptor 1 (GABBR1) gene in the context of obsessive-compulsive disorder (OCD). \n",
      "Status:\n",
      " ok\n",
      "Recognized:\n",
      "\t ['DNA methylation', 'gene'] in AGATHA KB\n",
      "\n",
      "-----\n",
      "\n",
      "Agatha score for predicate: 0.7814140319824219\n",
      "Sentence:\n",
      " The study suggests preliminary support for differential methylation of GABBR1 in individuals with OCD, which may correlate with the severity of the disorder and treatment outcomes. \n",
      "Status:\n",
      " REWORK\n",
      "Reason:\n",
      "\t ['individuals', 'GABBR1', 8] not in AGATHA KB\n",
      "\n",
      "-----\n",
      "\n",
      "Sentence:\n",
      " This indicates that GABBR1 could be involved in the pathophysiology of OCD, potentially affecting the GABAergic system.2. \n",
      "Status:\n",
      " ok\n",
      "Recognized:\n",
      "\t ['GABBR1', 'OCD'] in AGATHA KB\n",
      "\n",
      "-----\n",
      "\n",
      "Sentence:\n",
      " OCD and LUTS: The second abstract highlights an association between OCD and lower urinary tract symptoms (LUTS) in women. \n",
      "Status:\n",
      " ok\n",
      "Recognized:\n",
      "\t ['OCD', 'women'] in AGATHA KB\n",
      "\t ['lower urinary tract symptoms', 'women'] in AGATHA KB\n",
      "\n",
      "-----\n",
      "\n",
      "Sentence:\n",
      " It suggests that women with OCD are more likely to experience voiding dysfunction and urodynamic abnormalities, such as bladder outlet obstruction. \n",
      "Status:\n",
      " ok\n",
      "Recognized:\n",
      "\t ['voiding dysfunction', 'women'] in AGATHA KB\n",
      "\t ['OCD', 'women'] in AGATHA KB\n",
      "\n",
      "-----\n",
      "\n",
      "Sentence:\n",
      " This implies a possible link between neuropsychiatric conditions like OCD and urinary symptoms.3. \n",
      "Status:\n",
      " ok\n",
      "\n",
      "-----\n",
      "\n",
      "Agatha score for predicate: 0.4506675601005554\n",
      "Agatha score for predicate: 0.494037002325058\n",
      "Agatha score for predicate: 0.21089904010295868\n",
      "Sentence:\n",
      " Baclofen and LUTS: The third abstract evaluates the use of Baclofen, a GABA_B receptor agonist, in combination with antimuscarinics to treat women with overactive bladder (OAB) and abnormal voiding patterns. \n",
      "Status:\n",
      " REWORK\n",
      "Reason:\n",
      "\t ['antimuscarinics', 'abnormal voiding', 11] not in AGATHA KB\n",
      "\t ['Baclofen', 'abnormal voiding', 9] not in AGATHA KB\n",
      "\t ['GABA_B receptor agonist', 'abnormal voiding', 11] not in AGATHA KB\n",
      "\n",
      "-----\n",
      "\n",
      "Sentence:\n",
      " The study finds that Baclofen can reduce voiding difficulties when added to antimuscarinic treatment, suggesting its efficacy in managing urinary symptoms.### Indirect Relationship:- GABBR1 and Baclofen: GABBR1 encodes the GABA_B receptor, which is the target of Baclofen. \n",
      "Status:\n",
      " ok\n",
      "Recognized:\n",
      "\t ['Baclofen', 'voiding difficulties'] in AGATHA KB\n",
      "\t ['GABA_B receptor', 'Baclofen'] in AGATHA KB\n",
      "\n",
      "-----\n",
      "\n",
      "Sentence:\n",
      " The first abstract indicates that GABBR1 may be epigenetically altered in OCD, potentially affecting GABAergic signaling. \n",
      "Status:\n",
      " ok\n",
      "Recognized:\n",
      "\t ['GABBR1', 'OCD'] in AGATHA KB\n",
      "\n",
      "-----\n",
      "\n",
      "Agatha score for predicate: 0.3610890209674835\n",
      "Sentence:\n",
      " The second abstract connects OCD with LUTS, and the third abstract shows that Baclofen, a GABA_B receptor agonist, can alleviate voiding difficulties in OAB.- Connecting the Dots: Although the studies do not directly link GABBR1 and Baclofen, they collectively suggest an indirect relationship. \n",
      "Status:\n",
      " REWORK\n",
      "Reason:\n",
      "\t ['GABA_B receptor agonist', 'voiding difficulties', 5] not in AGATHA KB\n",
      "\n",
      "-----\n",
      "\n",
      "Sentence:\n",
      " Alterations in GABBR1 (potentially affecting GABA_B receptor function) in OCD patients might contribute to LUTS. \n",
      "Status:\n",
      " ok\n",
      "Recognized:\n",
      "\t ['OCD', 'patients'] in AGATHA KB\n",
      "\t ['patients', 'GABBR1'] in AGATHA KB\n",
      "\n",
      "-----\n",
      "\n",
      "Agatha score for predicate: 0.4887341856956482\n",
      "Agatha score for predicate: 0.41362619400024414\n",
      "Sentence:\n",
      " Baclofen, by targeting the GABA_B receptor, could help manage these urinary symptoms, indicating a therapeutic pathway that involves the GABA_B receptor system.In summary, the indirect relationship between GABBR1 and Baclofen is mediated through their roles in OCD and LUTS. \n",
      "Status:\n",
      " REWORK\n",
      "Reason:\n",
      "\t ['GABA_B receptor', 'urinary symptoms', 4] not in AGATHA KB\n",
      "\t ['GABBR1', 'LUTS', 2] not in AGATHA KB\n",
      "\n",
      "-----\n",
      "\n",
      "Agatha score for predicate: 0.44010862708091736\n",
      "Sentence:\n",
      " Alterations in GABBR1 may influence GABAergic signaling in OCD, which is associated with LUTS. \n",
      "Status:\n",
      " REWORK\n",
      "Reason:\n",
      "\t ['GABBR1', 'LUTS', 2] not in AGATHA KB\n",
      "\n",
      "-----\n",
      "\n",
      "Sentence:\n",
      " Baclofen, acting on the GABA_B receptor, can alleviate these urinary symptoms, suggesting a potential therapeutic link. \n",
      "Status:\n",
      " ok\n",
      "Recognized:\n",
      "\t ['Baclofen', 'GABA_B receptor'] in AGATHA KB\n",
      "\n",
      "-----\n",
      "\n",
      "Average Agatha score: 0.5256480686366558\n",
      "CPU times: user 55.3 s, sys: 7.17 s, total: 1min 2s\n",
      "Wall time: 36.5 s\n"
     ]
    },
    {
     "data": {
      "text/plain": [
       "[{'sent_text': 'Based on the provided abstracts, an indirect relationship between GABBR1 and Baclofen can be described as follows:1. ',\n",
       "  'status': 'ok',\n",
       "  'bad_predicates': [],\n",
       "  'good_predicates': [],\n",
       "  'agatha_score': []},\n",
       " {'sent_text': 'GABBR1 and OCD: The first abstract discusses the potential role of DNA methylation in the gamma-aminobutyric acid B receptor 1 (GABBR1) gene in the context of obsessive-compulsive disorder (OCD). ',\n",
       "  'status': 'ok',\n",
       "  'bad_predicates': [],\n",
       "  'good_predicates': [['DNA methylation', 'gene']],\n",
       "  'agatha_score': []},\n",
       " {'sent_text': 'The study suggests preliminary support for differential methylation of GABBR1 in individuals with OCD, which may correlate with the severity of the disorder and treatment outcomes. ',\n",
       "  'status': 'REWORK',\n",
       "  'bad_predicates': [['individuals', 'GABBR1', 8]],\n",
       "  'good_predicates': [['OCD', 'individuals']],\n",
       "  'agatha_score': [0.7814140319824219]},\n",
       " {'sent_text': 'This indicates that GABBR1 could be involved in the pathophysiology of OCD, potentially affecting the GABAergic system.2. ',\n",
       "  'status': 'ok',\n",
       "  'bad_predicates': [],\n",
       "  'good_predicates': [['GABBR1', 'OCD']],\n",
       "  'agatha_score': []},\n",
       " {'sent_text': 'OCD and LUTS: The second abstract highlights an association between OCD and lower urinary tract symptoms (LUTS) in women. ',\n",
       "  'status': 'ok',\n",
       "  'bad_predicates': [],\n",
       "  'good_predicates': [['OCD', 'women'],\n",
       "   ['lower urinary tract symptoms', 'women']],\n",
       "  'agatha_score': []},\n",
       " {'sent_text': 'It suggests that women with OCD are more likely to experience voiding dysfunction and urodynamic abnormalities, such as bladder outlet obstruction. ',\n",
       "  'status': 'ok',\n",
       "  'bad_predicates': [],\n",
       "  'good_predicates': [['voiding dysfunction', 'women'], ['OCD', 'women']],\n",
       "  'agatha_score': []},\n",
       " {'sent_text': 'This implies a possible link between neuropsychiatric conditions like OCD and urinary symptoms.3. ',\n",
       "  'status': 'ok',\n",
       "  'bad_predicates': [],\n",
       "  'good_predicates': [],\n",
       "  'agatha_score': []},\n",
       " {'sent_text': 'Baclofen and LUTS: The third abstract evaluates the use of Baclofen, a GABA_B receptor agonist, in combination with antimuscarinics to treat women with overactive bladder (OAB) and abnormal voiding patterns. ',\n",
       "  'status': 'REWORK',\n",
       "  'bad_predicates': [['antimuscarinics', 'abnormal voiding', 11],\n",
       "   ['Baclofen', 'abnormal voiding', 9],\n",
       "   ['GABA_B receptor agonist', 'abnormal voiding', 11]],\n",
       "  'good_predicates': [['antimuscarinics', 'overactive bladder'],\n",
       "   ['Baclofen', 'overactive bladder'],\n",
       "   ['GABA_B receptor agonist', 'overactive bladder', 1],\n",
       "   ['abnormal voiding', 'women'],\n",
       "   ['overactive bladder', 'women'],\n",
       "   ['antimuscarinics', 'women'],\n",
       "   ['Baclofen', 'women'],\n",
       "   ['GABA_B receptor agonist', 'women', 1]],\n",
       "  'agatha_score': [0.4506675601005554,\n",
       "   0.494037002325058,\n",
       "   0.21089904010295868,\n",
       "   0.5443702340126038,\n",
       "   0.7128509879112244]},\n",
       " {'sent_text': 'The study finds that Baclofen can reduce voiding difficulties when added to antimuscarinic treatment, suggesting its efficacy in managing urinary symptoms.### Indirect Relationship:- GABBR1 and Baclofen: GABBR1 encodes the GABA_B receptor, which is the target of Baclofen. ',\n",
       "  'status': 'ok',\n",
       "  'bad_predicates': [],\n",
       "  'good_predicates': [['Baclofen', 'voiding difficulties'],\n",
       "   ['GABA_B receptor', 'Baclofen']],\n",
       "  'agatha_score': []},\n",
       " {'sent_text': 'The first abstract indicates that GABBR1 may be epigenetically altered in OCD, potentially affecting GABAergic signaling. ',\n",
       "  'status': 'ok',\n",
       "  'bad_predicates': [],\n",
       "  'good_predicates': [['GABBR1', 'OCD']],\n",
       "  'agatha_score': []},\n",
       " {'sent_text': 'The second abstract connects OCD with LUTS, and the third abstract shows that Baclofen, a GABA_B receptor agonist, can alleviate voiding difficulties in OAB.- Connecting the Dots: Although the studies do not directly link GABBR1 and Baclofen, they collectively suggest an indirect relationship. ',\n",
       "  'status': 'REWORK',\n",
       "  'bad_predicates': [['GABA_B receptor agonist', 'voiding difficulties', 5]],\n",
       "  'good_predicates': [['voiding difficulties', 'OAB', 1]],\n",
       "  'agatha_score': [0.3610890209674835, 0.7064927220344543]},\n",
       " {'sent_text': 'Alterations in GABBR1 (potentially affecting GABA_B receptor function) in OCD patients might contribute to LUTS. ',\n",
       "  'status': 'ok',\n",
       "  'bad_predicates': [],\n",
       "  'good_predicates': [['OCD', 'patients'], ['patients', 'GABBR1']],\n",
       "  'agatha_score': []},\n",
       " {'sent_text': 'Baclofen, by targeting the GABA_B receptor, could help manage these urinary symptoms, indicating a therapeutic pathway that involves the GABA_B receptor system.In summary, the indirect relationship between GABBR1 and Baclofen is mediated through their roles in OCD and LUTS. ',\n",
       "  'status': 'REWORK',\n",
       "  'bad_predicates': [['GABA_B receptor', 'urinary symptoms', 4],\n",
       "   ['GABBR1', 'LUTS', 2]],\n",
       "  'good_predicates': [['Baclofen', 'GABA_B receptor'],\n",
       "   ['Baclofen', 'urinary symptoms', 1],\n",
       "   ['Baclofen', 'OCD'],\n",
       "   ['Baclofen', 'LUTS'],\n",
       "   ['GABBR1', 'OCD']],\n",
       "  'agatha_score': [0.7034872174263, 0.4887341856956482, 0.41362619400024414]},\n",
       " {'sent_text': 'Alterations in GABBR1 may influence GABAergic signaling in OCD, which is associated with LUTS. ',\n",
       "  'status': 'REWORK',\n",
       "  'bad_predicates': [['GABBR1', 'LUTS', 2]],\n",
       "  'good_predicates': [['GABBR1', 'OCD']],\n",
       "  'agatha_score': [0.44010862708091736]},\n",
       " {'sent_text': 'Baclofen, acting on the GABA_B receptor, can alleviate these urinary symptoms, suggesting a potential therapeutic link. ',\n",
       "  'status': 'ok',\n",
       "  'bad_predicates': [],\n",
       "  'good_predicates': [['Baclofen', 'GABA_B receptor']],\n",
       "  'agatha_score': []}]"
      ]
     },
     "execution_count": 38,
     "metadata": {},
     "output_type": "execute_result"
    }
   ],
   "source": [
    "%%time\n",
    "eval_result = evaluate_llm_resp(llm_resp_path_1)\n",
    "eval_result"
   ]
  },
  {
   "cell_type": "markdown",
   "id": "d2e1b346-7df4-4980-92d9-f88db6379af9",
   "metadata": {},
   "source": [
    "### 3.1. List of Rework Sentences"
   ]
  },
  {
   "cell_type": "code",
   "execution_count": 39,
   "id": "56fcb6d7-f16b-45e1-99f2-dafd03c2abb9",
   "metadata": {
    "execution": {
     "iopub.execute_input": "2024-07-16T16:09:58.069942Z",
     "iopub.status.busy": "2024-07-16T16:09:58.069509Z",
     "iopub.status.idle": "2024-07-16T16:09:58.119740Z",
     "shell.execute_reply": "2024-07-16T16:09:58.118707Z",
     "shell.execute_reply.started": "2024-07-16T16:09:58.069900Z"
    }
   },
   "outputs": [
    {
     "data": {
      "text/html": [
       "<div>\n",
       "<style scoped>\n",
       "    .dataframe tbody tr th:only-of-type {\n",
       "        vertical-align: middle;\n",
       "    }\n",
       "\n",
       "    .dataframe tbody tr th {\n",
       "        vertical-align: top;\n",
       "    }\n",
       "\n",
       "    .dataframe thead th {\n",
       "        text-align: right;\n",
       "    }\n",
       "</style>\n",
       "<table border=\"1\" class=\"dataframe\">\n",
       "  <thead>\n",
       "    <tr style=\"text-align: right;\">\n",
       "      <th></th>\n",
       "      <th>index</th>\n",
       "      <th>sent_text</th>\n",
       "      <th>status</th>\n",
       "      <th>bad_predicates</th>\n",
       "      <th>good_predicates</th>\n",
       "      <th>agatha_score</th>\n",
       "      <th>reworked_part</th>\n",
       "    </tr>\n",
       "  </thead>\n",
       "  <tbody>\n",
       "    <tr>\n",
       "      <th>0</th>\n",
       "      <td>0</td>\n",
       "      <td>Based on the provided abstracts, an indirect relationship between GABBR1 and Baclofen can be described as follows:1.</td>\n",
       "      <td>ok</td>\n",
       "      <td>[]</td>\n",
       "      <td>[]</td>\n",
       "      <td>[]</td>\n",
       "      <td>None</td>\n",
       "    </tr>\n",
       "    <tr>\n",
       "      <th>1</th>\n",
       "      <td>1</td>\n",
       "      <td>GABBR1 and OCD: The first abstract discusses the potential role of DNA methylation in the gamma-aminobutyric acid B receptor 1 (GABBR1) gene in the context of obsessive-compulsive disorder (OCD).</td>\n",
       "      <td>ok</td>\n",
       "      <td>[]</td>\n",
       "      <td>[[DNA methylation, gene]]</td>\n",
       "      <td>[]</td>\n",
       "      <td>None</td>\n",
       "    </tr>\n",
       "    <tr>\n",
       "      <th>2</th>\n",
       "      <td>2</td>\n",
       "      <td>The study suggests preliminary support for differential methylation of GABBR1 in individuals with OCD, which may correlate with the severity of the disorder and treatment outcomes.</td>\n",
       "      <td>REWORK</td>\n",
       "      <td>[[individuals, GABBR1, 8]]</td>\n",
       "      <td>[[OCD, individuals]]</td>\n",
       "      <td>[0.7814140319824219]</td>\n",
       "      <td>None</td>\n",
       "    </tr>\n",
       "    <tr>\n",
       "      <th>3</th>\n",
       "      <td>3</td>\n",
       "      <td>This indicates that GABBR1 could be involved in the pathophysiology of OCD, potentially affecting the GABAergic system.2.</td>\n",
       "      <td>ok</td>\n",
       "      <td>[]</td>\n",
       "      <td>[[GABBR1, OCD]]</td>\n",
       "      <td>[]</td>\n",
       "      <td>None</td>\n",
       "    </tr>\n",
       "    <tr>\n",
       "      <th>4</th>\n",
       "      <td>4</td>\n",
       "      <td>OCD and LUTS: The second abstract highlights an association between OCD and lower urinary tract symptoms (LUTS) in women.</td>\n",
       "      <td>ok</td>\n",
       "      <td>[]</td>\n",
       "      <td>[[OCD, women], [lower urinary tract symptoms, women]]</td>\n",
       "      <td>[]</td>\n",
       "      <td>None</td>\n",
       "    </tr>\n",
       "    <tr>\n",
       "      <th>5</th>\n",
       "      <td>5</td>\n",
       "      <td>It suggests that women with OCD are more likely to experience voiding dysfunction and urodynamic abnormalities, such as bladder outlet obstruction.</td>\n",
       "      <td>ok</td>\n",
       "      <td>[]</td>\n",
       "      <td>[[voiding dysfunction, women], [OCD, women]]</td>\n",
       "      <td>[]</td>\n",
       "      <td>None</td>\n",
       "    </tr>\n",
       "    <tr>\n",
       "      <th>6</th>\n",
       "      <td>6</td>\n",
       "      <td>This implies a possible link between neuropsychiatric conditions like OCD and urinary symptoms.3.</td>\n",
       "      <td>ok</td>\n",
       "      <td>[]</td>\n",
       "      <td>[]</td>\n",
       "      <td>[]</td>\n",
       "      <td>None</td>\n",
       "    </tr>\n",
       "    <tr>\n",
       "      <th>7</th>\n",
       "      <td>7</td>\n",
       "      <td>Baclofen and LUTS: The third abstract evaluates the use of Baclofen, a GABA_B receptor agonist, in combination with antimuscarinics to treat women with overactive bladder (OAB) and abnormal voiding patterns.</td>\n",
       "      <td>REWORK</td>\n",
       "      <td>[[antimuscarinics, abnormal voiding, 11], [Baclofen, abnormal voiding, 9], [GABA_B receptor agonist, abnormal voiding, 11]]</td>\n",
       "      <td>[[antimuscarinics, overactive bladder], [Baclofen, overactive bladder], [GABA_B receptor agonist, overactive bladder, 1], [abnormal voiding, women], [overactive bladder, women], [antimuscarinics, women], [Baclofen, women], [GABA_B receptor agonist, women, 1]]</td>\n",
       "      <td>[0.4506675601005554, 0.494037002325058, 0.21089904010295868, 0.5443702340126038, 0.7128509879112244]</td>\n",
       "      <td>None</td>\n",
       "    </tr>\n",
       "    <tr>\n",
       "      <th>8</th>\n",
       "      <td>8</td>\n",
       "      <td>The study finds that Baclofen can reduce voiding difficulties when added to antimuscarinic treatment, suggesting its efficacy in managing urinary symptoms.### Indirect Relationship:- GABBR1 and Baclofen: GABBR1 encodes the GABA_B receptor, which is the target of Baclofen.</td>\n",
       "      <td>ok</td>\n",
       "      <td>[]</td>\n",
       "      <td>[[Baclofen, voiding difficulties], [GABA_B receptor, Baclofen]]</td>\n",
       "      <td>[]</td>\n",
       "      <td>None</td>\n",
       "    </tr>\n",
       "    <tr>\n",
       "      <th>9</th>\n",
       "      <td>9</td>\n",
       "      <td>The first abstract indicates that GABBR1 may be epigenetically altered in OCD, potentially affecting GABAergic signaling.</td>\n",
       "      <td>ok</td>\n",
       "      <td>[]</td>\n",
       "      <td>[[GABBR1, OCD]]</td>\n",
       "      <td>[]</td>\n",
       "      <td>None</td>\n",
       "    </tr>\n",
       "    <tr>\n",
       "      <th>10</th>\n",
       "      <td>10</td>\n",
       "      <td>The second abstract connects OCD with LUTS, and the third abstract shows that Baclofen, a GABA_B receptor agonist, can alleviate voiding difficulties in OAB.- Connecting the Dots: Although the studies do not directly link GABBR1 and Baclofen, they collectively suggest an indirect relationship.</td>\n",
       "      <td>REWORK</td>\n",
       "      <td>[[GABA_B receptor agonist, voiding difficulties, 5]]</td>\n",
       "      <td>[[voiding difficulties, OAB, 1]]</td>\n",
       "      <td>[0.3610890209674835, 0.7064927220344543]</td>\n",
       "      <td>None</td>\n",
       "    </tr>\n",
       "    <tr>\n",
       "      <th>11</th>\n",
       "      <td>11</td>\n",
       "      <td>Alterations in GABBR1 (potentially affecting GABA_B receptor function) in OCD patients might contribute to LUTS.</td>\n",
       "      <td>ok</td>\n",
       "      <td>[]</td>\n",
       "      <td>[[OCD, patients], [patients, GABBR1]]</td>\n",
       "      <td>[]</td>\n",
       "      <td>None</td>\n",
       "    </tr>\n",
       "    <tr>\n",
       "      <th>12</th>\n",
       "      <td>12</td>\n",
       "      <td>Baclofen, by targeting the GABA_B receptor, could help manage these urinary symptoms, indicating a therapeutic pathway that involves the GABA_B receptor system.In summary, the indirect relationship between GABBR1 and Baclofen is mediated through their roles in OCD and LUTS.</td>\n",
       "      <td>REWORK</td>\n",
       "      <td>[[GABA_B receptor, urinary symptoms, 4], [GABBR1, LUTS, 2]]</td>\n",
       "      <td>[[Baclofen, GABA_B receptor], [Baclofen, urinary symptoms, 1], [Baclofen, OCD], [Baclofen, LUTS], [GABBR1, OCD]]</td>\n",
       "      <td>[0.7034872174263, 0.4887341856956482, 0.41362619400024414]</td>\n",
       "      <td>None</td>\n",
       "    </tr>\n",
       "    <tr>\n",
       "      <th>13</th>\n",
       "      <td>13</td>\n",
       "      <td>Alterations in GABBR1 may influence GABAergic signaling in OCD, which is associated with LUTS.</td>\n",
       "      <td>REWORK</td>\n",
       "      <td>[[GABBR1, LUTS, 2]]</td>\n",
       "      <td>[[GABBR1, OCD]]</td>\n",
       "      <td>[0.44010862708091736]</td>\n",
       "      <td>None</td>\n",
       "    </tr>\n",
       "    <tr>\n",
       "      <th>14</th>\n",
       "      <td>14</td>\n",
       "      <td>Baclofen, acting on the GABA_B receptor, can alleviate these urinary symptoms, suggesting a potential therapeutic link.</td>\n",
       "      <td>ok</td>\n",
       "      <td>[]</td>\n",
       "      <td>[[Baclofen, GABA_B receptor]]</td>\n",
       "      <td>[]</td>\n",
       "      <td>None</td>\n",
       "    </tr>\n",
       "  </tbody>\n",
       "</table>\n",
       "</div>"
      ],
      "text/plain": [
       "    index  \\\n",
       "0       0   \n",
       "1       1   \n",
       "2       2   \n",
       "3       3   \n",
       "4       4   \n",
       "5       5   \n",
       "6       6   \n",
       "7       7   \n",
       "8       8   \n",
       "9       9   \n",
       "10     10   \n",
       "11     11   \n",
       "12     12   \n",
       "13     13   \n",
       "14     14   \n",
       "\n",
       "                                                                                                                                                                                                                                                                                                  sent_text  \\\n",
       "0                                                                                                                                                                                     Based on the provided abstracts, an indirect relationship between GABBR1 and Baclofen can be described as follows:1.    \n",
       "1                                                                                                      GABBR1 and OCD: The first abstract discusses the potential role of DNA methylation in the gamma-aminobutyric acid B receptor 1 (GABBR1) gene in the context of obsessive-compulsive disorder (OCD).    \n",
       "2                                                                                                                     The study suggests preliminary support for differential methylation of GABBR1 in individuals with OCD, which may correlate with the severity of the disorder and treatment outcomes.    \n",
       "3                                                                                                                                                                                This indicates that GABBR1 could be involved in the pathophysiology of OCD, potentially affecting the GABAergic system.2.    \n",
       "4                                                                                                                                                                                OCD and LUTS: The second abstract highlights an association between OCD and lower urinary tract symptoms (LUTS) in women.    \n",
       "5                                                                                                                                                      It suggests that women with OCD are more likely to experience voiding dysfunction and urodynamic abnormalities, such as bladder outlet obstruction.    \n",
       "6                                                                                                                                                                                                        This implies a possible link between neuropsychiatric conditions like OCD and urinary symptoms.3.    \n",
       "7                                                                                          Baclofen and LUTS: The third abstract evaluates the use of Baclofen, a GABA_B receptor agonist, in combination with antimuscarinics to treat women with overactive bladder (OAB) and abnormal voiding patterns.    \n",
       "8                         The study finds that Baclofen can reduce voiding difficulties when added to antimuscarinic treatment, suggesting its efficacy in managing urinary symptoms.### Indirect Relationship:- GABBR1 and Baclofen: GABBR1 encodes the GABA_B receptor, which is the target of Baclofen.    \n",
       "9                                                                                                                                                                                The first abstract indicates that GABBR1 may be epigenetically altered in OCD, potentially affecting GABAergic signaling.    \n",
       "10  The second abstract connects OCD with LUTS, and the third abstract shows that Baclofen, a GABA_B receptor agonist, can alleviate voiding difficulties in OAB.- Connecting the Dots: Although the studies do not directly link GABBR1 and Baclofen, they collectively suggest an indirect relationship.    \n",
       "11                                                                                                                                                                                        Alterations in GABBR1 (potentially affecting GABA_B receptor function) in OCD patients might contribute to LUTS.    \n",
       "12                      Baclofen, by targeting the GABA_B receptor, could help manage these urinary symptoms, indicating a therapeutic pathway that involves the GABA_B receptor system.In summary, the indirect relationship between GABBR1 and Baclofen is mediated through their roles in OCD and LUTS.    \n",
       "13                                                                                                                                                                                                          Alterations in GABBR1 may influence GABAergic signaling in OCD, which is associated with LUTS.    \n",
       "14                                                                                                                                                                                 Baclofen, acting on the GABA_B receptor, can alleviate these urinary symptoms, suggesting a potential therapeutic link.    \n",
       "\n",
       "    status  \\\n",
       "0       ok   \n",
       "1       ok   \n",
       "2   REWORK   \n",
       "3       ok   \n",
       "4       ok   \n",
       "5       ok   \n",
       "6       ok   \n",
       "7   REWORK   \n",
       "8       ok   \n",
       "9       ok   \n",
       "10  REWORK   \n",
       "11      ok   \n",
       "12  REWORK   \n",
       "13  REWORK   \n",
       "14      ok   \n",
       "\n",
       "                                                                                                                 bad_predicates  \\\n",
       "0                                                                                                                            []   \n",
       "1                                                                                                                            []   \n",
       "2                                                                                                    [[individuals, GABBR1, 8]]   \n",
       "3                                                                                                                            []   \n",
       "4                                                                                                                            []   \n",
       "5                                                                                                                            []   \n",
       "6                                                                                                                            []   \n",
       "7   [[antimuscarinics, abnormal voiding, 11], [Baclofen, abnormal voiding, 9], [GABA_B receptor agonist, abnormal voiding, 11]]   \n",
       "8                                                                                                                            []   \n",
       "9                                                                                                                            []   \n",
       "10                                                                         [[GABA_B receptor agonist, voiding difficulties, 5]]   \n",
       "11                                                                                                                           []   \n",
       "12                                                                  [[GABA_B receptor, urinary symptoms, 4], [GABBR1, LUTS, 2]]   \n",
       "13                                                                                                          [[GABBR1, LUTS, 2]]   \n",
       "14                                                                                                                           []   \n",
       "\n",
       "                                                                                                                                                                                                                                                        good_predicates  \\\n",
       "0                                                                                                                                                                                                                                                                    []   \n",
       "1                                                                                                                                                                                                                                             [[DNA methylation, gene]]   \n",
       "2                                                                                                                                                                                                                                                  [[OCD, individuals]]   \n",
       "3                                                                                                                                                                                                                                                       [[GABBR1, OCD]]   \n",
       "4                                                                                                                                                                                                                 [[OCD, women], [lower urinary tract symptoms, women]]   \n",
       "5                                                                                                                                                                                                                          [[voiding dysfunction, women], [OCD, women]]   \n",
       "6                                                                                                                                                                                                                                                                    []   \n",
       "7   [[antimuscarinics, overactive bladder], [Baclofen, overactive bladder], [GABA_B receptor agonist, overactive bladder, 1], [abnormal voiding, women], [overactive bladder, women], [antimuscarinics, women], [Baclofen, women], [GABA_B receptor agonist, women, 1]]   \n",
       "8                                                                                                                                                                                                       [[Baclofen, voiding difficulties], [GABA_B receptor, Baclofen]]   \n",
       "9                                                                                                                                                                                                                                                       [[GABBR1, OCD]]   \n",
       "10                                                                                                                                                                                                                                     [[voiding difficulties, OAB, 1]]   \n",
       "11                                                                                                                                                                                                                                [[OCD, patients], [patients, GABBR1]]   \n",
       "12                                                                                                                                                     [[Baclofen, GABA_B receptor], [Baclofen, urinary symptoms, 1], [Baclofen, OCD], [Baclofen, LUTS], [GABBR1, OCD]]   \n",
       "13                                                                                                                                                                                                                                                      [[GABBR1, OCD]]   \n",
       "14                                                                                                                                                                                                                                        [[Baclofen, GABA_B receptor]]   \n",
       "\n",
       "                                                                                            agatha_score  \\\n",
       "0                                                                                                     []   \n",
       "1                                                                                                     []   \n",
       "2                                                                                   [0.7814140319824219]   \n",
       "3                                                                                                     []   \n",
       "4                                                                                                     []   \n",
       "5                                                                                                     []   \n",
       "6                                                                                                     []   \n",
       "7   [0.4506675601005554, 0.494037002325058, 0.21089904010295868, 0.5443702340126038, 0.7128509879112244]   \n",
       "8                                                                                                     []   \n",
       "9                                                                                                     []   \n",
       "10                                                              [0.3610890209674835, 0.7064927220344543]   \n",
       "11                                                                                                    []   \n",
       "12                                            [0.7034872174263, 0.4887341856956482, 0.41362619400024414]   \n",
       "13                                                                                 [0.44010862708091736]   \n",
       "14                                                                                                    []   \n",
       "\n",
       "   reworked_part  \n",
       "0           None  \n",
       "1           None  \n",
       "2           None  \n",
       "3           None  \n",
       "4           None  \n",
       "5           None  \n",
       "6           None  \n",
       "7           None  \n",
       "8           None  \n",
       "9           None  \n",
       "10          None  \n",
       "11          None  \n",
       "12          None  \n",
       "13          None  \n",
       "14          None  "
      ]
     },
     "execution_count": 39,
     "metadata": {},
     "output_type": "execute_result"
    }
   ],
   "source": [
    "expl_parts_df = pd.DataFrame(eval_result).reset_index()\n",
    "expl_parts_df['reworked_part'] = None\n",
    "expl_parts_df"
   ]
  },
  {
   "cell_type": "code",
   "execution_count": 40,
   "id": "9a3f81c5-f4ac-46ac-8ef4-f692fd155288",
   "metadata": {
    "execution": {
     "iopub.execute_input": "2024-07-16T16:10:00.784887Z",
     "iopub.status.busy": "2024-07-16T16:10:00.784461Z",
     "iopub.status.idle": "2024-07-16T16:10:00.791218Z",
     "shell.execute_reply": "2024-07-16T16:10:00.790446Z",
     "shell.execute_reply.started": "2024-07-16T16:10:00.784848Z"
    }
   },
   "outputs": [
    {
     "name": "stdout",
     "output_type": "stream",
     "text": [
      "['The study suggests preliminary support for differential methylation of GABBR1 in individuals with OCD, which may correlate with the severity of the disorder and treatment outcomes. ', 'Baclofen and LUTS: The third abstract evaluates the use of Baclofen, a GABA_B receptor agonist, in combination with antimuscarinics to treat women with overactive bladder (OAB) and abnormal voiding patterns. ', 'The second abstract connects OCD with LUTS, and the third abstract shows that Baclofen, a GABA_B receptor agonist, can alleviate voiding difficulties in OAB.- Connecting the Dots: Although the studies do not directly link GABBR1 and Baclofen, they collectively suggest an indirect relationship. ', 'Baclofen, by targeting the GABA_B receptor, could help manage these urinary symptoms, indicating a therapeutic pathway that involves the GABA_B receptor system.In summary, the indirect relationship between GABBR1 and Baclofen is mediated through their roles in OCD and LUTS. ', 'Alterations in GABBR1 may influence GABAergic signaling in OCD, which is associated with LUTS. ']\n"
     ]
    },
    {
     "data": {
      "text/plain": [
       "5"
      ]
     },
     "execution_count": 40,
     "metadata": {},
     "output_type": "execute_result"
    }
   ],
   "source": [
    "expl_parts_enum_dict = dict(enumerate(eval_result))\n",
    "rework_sentences = []\n",
    "\n",
    "for key, value in expl_parts_enum_dict.items():\n",
    "    if value['status'] == 'REWORK':  \n",
    "        rework_sentences.append(value['sent_text']) \n",
    "print(rework_sentences)\n",
    "len(rework_sentences)"
   ]
  },
  {
   "cell_type": "markdown",
   "id": "30587876-b48b-4aa0-9155-55c62fbb135c",
   "metadata": {},
   "source": [
    "### 3.2. Find_top_k doc"
   ]
  },
  {
   "cell_type": "code",
   "execution_count": 38,
   "id": "f25922f7-a828-4e51-9233-ee52c7a130a3",
   "metadata": {
    "execution": {
     "iopub.execute_input": "2024-07-16T17:27:33.217897Z",
     "iopub.status.busy": "2024-07-16T17:27:33.217465Z",
     "iopub.status.idle": "2024-07-16T17:27:35.530069Z",
     "shell.execute_reply": "2024-07-16T17:27:35.529463Z",
     "shell.execute_reply.started": "2024-07-16T17:27:33.217857Z"
    }
   },
   "outputs": [],
   "source": [
    "model_sbert = SentenceTransformer('paraphrase-MiniLM-L6-v2')\n",
    "\n",
    "def find_top_documents_for_queries(queries, path_context_dict, top_k=1, return_scores=False):\n",
    "    # Flatten the contexts into a list of (pmid, context) tuples\n",
    "    abstract_texts = []\n",
    "    pmid_list = []\n",
    "    for edges, pmid_dict in path_context_dict.items():\n",
    "        for pmid, context in pmid_dict.items():\n",
    "            abstract_texts.append(context)\n",
    "            pmid_list.append(pmid)\n",
    "    \n",
    "    context_embeddings = model_sbert.encode(abstract_texts, convert_to_tensor=True)\n",
    "    results = []\n",
    "\n",
    "    # Process each query\n",
    "    for query in queries:\n",
    "        query_embedding = model_sbert.encode(query, convert_to_tensor=True)\n",
    "        search_results = util.semantic_search(query_embedding, context_embeddings, top_k=top_k)\n",
    "        top_results = search_results[0]\n",
    "        \n",
    "        if return_scores:\n",
    "            top_pmids_scores = [(pmid_list[result['corpus_id']], result['score']) for result in top_results]\n",
    "            results.append(top_pmids_scores)\n",
    "        else:\n",
    "            top_pmids = [pmid_list[result['corpus_id']] for result in top_results]\n",
    "            results.append(top_pmids)\n",
    "\n",
    "    return results"
   ]
  },
  {
   "cell_type": "code",
   "execution_count": 42,
   "id": "fc258349-2d42-4da3-9008-0248243fa232",
   "metadata": {
    "execution": {
     "iopub.execute_input": "2024-07-16T16:10:08.626696Z",
     "iopub.status.busy": "2024-07-16T16:10:08.626422Z",
     "iopub.status.idle": "2024-07-16T16:10:13.527618Z",
     "shell.execute_reply": "2024-07-16T16:10:13.525670Z",
     "shell.execute_reply.started": "2024-07-16T16:10:08.626666Z"
    }
   },
   "outputs": [
    {
     "name": "stdout",
     "output_type": "stream",
     "text": [
      "CPU times: user 1.84 s, sys: 1.89 s, total: 3.74 s\n",
      "Wall time: 4.87 s\n"
     ]
    },
    {
     "data": {
      "text/plain": [
       "[['27047397'], ['22905457'], ['34787920'], ['34787920'], ['27047397']]"
      ]
     },
     "execution_count": 42,
     "metadata": {},
     "output_type": "execute_result"
    }
   ],
   "source": [
    "%%time\n",
    "top_documents = find_top_documents_for_queries(rework_sentences, path_context_dict, top_k=1)\n",
    "top_documents"
   ]
  },
  {
   "cell_type": "markdown",
   "id": "7866bbc0-9b4a-4f3e-8858-66fe0f0bf821",
   "metadata": {},
   "source": [
    "## 4. Update Prompt based on prior rework sentences:"
   ]
  },
  {
   "cell_type": "code",
   "execution_count": 30,
   "id": "8191235c-2def-450e-be28-4837a2f4749f",
   "metadata": {
    "execution": {
     "iopub.execute_input": "2024-07-15T16:20:50.521807Z",
     "iopub.status.busy": "2024-07-15T16:20:50.521444Z",
     "iopub.status.idle": "2024-07-15T16:20:50.530634Z",
     "shell.execute_reply": "2024-07-15T16:20:50.530113Z",
     "shell.execute_reply.started": "2024-07-15T16:20:50.521769Z"
    },
    "scrolled": true
   },
   "outputs": [
    {
     "data": {
      "text/plain": [
       "'How would you describe an indirect relationship between GABBR1 gene and Baclofen given the following scientific abstracts as context? \\n\\nPlease note that the following sentence from the last response is incorrect: \\n\"[\\'The third abstract demonstrates that Baclofen can inhibit various sensory nerve fibers, including those expressing VGLUT3, through its action on GABAB receptors.In summary, the indirect relationship between the GABBR1 gene and Baclofen can be described as follows: Variants in the GABBR1 gene, which encodes a subunit of the GABAB receptor, influence the risk of alcoholism and potentially the response to Baclofen treatment. \\']\"\\n\\nContext from scientific literature: \\n\\n\\nGABBR1 and SLC6A1, Two Genes Involved in Modulation of GABA Synaptic Transmission, Influence Risk for Alcoholism: Results from Three Ethnically Diverse Populations. Animal and human studies indicate that GABBR1, encoding the GABAB1 receptor subunit, and SLC6A1, encoding the neuronal gamma-aminobutyric acid (GABA) transporter GAT1, play a role in addiction by modulating synaptic GABA. Therefore, variants in these genes might predict risk/resilience for alcoholism. This study included 3 populations that differed by ethnicity and alcoholism phenotype: African American (AA) men: 401 treatment-seeking inpatients with single/comorbid diagnoses of alcohol and drug dependence, 193 controls; Finnish Caucasian men: 159 incarcerated alcoholics, half with comorbid antisocial personality disorder, 181 controls; and a community sample of Plains Indian (PI) men and women: 239 alcoholics, 178 controls. Seven GABBR1 tag single nucleotide polymorphisms were genotyped in the AA and Finnish samples; rs29220 was genotyped in the PI for replication. Also, a uniquely African, functional SLC6A1 insertion promoter polymorphism (IND) was genotyped in the AAs. We found a significant and congruent association between GABBR1 rs29220 and alcoholism in all 3 populations. The major genotype (heterozygotes in AAs, Finns) and the major allele in PIs were significantly more common in alcoholics. Moreover, SLC6A1 IND was more abundant in controls, that is, the major genotype predicted alcoholism. An analysis of combined GABBR1 rs29220 and SLC6A1 IND genotypes showed that rs29220 heterozygotes, irrespective of their IND status, had an increased risk for alcoholism, whereas carriers of the IND allele and either rs29220 homozygote were more resilient. Our results show that with both GABBR1 and SLC6A1, the minor genotypes/alleles were protective against risk for alcoholism. Finally, GABBR1 rs29220 might predict treatment response/adverse effects for baclofen, a GABAB receptor agonist. \\n\\nVesicular glutamate transporter-3 in the rodent brain: vesicular colocalization with vesicular gamma-aminobutyric acid transporter. Vesicular glutamate transporters (VGLUT1-3) carry glutamate into synaptic vesicles. VGLUT3 has been reported to be localized in nonglutamatergic neuronal populations in the brain. However, detailed subcellular localization of VGLUT3 has not been shown. In particular, the identity of synaptic vesicles expressing VGLUT3 remains to be revealed. Here we present novel electron microscopic postembedding immunogold data from mouse and rat brains showing that small, clear, and round synaptic vesicles in gamma-aminobutyric acid (GABA)-ergic nerve terminals contain labeling for both VGLUT3 and the vesicular GABA transporter (VGAT). Immunoisolation of synaptic vesicles confirmed the immunogold data and showed vesicular colocalization of VGLUT3 and VGAT. Moreover, we show that gold particles signaling VGLUT3 are present in synaptic vesicles in acetylcholinergic nerve terminals in the striatum. Quantitative immunogold analyses reveal that the density of VGLUT3 gold particles is similar in GABAergic terminals in the hippocampus and the neocortex to that in cholinergic terminals in the striatum. In contrast to in the hippocampus and the neocortex, VGLUT3 was absent from VGAT-positive terminals in the striatum. The labeling pattern produced by the VGLUT3 antibodies was found to be specific; there was no labeling in VGLUT3 knockout tissue, and the observed labeling throughout the rat brain corresponds to the known light-microscopic distribution of VGLUT3. From the present results, we infer that glutamate is released with GABA from inhibitory terminals and acetylcholine from cholinergic terminals. \\n\\nPresynaptic inhibition of optogenetically identified VGluT3+ sensory fibres by opioids and baclofen. Distinct subsets of sensory nerve fibres are involved in mediating mechanical and thermal pain hypersensitivity. They may also differentially respond to analgesics. Heat-sensitive C-fibres, for example, are thought to respond to mu-opioid receptor (MOR) activation while mechanoreceptive fibres are supposedly sensitive to delta-opioid receptor (DOR) or GABAB receptor (GABABR) activation. The suggested differential distribution of inhibitory neurotransmitter receptors on different subsets of sensory fibres is, however, heavily debated. In this study, we quantitatively compared the degree of presynaptic inhibition exerted by opioids and the GABABR agonist baclofen on (1) vesicular glutamate transporter subtype 3-positive (VGluT3) non-nociceptive primary afferent fibres and (2) putative nociceptive C-fibres. To investigate VGluT3 sensory fibres, we evoked excitatory postsynaptic currents with blue light at the level of the dorsal root ganglion (DRG) in spinal cord slices of mice, expressing channelrhodopsin-2. Putative nociceptive C-fibres were explored in VGluT3-knockout mice through electrical stimulation. The MOR agonist DAMGO strongly inhibited both VGluT3 and VGluT3 C-fibres innervating lamina I neurons but generally had less influence on fibres innervating lamina II neurons. The DOR agonist SNC80 did not have any pronounced effect on synaptic transmission in any fibre type tested. Baclofen, in striking contrast, powerfully inhibited all fibre populations investigated. In summary, we report optogenetic stimulation of DRG neurons in spinal slices as a capable approach for the subtype-selective investigation of primary afferent nerve fibres. Overall, pharmacological accessibility of different subtypes of sensory fibres considerably overlaps, indicating that MOR, DOR, and GABABR expressions are not substantially segregated between heat and mechanosensitive fibres. '"
      ]
     },
     "execution_count": 30,
     "metadata": {},
     "output_type": "execute_result"
    }
   ],
   "source": [
    "source_cui = 'GABBR1 gene'  # 'C1414904'\n",
    "target_cui = 'Baclofen'     # 'C0004609'\n",
    "llm_prompt_template = '''How would you describe an indirect relationship between {source} and {target} given the following scientific abstracts as context? \n",
    "\n",
    "Please note that the following sentence from the last response is incorrect: \n",
    "\"{rework_sentences}\"\n",
    "\n",
    "Context from scientific literature: \n",
    "'''\n",
    "\n",
    "llm_fix_prompt_str = '\\n\\n'.join(path_context_abstracts)\n",
    "llm_fix_prompt_combo = llm_prompt_template.format(source=source_cui, target=target_cui, rework_sentences=rework_sentences) +  '\\n\\n' + llm_fix_prompt_str\n",
    "llm_fix_prompt_combo"
   ]
  },
  {
   "cell_type": "code",
   "execution_count": 21,
   "id": "64f13756-af5b-46ba-a5bd-6c3016491b4a",
   "metadata": {
    "execution": {
     "iopub.execute_input": "2024-07-16T17:21:09.510277Z",
     "iopub.status.busy": "2024-07-16T17:21:09.509914Z",
     "iopub.status.idle": "2024-07-16T17:21:09.517020Z",
     "shell.execute_reply": "2024-07-16T17:21:09.516313Z",
     "shell.execute_reply.started": "2024-07-16T17:21:09.510240Z"
    }
   },
   "outputs": [],
   "source": [
    "agatha_sent_db_path = (\n",
    "    '/lustre/acslab/shared/Agatha_shared/2021_11_22_full/sentences.sqlite3'\n",
    ")\n",
    "sents_db = Sqlite3LookupTable(agatha_sent_db_path)"
   ]
  },
  {
   "cell_type": "code",
   "execution_count": 20,
   "id": "b4fa91ee-151d-445b-9171-994599957b25",
   "metadata": {
    "execution": {
     "iopub.execute_input": "2024-07-16T17:21:07.751982Z",
     "iopub.status.busy": "2024-07-16T17:21:07.751553Z",
     "iopub.status.idle": "2024-07-16T17:21:07.756450Z",
     "shell.execute_reply": "2024-07-16T17:21:07.755738Z",
     "shell.execute_reply.started": "2024-07-16T17:21:07.751933Z"
    }
   },
   "outputs": [],
   "source": [
    "def retrieve_abstracts_from_pmids(pmids):\n",
    "    abstracts = []\n",
    "    \n",
    "    for pmid in pmids:\n",
    "        abstr_text = text_util.get_abstr_text(pmid, sents_db)\n",
    "        abstracts.append(abstr_text)\n",
    "    \n",
    "    return abstracts "
   ]
  },
  {
   "cell_type": "markdown",
   "id": "41fe65f4-a144-4492-b9f8-faa22f21c700",
   "metadata": {},
   "source": [
    "## 5. Automated Feedback Loop:"
   ]
  },
  {
   "cell_type": "code",
   "execution_count": 81,
   "id": "650038a2-ba70-4e95-9346-76fd97945a9d",
   "metadata": {
    "execution": {
     "iopub.execute_input": "2024-07-16T17:57:32.387927Z",
     "iopub.status.busy": "2024-07-16T17:57:32.387540Z",
     "iopub.status.idle": "2024-07-16T17:57:32.403001Z",
     "shell.execute_reply": "2024-07-16T17:57:32.402321Z",
     "shell.execute_reply.started": "2024-07-16T17:57:32.387883Z"
    }
   },
   "outputs": [],
   "source": [
    "def feedback_loop(top_20_df, path_context_dict, sents_db, max_iterations=3):\n",
    "    print('\\n-------------------------Step 1: prepare ----------------------------\\n')\n",
    "    # Step 1: Get Path\n",
    "    path_153_context_pmids = top_20_df.loc[186]['context_pmids']\n",
    "    path_context_dict = text_util.get_path_context(path_153_context_pmids, sents_db)\n",
    "    pmid_list = [pubid for path in path_context_dict.values() for pubid in path.keys()]\n",
    "    print(f\"Here is the choosen pmids for this path {pmid_list}\")\n",
    "    path_context_abstracts = semantic_search_util.retrieve_context_path(path_context_dict)\n",
    "    existing_context_pmids = set(path_context_abstracts)\n",
    "    # print(f\"Here is the Existing pmids for this path {existing_context_pmids}\")\n",
    "\n",
    "    print('\\n------------------step 2 Prepare prompt + context -----------------------------------\\n')\n",
    "\n",
    "    # Step 2: Prepare initial prompt\n",
    "    llm_prompt_template = 'How would you describe an indirect relationship between COMT and Tolcapone given the following scientific abstracts as context?'\n",
    "    llm_fix_prompt_str = '\\n\\n'.join(path_context_abstracts)\n",
    "    llm_fix_prompt_combo = llm_prompt_template + '\\n\\n' + llm_fix_prompt_str\n",
    "    print(llm_fix_prompt_combo)\n",
    "\n",
    "    for iteration in tqdm(range(max_iterations), desc=\"Iterations\"):\n",
    "        print(f\"Iteration {iteration + 1}\") \n",
    "\n",
    "        print('\\n------------------step 3: Response generated from LLM -----------------------------------\\n')   \n",
    "        # Step 3: Get Response from LLM\n",
    "        try:\n",
    "            llm_resp_path = oai_get_response(llm_fix_prompt_combo, temp=1e-19, top_p=1e-9, seed=1234)\n",
    "            print(f\"Response from LLM at iteration {iteration + 1}:\\n{llm_resp_path}\")\n",
    "        except Exception as e:\n",
    "            print(f\"Error getting response from LLM at iteration {iteration + 1}: {e}\")\n",
    "            time.sleep(20)  # Wait for 20 seconds before retrying\n",
    "            continue\n",
    "\n",
    "        print('\\n------------------step 4: Start Evaluation -----------------------------------\\n')\n",
    "        # Step 4: Evaluate Response\n",
    "        eval_result_path = evaluate_llm_resp(llm_resp_path)\n",
    "        print('\\n------------------step 4: Evaluation by Agatha is Done -----------------------------------\\n')\n",
    "        \n",
    "        # Extract rework sentences\n",
    "        expl_parts_enum_dict = dict(enumerate(eval_result_path))\n",
    "        rework_sentences = []\n",
    "        for key, value in expl_parts_enum_dict.items():\n",
    "            if value['status'] == 'REWORK':  \n",
    "                rework_sentences.append(value['sent_text'])\n",
    "\n",
    "        # Print rework sentences for the current iteration\n",
    "        if rework_sentences:\n",
    "            print(f\"Rework sentences at iteration {iteration + 1}: {rework_sentences}\")\n",
    "        else:\n",
    "            print(\"There is no Rework Sentence, Satisfactory response achieved.\")\n",
    "            return llm_resp_path\n",
    "\n",
    "        print('\\n------------------step 5 Update Context-----------------------------------\\n')\n",
    "        # Step 5: Update Context\n",
    "        new_context_pmids = []\n",
    "        for rework_sent in rework_sentences:\n",
    "            top_pmid_pop = find_top_documents_for_queries(rework_sentences, path_context_dict, top_k=1)\n",
    "            print(f\"Here is the top_1 closest pmids for this sentence {top_pmid_pop}\")\n",
    "            # Filter out PMIDs already in the context\n",
    "            if len(existing_context_pmids) < 3:\n",
    "                print(\"There is no pmid to replace, stop path, Satisfactory response achieved.\")\n",
    "                return llm_resp_path\n",
    "            else:\n",
    "                # Ensure all PMIDs are hashable types\n",
    "                top_pmid_pop = [tuple(pmid) if isinstance(pmid, list) else pmid for pmid in top_pmid_pop]\n",
    "                \n",
    "                # Convert existing_context_pmids to tuples if necessary\n",
    "                existing_context_pmids = {tuple(pmid) if isinstance(pmid, list) else pmid for pmid in existing_context_pmids}\n",
    "        \n",
    "                new_pmids = [pmid for pmid in top_pmid_pop if pmid not in existing_context_pmids]\n",
    "                new_context_pmids.extend(new_pmids)  # Collect new PMIDs\n",
    "        \n",
    "        # Retrieve abstracts for new PMIDs\n",
    "        new_context_abstracts = retrieve_abstracts_from_pmids(new_context_pmids)\n",
    "        \n",
    "        # Add the new PMIDs to the existing context set\n",
    "        existing_context_pmids.update(new_context_pmids)\n",
    "        \n",
    "        # Log the new contexts\n",
    "        print(f\"New contexts at iteration {iteration + 1}: {new_context_abstracts}\")\n",
    "        \n",
    "        # Add new contexts to the prompt\n",
    "        if new_context_abstracts:\n",
    "            new_context_str = '\\n\\n'.join(new_context_abstracts)\n",
    "            llm_fix_prompt_combo += '\\n\\n' + new_context_str\n",
    "        \n",
    "        print('\\n------------------Step 6 Update Prompt based on Memory of Rework Sentence-----------------------------------\\n')\n",
    "        # Prepare prompt for next iteration if needed\n",
    "        llm_prompt_template = '''How would you describe an indirect relationship between COMT and Tolcapone given the following scientific abstracts as context? \n",
    "        \n",
    "        Please note that the following sentence from the last response is incorrect: \n",
    "        \"{rework_sentence}\"\n",
    "        \n",
    "        Context from scientific literature: \n",
    "        '''\n",
    "        llm_fix_prompt_combo = llm_prompt_template.format(rework_sentence=rework_sentences[0]) + '\\n\\n' + llm_fix_prompt_str\n",
    "        \n",
    "        print(\"Maximum iterations reached without satisfactory response.\")\n",
    "        return llm_resp_path"
   ]
  },
  {
   "cell_type": "code",
   "execution_count": 82,
   "id": "43118080-709c-43b6-82b5-a3b4c6768f28",
   "metadata": {
    "execution": {
     "iopub.execute_input": "2024-07-16T17:57:33.305162Z",
     "iopub.status.busy": "2024-07-16T17:57:33.304769Z",
     "iopub.status.idle": "2024-07-16T17:58:11.105535Z",
     "shell.execute_reply": "2024-07-16T17:58:11.105142Z",
     "shell.execute_reply.started": "2024-07-16T17:57:33.305124Z"
    }
   },
   "outputs": [
    {
     "name": "stdout",
     "output_type": "stream",
     "text": [
      "\n",
      "-------------------------Step 1: prepare ----------------------------\n",
      "\n",
      "Here is the choosen pmids for this path ['20667552', '27283209', '25019647', '20934466']\n",
      "\n",
      "------------------step 2 Prepare prompt + context -----------------------------------\n",
      "\n",
      "How would you describe an indirect relationship between COMT and Tolcapone given the following scientific abstracts as context?\n",
      "\n",
      "Catechol-o-methyltransferase gene modulation on suicidal behavior and personality traits: review, meta-analysis and association study. Suicide is one of the leading causes of death among young adults. Both genetic and personality factors plausibly have a role on suicidal behavior. We focused on the catechol-O-methyltransferase gene (COMT) and we performed: a review of studies investigating the association between COMT and both suicidal behavior and personality; a meta-analysis of studies investigating the association between suicidal behavior and COMT rs4680 polymorphism; an association study investigating the link between seven COMT polymorphisms (rs737865, rs5844402, rs5993883, rs4680, rs4633, rs165599 and rs9332377) and both personality traits and suicidal behavior. For the review and the meta-analysis we performed an electronic search to identify studies focused on the association between COMT and both suicidal behavior and personality. The sample of the association study was composed of three groups: 289 German healthy controls, 111 German suicide attempters and 70 Italian mood disorder patients. From the review, the meta-analysis and the association study no relationship emerged between COMT and suicidal behavior. Nevertheless, from both review and association study several links were found between COMT and personality traits. In particular, in the association study we found a significant correlation between rs4633 and Reward Dependence (Temperament and Character Inventory). As secondary results we found an association between rs737865 and Angry Reaction (State-Trait Anger Expression Inventory) and between rs9332377 and Irritability (Questionnaire for Measuring Factors of Aggression). Our findings suggested that COMT variants may not be directly implicated in suicidal behavior, however evidence of a COMT role in the modulation of personality traits has been found. \n",
      "\n",
      "Meta-analysis of suicide-related behavior or ideation in child, adolescent, and adult patients treated with atomoxetine. This meta-analysis examined suicide-related events in the acute phases of double-blind, placebo-controlled atomoxetine trials in pediatric and adult patients with attention-deficit/hyperactivity disorder (ADHD). A total of 3883 pediatric and 3365 adult patients were included. Potential events were identified from the adverse events database using a text-string search. 355 Mantel-Haenszel risk ratios (MHRR) were calculated for potential suicide-related events categorized according to United States Food and Drug Administration defined codes. In this data set, no completed suicides were reported in the pediatric or adult populations. One pediatric (attempted suicide) (and no adult patient events) was categorized as suicidal behavior in the atomoxetine group. The frequency of combined suicidal behavior or ideation with atomoxetine treatment was 0.37% in pediatric patients (vs. 0.07% with placebo) and 0.11% in adults (vs. 0.12% with placebo) and the risk compared with placebo was not statistically significant (MHRR=1.57; p=0.42 and MHRR=0.96; p=0.96, respectively). In pediatric patients, suicidal ideation only was reported more frequently compared with placebo (MHRR=1.63; p=0.41). Overall in this data set, no completed suicides and 1 pediatric patient suicidal behavior event were reported in atomoxetine-treated pediatric and adult patients. Suicidal ideation was uncommon among atomoxetine-treated pediatric and adult patients, although it was reported more frequently in atomoxetine-treated pediatric patients compared with placebo; the reporting rate difference was not statistically significant. The MHRR of suicidal ideation was consistent with a previous meta-analysis of similar design. There was no evidence of increased risk for suicidal behavior in atomoxetine-treated pediatric or adult patients. http://www.clinicaltrials.gov . The data reported are from an analysis of 23 pediatric and 9 adult clinical trials completed between 1998 and 2011. Ten pediatric (Studies HFBD, HFBK, LYAC, LYAS, LYAT, LYAW, LYAX, LYBG, LYBI, and LYBP) and two adult trials (Studies LYAA and LYAO) were conducted before the requirement to post trials at initiation (ongoing as of July 1, 2005) and, therefore, do not have a registration number. The registration numbers for the 13 pediatric trials meeting this requirement are: NCT00191698 (LYBX), NCT00486122 (LYCC), NCT00386581 (LYCZ), NCT00485459 (S010), NCT00191542 (LY15), NCT00191295 (LYBC), NCT00191906 (LYCK), NCT00192023 (LYCY), NCT00191945 (LYDM), NCT00546910 (LYDV), NCT00406354 (LYDW), NCT00380692 (S017), and NCT00607919 (LYEB). For the seven adult trials, the registration numbers are: NCT00190931 (LYBV), NCT00190957 (LYBY), NCT00190736 (LYCU), NCT00190775 (LYCW), NCT00190879 (LYDQ), NCT00510276 (LYDZ), and NCT00962104 (LYEE). \n",
      "\n",
      "Atomoxetine, ADHD, and the ongoing debate about increased risk of suicidal behaviors: the understudied role of kappa opioid receptor agonism Response to: Capuano A, Scavone C, Rafaniello C, et al. Atomoxetine in the treatment of attention deficit hyperactivity disorder and suicidal ideation. Expert Opin Drug Saf. 2014;13 Suppl 1:S69-78. \n",
      "\n",
      "Sub-optimal performance in the 5-choice serial reaction time task in rats was sensitive to methylphenidate, atomoxetine and d-amphetamine, but unaffected by the COMT inhibitor tolcapone. Prefrontal cortical dopamine (DA) and norepinephrine (NE) are implicated in multiple aspects of cognitive function assessed via the 5-choice serial reaction time task (5-CSRTT) in rodents. The present studies assessed the effects of the NE reuptake inhibitor atomoxetine (0.5-2.0 mg/kg), the mixed DA/NE reuptake inhibitor methylphenidate (0.1-2.0 mg/kg), the catecholamine releaser D-amphetamine (0.1-1.0 mg/kg) and the catecholamine-o-methyl-transferase (COMT) inhibitor tolcapone (3.0-30.0 mg/kg) in rats that exhibited sub-optimal performance (reduced accuracy: <70% correct) in the 5-CSRTT. Increased ITI durations were associated with increased premature responding. Decreased ITI durations resulted in increased percent omissions, increased perseverative responses and increased response latencies, but had no effects on magazine latencies or percent correct. Atomoxetine decreased premature responding at prolonged ITI durations and methylphenidate decreased percent omissions at low doses (0.1 and 0.5 mg/kg). By contrast, D-amphetamine increased premature and perseverative responding in a dose-dependent manner (0.3-1.0 mg/kg). Finally, tolcapone had no effects on sub-optimal performance in the variable ITI 5-CSRTT. These results suggest minimal potential of tolcapone as a therapeutic agent for ADHD and implicate cortical NE, not DA, in impulsive action. \n"
     ]
    },
    {
     "name": "stderr",
     "output_type": "stream",
     "text": [
      "Iterations:   0%|          | 0/3 [00:00<?, ?it/s]"
     ]
    },
    {
     "name": "stdout",
     "output_type": "stream",
     "text": [
      "Iteration 1\n",
      "\n",
      "------------------step 3: Response generated from LLM -----------------------------------\n",
      "\n",
      "Response from LLM at iteration 1:\n",
      "An indirect relationship between catechol-O-methyltransferase (COMT) and tolcapone can be inferred from the provided abstracts, particularly focusing on their roles in cognitive function and behavior.\n",
      "\n",
      "1. **COMT and Personality Traits**: The first abstract discusses the role of the COMT gene in modulating personality traits and its potential, though not direct, association with suicidal behavior. COMT is an enzyme that degrades catecholamines such as dopamine, epinephrine, and norepinephrine, which are crucial for various brain functions, including mood regulation and cognitive processes.\n",
      "\n",
      "2. **Tolcapone as a COMT Inhibitor**: The fourth abstract examines the effects of tolcapone, a COMT inhibitor, on cognitive performance in rats. The study found that tolcapone did not affect sub-optimal performance in the 5-choice serial reaction time task (5-CSRTT), suggesting that tolcapone may not be effective in improving certain cognitive deficits associated with ADHD.\n",
      "\n",
      "3. **Implications for ADHD and Cognitive Function**: The second and third abstracts focus on atomoxetine, a norepinephrine reuptake inhibitor, and its effects on suicidal behavior and cognitive function in ADHD patients. While atomoxetine showed some effects on impulsive behavior, tolcapone did not demonstrate similar efficacy in the animal model.\n",
      "\n",
      "4. **Indirect Relationship**: The indirect relationship between COMT and tolcapone can be summarized as follows:\n",
      "   - **COMT's Role**: COMT is involved in the breakdown of dopamine and other catecholamines, influencing cognitive functions and personality traits.\n",
      "   - **Tolcapone's Mechanism**: Tolcapone inhibits COMT, thereby increasing the availability of dopamine and other catecholamines in the brain.\n",
      "   - **Behavioral and Cognitive Outcomes**: Despite tolcapone's biochemical action on COMT, it did not translate into improved cognitive performance in the 5-CSRTT, indicating that simply increasing catecholamine levels via COMT inhibition may not be sufficient to address certain cognitive deficits or impulsive behaviors.\n",
      "\n",
      "In summary, while COMT plays a role in modulating neurotransmitter levels that affect personality and cognitive functions, tolcapone, as a COMT inhibitor, does not appear to significantly impact cognitive performance in the specific context of the 5-CSRTT in rats. This suggests that the relationship between COMT activity and behavioral outcomes is complex and may involve additional factors beyond the scope of tolcapone's action.\n",
      "\n",
      "------------------step 4: Start Evaluation -----------------------------------\n",
      "\n",
      "Run SemRep in interactive mode...\n",
      "Processing input with replace_utf8.jar utility...\n",
      "Sentence:\n",
      " An indirect relationship between catechol-O-methyltransferase (COMT) and tolcapone can be inferred from the provided abstracts, particularly focusing on their roles in cognitive function and behavior.1. \n",
      "Status:\n",
      " ok\n",
      "\n",
      "-----\n",
      "\n",
      "Sentence:\n",
      " COMT and Personality Traits: The first abstract discusses the role of the COMT gene in modulating personality traits and its potential, though not direct, association with suicidal behavior. \n",
      "Status:\n",
      " ok\n",
      "Recognized:\n",
      "\t ['COMT gene', 'personality traits'] in AGATHA KB\n",
      "\n",
      "-----\n",
      "\n",
      "Agatha score for predicate: 0.7748701572418213\n",
      "Sentence:\n",
      " COMT is an enzyme that degrades catecholamines such as dopamine, epinephrine, and norepinephrine, which are crucial for various brain functions, including mood regulation and cognitive processes.2. \n",
      "Status:\n",
      " REWORK\n",
      "Reason:\n",
      "\t ['epinephrine', 'mood', 4] not in AGATHA KB\n",
      "\n",
      "-----\n",
      "\n",
      "Sentence:\n",
      " Tolcapone as a COMT Inhibitor: The fourth abstract examines the effects of tolcapone, a COMT inhibitor, on cognitive performance in rats. \n",
      "Status:\n",
      " ok\n",
      "Recognized:\n",
      "\t ['COMT inhibitor', 'tolcapone'] in AGATHA KB\n",
      "\t ['COMT inhibitor', 'rats'] in AGATHA KB\n",
      "\n",
      "-----\n",
      "\n",
      "Sentence:\n",
      " The study found that tolcapone did not affect sub-optimal performance in the 5-choice serial reaction time task (5-CSRTT), suggesting that tolcapone may not be effective in improving certain cognitive deficits associated with ADHD.3. \n",
      "Status:\n",
      " ok\n",
      "\n",
      "-----\n",
      "\n",
      "Sentence:\n",
      " Implications for ADHD and Cognitive Function: The second and third abstracts focus on atomoxetine, a norepinephrine reuptake inhibitor, and its effects on suicidal behavior and cognitive function in ADHD patients. \n",
      "Status:\n",
      " ok\n",
      "Recognized:\n",
      "\t ['ADHD', 'patients'] in AGATHA KB\n",
      "\t ['cognitive function', 'patients'] in AGATHA KB\n",
      "\t ['norepinephrine reuptake inhibitor', 'ADHD'] in AGATHA KB\n",
      "\n",
      "-----\n",
      "\n"
     ]
    },
    {
     "name": "stderr",
     "output_type": "stream",
     "text": [
      "Iterations:   0%|          | 0/3 [00:37<?, ?it/s]"
     ]
    },
    {
     "name": "stdout",
     "output_type": "stream",
     "text": [
      "Agatha score for predicate: 0.6207326054573059\n",
      "Sentence:\n",
      " While atomoxetine showed some effects on impulsive behavior, tolcapone did not demonstrate similar efficacy in the animal model.4. \n",
      "Status:\n",
      " REWORK\n",
      "Reason:\n",
      "\t ['tolcapone', 'impulsive behavior', 2] not in AGATHA KB\n",
      "\n",
      "-----\n",
      "\n",
      "Sentence:\n",
      " Indirect Relationship: The indirect relationship between COMT and tolcapone can be summarized as follows:   - COMT's Role: COMT is involved in the breakdown of dopamine and other catecholamines, influencing cognitive functions and personality traits. \n",
      "Status:\n",
      " ok\n",
      "\n",
      "-----\n",
      "\n",
      "Sentence:\n",
      " - Tolcapone's Mechanism: Tolcapone inhibits COMT, thereby increasing the availability of dopamine and other catecholamines in the brain. \n",
      "Status:\n",
      " ok\n",
      "Recognized:\n",
      "\t ['brain', 'catecholamines'] in AGATHA KB\n",
      "\t ['brain', 'dopamine'] in AGATHA KB\n",
      "\t ['Tolcapone', 'COMT'] in AGATHA KB\n",
      "\n",
      "-----\n",
      "\n",
      "Sentence:\n",
      " - Behavioral and Cognitive Outcomes: Despite tolcapone's biochemical action on COMT, it did not translate into improved cognitive performance in the 5-CSRTT, indicating that simply increasing catecholamine levels via COMT inhibition may not be sufficient to address certain cognitive deficits or impulsive behaviors.In summary, while COMT plays a role in modulating neurotransmitter levels that affect personality and cognitive functions, tolcapone, as a COMT inhibitor, does not appear to significantly impact cognitive performance in the specific context of the 5-CSRTT in rats. \n",
      "Status:\n",
      " ok\n",
      "Recognized:\n",
      "\t ['COMT', 'neurotransmitter'] in AGATHA KB\n",
      "\t ['tolcapone', 'COMT'] in AGATHA KB\n",
      "\t ['COMT inhibitor', 'rats'] in AGATHA KB\n",
      "\n",
      "-----\n",
      "\n",
      "Sentence:\n",
      " This suggests that the relationship between COMT activity and behavioral outcomes is complex and may involve additional factors beyond the scope of tolcapone's action. \n",
      "Status:\n",
      " ok\n",
      "\n",
      "-----\n",
      "\n",
      "Average Agatha score: 0.6978013813495636\n",
      "\n",
      "------------------step 4: Evaluation by Agatha is Done -----------------------------------\n",
      "\n",
      "Rework sentences at iteration 1: ['COMT is an enzyme that degrades catecholamines such as dopamine, epinephrine, and norepinephrine, which are crucial for various brain functions, including mood regulation and cognitive processes.2. ', 'While atomoxetine showed some effects on impulsive behavior, tolcapone did not demonstrate similar efficacy in the animal model.4. ']\n",
      "\n",
      "------------------step 5 Update Context-----------------------------------\n",
      "\n",
      "Here is the top_1 closest pmids for this sentence [['20934466'], ['20934466']]\n",
      "Here is the top_1 closest pmids for this sentence [['20934466'], ['20934466']]\n",
      "New contexts at iteration 1: ['', '', '', '']\n",
      "\n",
      "------------------Step 6 Update Prompt based on Memory of Rework Sentence-----------------------------------\n",
      "\n",
      "Maximum iterations reached without satisfactory response.\n",
      "CPU times: user 9.68 s, sys: 1.36 s, total: 11 s\n",
      "Wall time: 37.8 s\n"
     ]
    },
    {
     "name": "stderr",
     "output_type": "stream",
     "text": [
      "\n"
     ]
    }
   ],
   "source": [
    "%%time\n",
    "response = feedback_loop(top_20_df,path_context_dict, sents_db, max_iterations=3)"
   ]
  },
  {
   "cell_type": "markdown",
   "id": "0018560c-2cb1-4cc9-adaa-405f87b1ba79",
   "metadata": {
    "execution": {
     "iopub.execute_input": "2024-07-01T15:19:57.924170Z",
     "iopub.status.busy": "2024-07-01T15:19:57.923995Z",
     "iopub.status.idle": "2024-07-01T15:19:57.929860Z",
     "shell.execute_reply": "2024-07-01T15:19:57.928775Z",
     "shell.execute_reply.started": "2024-07-01T15:19:57.924150Z"
    }
   },
   "source": [
    "-----------------------------------------------------------------------"
   ]
  }
 ],
 "metadata": {
  "kernelspec": {
   "display_name": "Python [conda env:agatha_sbert]",
   "language": "python",
   "name": "conda-env-agatha_sbert-py"
  },
  "language_info": {
   "codemirror_mode": {
    "name": "ipython",
    "version": 3
   },
   "file_extension": ".py",
   "mimetype": "text/x-python",
   "name": "python",
   "nbconvert_exporter": "python",
   "pygments_lexer": "ipython3",
   "version": "3.9.19"
  }
 },
 "nbformat": 4,
 "nbformat_minor": 5
}
