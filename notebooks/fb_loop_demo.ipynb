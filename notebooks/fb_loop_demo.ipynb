{
 "cells": [
  {
   "cell_type": "code",
   "execution_count": null,
   "id": "initial_id",
   "metadata": {
    "collapsed": true
   },
   "outputs": [],
   "source": [
    "import sys\n",
    "sys.path.append('../src')\n",
    "\n",
    "from llm_interaction import oai_get_response\n",
    "\n",
    "# Prepare the prompt\n",
    "llm_fix_prompt_combo = \"Hi, how are you?\"\n",
    "\n",
    "# Call the LLM response function\n",
    "llm_resp_path_1 = oai_get_response(llm_fix_prompt_combo, temp=1e-19, top_p=1e-9, seed=1234)\n",
    "\n",
    "# Display the response\n",
    "print(llm_resp_path_1)"
   ]
  }
 ],
 "metadata": {
  "kernelspec": {
   "display_name": "Python 3",
   "language": "python",
   "name": "python3"
  },
  "language_info": {
   "codemirror_mode": {
    "name": "ipython",
    "version": 2
   },
   "file_extension": ".py",
   "mimetype": "text/x-python",
   "name": "python",
   "nbconvert_exporter": "python",
   "pygments_lexer": "ipython2",
   "version": "2.7.6"
  }
 },
 "nbformat": 4,
 "nbformat_minor": 5
}
