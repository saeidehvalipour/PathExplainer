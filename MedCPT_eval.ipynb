{
 "cells": [
  {
   "cell_type": "markdown",
   "id": "c00cb152-e35c-4fce-9f70-8df15dd1cc1f",
   "metadata": {},
   "source": [
    "### Using MedCPT embedding to "
   ]
  },
  {
   "cell_type": "markdown",
   "id": "cadfa0ad-c729-494e-a328-6ed70bf0d7c0",
   "metadata": {},
   "source": [
    "- \"malteos/PubMedNCL\" is likely used for single-text input tasks (e.g., classifying a single sentence or passage)."
   ]
  },
  {
   "cell_type": "code",
   "execution_count": 9,
   "id": "a911534b-07f7-40d9-a0e6-d00c58c87293",
   "metadata": {
    "execution": {
     "iopub.execute_input": "2024-08-14T05:27:29.011757Z",
     "iopub.status.busy": "2024-08-14T05:27:29.011399Z",
     "iopub.status.idle": "2024-08-14T05:27:29.017045Z",
     "shell.execute_reply": "2024-08-14T05:27:29.016249Z",
     "shell.execute_reply.started": "2024-08-14T05:27:29.011728Z"
    }
   },
   "outputs": [],
   "source": [
    "import warnings\n",
    "import os\n",
    "import torch\n",
    "from transformers import AutoTokenizer, AutoModel, AutoModelForSequenceClassification\n",
    "warnings.filterwarnings('ignore')\n",
    "os.environ[\"TOKENIZERS_PARALLELISM\"] = \"false\"\n",
    "from sklearn.metrics.pairwise import cosine_similarity"
   ]
  },
  {
   "cell_type": "markdown",
   "id": "68b5a9ea-ee73-45f0-b0f8-f91d88180ab3",
   "metadata": {},
   "source": [
    "### Case 1. Using the MedCPT Query Encoder"
   ]
  },
  {
   "cell_type": "code",
   "execution_count": null,
   "id": "946f096d-a57f-4505-be6b-c3317e0f9b0f",
   "metadata": {},
   "outputs": [],
   "source": [
    "import torch\n",
    "from transformers import AutoTokenizer, AutoModel\n",
    "\n",
    "model = AutoModel.from_pretrained(\"ncbi/MedCPT-Query-Encoder\")\n",
    "tokenizer = AutoTokenizer.from_pretrained(\"ncbi/MedCPT-Query-Encoder\")\n",
    "\n",
    "queries = [\n",
    "    \"diabetes treatment\", \n",
    "    \"How to treat diabetes?\", \n",
    "    \"A 45-year-old man presents with increased thirst and frequent urination over the past 3 months.\",\n",
    "]\n",
    "\n",
    "with torch.no_grad():\n",
    "    # tokenize the queries\n",
    "    encoded = tokenizer(\n",
    "        queries, \n",
    "        truncation=True, \n",
    "        padding=True, \n",
    "        return_tensors='pt', \n",
    "        max_length=64,\n",
    "    )\n",
    "    \n",
    "    # encode the queries (use the [CLS] last hidden states as the representations)\n",
    "    embeds = model(**encoded).last_hidden_state[:, 0, :]\n",
    "\n",
    "    print(embeds)\n",
    "    print(embeds.size())\n"
   ]
  },
  {
   "cell_type": "code",
   "execution_count": null,
   "id": "de194fe0-4eb1-477c-ab44-8cd74f2aa976",
   "metadata": {},
   "outputs": [],
   "source": []
  },
  {
   "cell_type": "markdown",
   "id": "dfb3bdc3-dd55-4967-b7dc-6fa74f54f1c8",
   "metadata": {},
   "source": [
    "## Case 2. Using MedCPT-Article-Encoder"
   ]
  },
  {
   "cell_type": "code",
   "execution_count": 2,
   "id": "127bb303-5050-42b8-a864-b1c60903b82e",
   "metadata": {
    "execution": {
     "iopub.execute_input": "2024-08-14T04:57:34.359807Z",
     "iopub.status.busy": "2024-08-14T04:57:34.359307Z",
     "iopub.status.idle": "2024-08-14T04:57:35.608922Z",
     "shell.execute_reply": "2024-08-14T04:57:35.608345Z",
     "shell.execute_reply.started": "2024-08-14T04:57:34.359780Z"
    }
   },
   "outputs": [],
   "source": [
    "model = AutoModel.from_pretrained(\"ncbi/MedCPT-Article-Encoder\")\n",
    "tokenizer = AutoTokenizer.from_pretrained(\"ncbi/MedCPT-Article-Encoder\")"
   ]
  },
  {
   "cell_type": "code",
   "execution_count": 3,
   "id": "1adff0e7-96a3-4fd0-b906-c7d169ca9cf6",
   "metadata": {
    "execution": {
     "iopub.execute_input": "2024-08-14T04:57:38.547350Z",
     "iopub.status.busy": "2024-08-14T04:57:38.546885Z",
     "iopub.status.idle": "2024-08-14T04:57:38.553594Z",
     "shell.execute_reply": "2024-08-14T04:57:38.552871Z",
     "shell.execute_reply.started": "2024-08-14T04:57:38.547323Z"
    }
   },
   "outputs": [],
   "source": [
    "with open('/work/acslab/users/svalipou/docs/13_exp/exp1.txt', 'r') as file:\n",
    "    explanation_text = file.read().strip()\n",
    "\n",
    "reference_files = [\n",
    "    '/work/acslab/users/svalipou/docs/13/32493475.txt',\n",
    "    '/work/acslab/users/svalipou/docs/13/32493478.txt',\n",
    "    '/work/acslab/users/svalipou/docs/13/32616067.txt'\n",
    "]\n",
    "references = []\n",
    "\n",
    "for ref_file in reference_files:\n",
    "    with open(ref_file, 'r') as file:\n",
    "        references.append(file.read().strip())"
   ]
  },
  {
   "cell_type": "code",
   "execution_count": 4,
   "id": "a617dd4d-7ec5-4553-b11a-2eafe127ffe2",
   "metadata": {
    "execution": {
     "iopub.execute_input": "2024-08-14T04:57:39.707033Z",
     "iopub.status.busy": "2024-08-14T04:57:39.706523Z",
     "iopub.status.idle": "2024-08-14T04:57:39.710740Z",
     "shell.execute_reply": "2024-08-14T04:57:39.710171Z",
     "shell.execute_reply.started": "2024-08-14T04:57:39.707008Z"
    }
   },
   "outputs": [],
   "source": [
    "explanation = [[explanation_text, explanation_text]]\n",
    "references = [[ref, ref] for ref in references]  "
   ]
  },
  {
   "cell_type": "code",
   "execution_count": 12,
   "id": "dd917c5e-1d4f-425c-a850-dcd11e2e7782",
   "metadata": {
    "execution": {
     "iopub.execute_input": "2024-08-14T04:40:54.371544Z",
     "iopub.status.busy": "2024-08-14T04:40:54.370752Z",
     "iopub.status.idle": "2024-08-14T04:40:57.174480Z",
     "shell.execute_reply": "2024-08-14T04:40:57.173803Z",
     "shell.execute_reply.started": "2024-08-14T04:40:54.371518Z"
    }
   },
   "outputs": [],
   "source": [
    "with torch.no_grad():\n",
    "    explanation_encoded = tokenizer(explanation, truncation=True, padding=True, return_tensors='pt', max_length=512)\n",
    "    explanation_embedding = model(**explanation_encoded).last_hidden_state[:, 0, :]\n",
    "\n",
    "    references_encoded = tokenizer(references, truncation=True, padding=True, return_tensors='pt', max_length=512)\n",
    "    reference_embeddings = model(**references_encoded).last_hidden_state[:, 0, :]"
   ]
  },
  {
   "cell_type": "code",
   "execution_count": 16,
   "id": "4b4b4f71-16a5-4a61-ac1b-3c88e3f7e56f",
   "metadata": {
    "execution": {
     "iopub.execute_input": "2024-08-14T04:42:32.791890Z",
     "iopub.status.busy": "2024-08-14T04:42:32.791134Z",
     "iopub.status.idle": "2024-08-14T04:42:32.799744Z",
     "shell.execute_reply": "2024-08-14T04:42:32.798981Z",
     "shell.execute_reply.started": "2024-08-14T04:42:32.791864Z"
    }
   },
   "outputs": [
    {
     "name": "stdout",
     "output_type": "stream",
     "text": [
      "Most similar reference: [\"ChemoPROphyLaxIs with hydroxychloroquine For covId-19 infeCtious disease (PROLIFIC) to prevent covid-19 infection in frontline healthcare workers: A structured summary of a study protocol for a randomised controlled trial. PRIMARY OBJECTIVE: To determine whether chemoprophylaxis with hydroxychloroquine versus placebo increases time to contracting coronavirus disease 2019 (COVID-19) in frontline healthcare workers. 1) To determine whether chemoprophylaxis with daily versus weekly dosing of hydroxychloroquine increases time to contracting COVID-19 disease in frontline healthcare workers. 2) To compare the number of COVID-19 cases between each trial arm on the basis of positive tests (as per current clinical testing methods and/or serology) 3) To compare the percentage of COVID-19 positive individuals with current testing methods versus serologically-proven COVID-19 in each trial arm 4) To compare COVID-19 disease severity in each trial arm 5) To compare recovery time from COVID-19 infection in each trial arm EXPLORATORY OBJECTIVES: 1) To determine compliance (as measured by trough pharmacokinetic hydroxychloroquine levels) on COVID-19 positive tests 2) To determine if genetic factors determine susceptibility to COVID-19 disease or response to treatment 3) To determine if blood group determines susceptibility to COVID-19 disease 4) To compare serum biomarkers of COVID-19 disease in each arm TRIAL DESIGN: Double-blind, multi-centre, 2-arm (3:3:2 ratio) randomised placebo-controlled trial PARTICIPANTS: National Health Service (NHS) workers who have direct patient contact delivering care to patients with COVID-19. Participants in the trial will be recruited from a number of NHS hospitals directly caring for patients with COVID-19. To be included in the trial the participant MUST: 1) Have given written informed consent to participate 2) Be aged 18 years to 70 years 3) Not previously have been diagnosed with COVID-19 4) Work in a high-risk secondary or tertiary healthcare setting (hospitals accepting COVID-19 patients) with direct patient-facing care EXCLUSION CRITERIA: The presence of any of the following will mean participants are ineligible: 1) Known COVID-19 positive test at baseline (if available) 2) Symptomatic for possible COVID-19 at baseline 3) Known hypersensitivity reaction to hydroxychloroquine, chloroquine or 4-aminoquinolines 4) Known retinal disease 5) Known porphyria 6) Known chronic kidney disease (CKD; eGFR<30ml/min) 7) Known epilepsy 8) Known heart failure or conduction problems 9) Known significant liver disease (Gilbert's syndrome is permitted) 10) Known glucose-6-phosphate dehydrogenase (G6PD) deficiency 11) Currently taking any of the following contraindicated medications: Digoxin, Chloroquine, Halofantrine, Amiodarone, Moxifloxacin, Cyclosporin, Mefloquine, Praziquantel, Ciprofloxacin, Clarithromycin, Prochlorperazine, Fluconazole 12) Currently taking hydroxychloroquine or having a clinical indication for taking hydroxychloroquine 13) Currently breastfeeding 14) Unable to be followed-up during the trial 15) Current or future involvement in the active treatment phase of other interventional research studies (excluding observational/non-interventional studies) before study follow-up visit 16) Not able to use or have access to a modern phone device/web-based technology 17) Any other clinical reason which may preclude entry in the opinion of the investigator INTERVENTION AND COMPARATOR: Interventions being evaluated are: A) Daily hydroxychloroquine or B) Weekly hydroxychloroquine or C) Placebo The maximum treatment period is approximately 13 weeks per participant. Hydroxychloroquine-identical matched placebo tablets will ensure that all participants are taking the same number and dosing regimen of tablets across the three trial arms. There is no variation in the dose of hydroxychloroquine by weight. The dosing regimen for the three arms of the study (A, B, C) are described in further detail below. Arm A: Active Hydroxychloroquine (- daily dosing and placebo-matched hydroxychloroquine - weekly dosing). Form: Tablets Route: Oral. Dose and Frequency: Active hydroxychloroquine: Days 1-2: Loading phase - 400mg (2 x 200mg tablets) taken twice a day for 2 days Days 3 onwards: Maintenance Phase - 200mg (1 x 200mg tablet) taken once daily, every day for 90 days (~3 months) Matched Placebo hydroxychloroquine: Days 3 onwards: Maintenance Phase - 2 tablets taken once a week on the same day each week (every 7th day) for 90 days (~3 months) Arm B: Active Hydroxychloroquine (- weekly dosing and placebo matched hydroxychloroquine - daily dosing.) Form: Tablets Route: Oral. Dose and Frequency: Active hydroxychloroquine: Days 1-2: Loading Phase - 400mg (2 x 200mg tablets) taken twice daily for 2 days Days 3 onwards: Maintenance Phase - 400mg (2 x 200mg tablets) taken once a week on the same day each week (every 7th day) for 90 days (~3 months) Matched Placebo hydroxychloroquine: Days 3 onwards: Maintenance Phase - 1 tablet taken once daily for 90 days (~3 months) Arm C: Matched placebo Hydroxychloroquine (- daily dosing and matched placebo hydroxychloroquine - weekly dosing.) Form: Table. Route: Oral. Frequency: Matched placebo hydroxychloroquine - daily dosing: Days 1-2: Loading Phase - 2 tablets taken twice daily for 2 days Days 3 onwards: Maintenance Phase - 1 tablet taken once daily for 90 days (~3 months) Matched placebo hydroxychloroquine - weekly dosing: Days 3 onwards: Maintenance Phase - 2 tablets taken once a week on the same day each week (every 7th day) for 90 days (~3 months) A schematic of the dosing schedule can be found in the full study protocol (Additional File 1). Time to diagnosis of positive COVID-19 disease (defined by record of date of symptoms onset and confirmed by laboratory test) RANDOMISATION: Participants will be randomised to either hydroxychloroquine dosed daily with weekly placebo, HCQ dosed weekly with daily placebo, or placebo dosed daily and weekly. Randomisation will be in a 3:3:2 ratio [hydroxychloroquine-(daily), hydroxychloroquine-(weekly), placebo], using stratified block randomisation. Random block sizes will be used, and stratification will be by study site. Participants and trial investigators consenting participants, delivering trial assessments and procedures will be blinded to intervention. A sufficient number of participants will be enrolled so that approximately 1000 participants in total will have data suitable for the primary statistical analysis. It is anticipated that approximately 1,200 participants will need to be enrolled in total, to allow for a 20% dropout over the period of the trial. This would result in approximately 450:450:300 participants randomised to hydroxychloroquine daily, hydroxychloroquine weekly+daily matched placebo or matched-placebo daily and weekly. V 1.0, 7th April 2020 EU Clinical Trials Register EudraCT Number: 2020-001331-26 Date of registration: 14th April 2020 Trial registered before first participant enrolment. Trial site is Cambridge University Hospitals NHS Foundation Trust. Recruitment started on 11th May 2020. It is anticipated that the trial will run for 12 months. The recruitment end date cannot yet be accurately predicted. The full protocol is attached as an additional file, accessible from the Trials website (Additional file 1). In the interest of expediting dissemination of this material, the familiar formatting has been eliminated; this Letter serves as a summary of the key elements of the full protocol. The study protocol has been reported in accordance with the Standard Protocol Items: Recommendations for Clinical Interventional Trials (SPIRIT) guidelines (Additional file 2).\", \"ChemoPROphyLaxIs with hydroxychloroquine For covId-19 infeCtious disease (PROLIFIC) to prevent covid-19 infection in frontline healthcare workers: A structured summary of a study protocol for a randomised controlled trial. PRIMARY OBJECTIVE: To determine whether chemoprophylaxis with hydroxychloroquine versus placebo increases time to contracting coronavirus disease 2019 (COVID-19) in frontline healthcare workers. 1) To determine whether chemoprophylaxis with daily versus weekly dosing of hydroxychloroquine increases time to contracting COVID-19 disease in frontline healthcare workers. 2) To compare the number of COVID-19 cases between each trial arm on the basis of positive tests (as per current clinical testing methods and/or serology) 3) To compare the percentage of COVID-19 positive individuals with current testing methods versus serologically-proven COVID-19 in each trial arm 4) To compare COVID-19 disease severity in each trial arm 5) To compare recovery time from COVID-19 infection in each trial arm EXPLORATORY OBJECTIVES: 1) To determine compliance (as measured by trough pharmacokinetic hydroxychloroquine levels) on COVID-19 positive tests 2) To determine if genetic factors determine susceptibility to COVID-19 disease or response to treatment 3) To determine if blood group determines susceptibility to COVID-19 disease 4) To compare serum biomarkers of COVID-19 disease in each arm TRIAL DESIGN: Double-blind, multi-centre, 2-arm (3:3:2 ratio) randomised placebo-controlled trial PARTICIPANTS: National Health Service (NHS) workers who have direct patient contact delivering care to patients with COVID-19. Participants in the trial will be recruited from a number of NHS hospitals directly caring for patients with COVID-19. To be included in the trial the participant MUST: 1) Have given written informed consent to participate 2) Be aged 18 years to 70 years 3) Not previously have been diagnosed with COVID-19 4) Work in a high-risk secondary or tertiary healthcare setting (hospitals accepting COVID-19 patients) with direct patient-facing care EXCLUSION CRITERIA: The presence of any of the following will mean participants are ineligible: 1) Known COVID-19 positive test at baseline (if available) 2) Symptomatic for possible COVID-19 at baseline 3) Known hypersensitivity reaction to hydroxychloroquine, chloroquine or 4-aminoquinolines 4) Known retinal disease 5) Known porphyria 6) Known chronic kidney disease (CKD; eGFR<30ml/min) 7) Known epilepsy 8) Known heart failure or conduction problems 9) Known significant liver disease (Gilbert's syndrome is permitted) 10) Known glucose-6-phosphate dehydrogenase (G6PD) deficiency 11) Currently taking any of the following contraindicated medications: Digoxin, Chloroquine, Halofantrine, Amiodarone, Moxifloxacin, Cyclosporin, Mefloquine, Praziquantel, Ciprofloxacin, Clarithromycin, Prochlorperazine, Fluconazole 12) Currently taking hydroxychloroquine or having a clinical indication for taking hydroxychloroquine 13) Currently breastfeeding 14) Unable to be followed-up during the trial 15) Current or future involvement in the active treatment phase of other interventional research studies (excluding observational/non-interventional studies) before study follow-up visit 16) Not able to use or have access to a modern phone device/web-based technology 17) Any other clinical reason which may preclude entry in the opinion of the investigator INTERVENTION AND COMPARATOR: Interventions being evaluated are: A) Daily hydroxychloroquine or B) Weekly hydroxychloroquine or C) Placebo The maximum treatment period is approximately 13 weeks per participant. Hydroxychloroquine-identical matched placebo tablets will ensure that all participants are taking the same number and dosing regimen of tablets across the three trial arms. There is no variation in the dose of hydroxychloroquine by weight. The dosing regimen for the three arms of the study (A, B, C) are described in further detail below. Arm A: Active Hydroxychloroquine (- daily dosing and placebo-matched hydroxychloroquine - weekly dosing). Form: Tablets Route: Oral. Dose and Frequency: Active hydroxychloroquine: Days 1-2: Loading phase - 400mg (2 x 200mg tablets) taken twice a day for 2 days Days 3 onwards: Maintenance Phase - 200mg (1 x 200mg tablet) taken once daily, every day for 90 days (~3 months) Matched Placebo hydroxychloroquine: Days 3 onwards: Maintenance Phase - 2 tablets taken once a week on the same day each week (every 7th day) for 90 days (~3 months) Arm B: Active Hydroxychloroquine (- weekly dosing and placebo matched hydroxychloroquine - daily dosing.) Form: Tablets Route: Oral. Dose and Frequency: Active hydroxychloroquine: Days 1-2: Loading Phase - 400mg (2 x 200mg tablets) taken twice daily for 2 days Days 3 onwards: Maintenance Phase - 400mg (2 x 200mg tablets) taken once a week on the same day each week (every 7th day) for 90 days (~3 months) Matched Placebo hydroxychloroquine: Days 3 onwards: Maintenance Phase - 1 tablet taken once daily for 90 days (~3 months) Arm C: Matched placebo Hydroxychloroquine (- daily dosing and matched placebo hydroxychloroquine - weekly dosing.) Form: Table. Route: Oral. Frequency: Matched placebo hydroxychloroquine - daily dosing: Days 1-2: Loading Phase - 2 tablets taken twice daily for 2 days Days 3 onwards: Maintenance Phase - 1 tablet taken once daily for 90 days (~3 months) Matched placebo hydroxychloroquine - weekly dosing: Days 3 onwards: Maintenance Phase - 2 tablets taken once a week on the same day each week (every 7th day) for 90 days (~3 months) A schematic of the dosing schedule can be found in the full study protocol (Additional File 1). Time to diagnosis of positive COVID-19 disease (defined by record of date of symptoms onset and confirmed by laboratory test) RANDOMISATION: Participants will be randomised to either hydroxychloroquine dosed daily with weekly placebo, HCQ dosed weekly with daily placebo, or placebo dosed daily and weekly. Randomisation will be in a 3:3:2 ratio [hydroxychloroquine-(daily), hydroxychloroquine-(weekly), placebo], using stratified block randomisation. Random block sizes will be used, and stratification will be by study site. Participants and trial investigators consenting participants, delivering trial assessments and procedures will be blinded to intervention. A sufficient number of participants will be enrolled so that approximately 1000 participants in total will have data suitable for the primary statistical analysis. It is anticipated that approximately 1,200 participants will need to be enrolled in total, to allow for a 20% dropout over the period of the trial. This would result in approximately 450:450:300 participants randomised to hydroxychloroquine daily, hydroxychloroquine weekly+daily matched placebo or matched-placebo daily and weekly. V 1.0, 7th April 2020 EU Clinical Trials Register EudraCT Number: 2020-001331-26 Date of registration: 14th April 2020 Trial registered before first participant enrolment. Trial site is Cambridge University Hospitals NHS Foundation Trust. Recruitment started on 11th May 2020. It is anticipated that the trial will run for 12 months. The recruitment end date cannot yet be accurately predicted. The full protocol is attached as an additional file, accessible from the Trials website (Additional file 1). In the interest of expediting dissemination of this material, the familiar formatting has been eliminated; this Letter serves as a summary of the key elements of the full protocol. The study protocol has been reported in accordance with the Standard Protocol Items: Recommendations for Clinical Interventional Trials (SPIRIT) guidelines (Additional file 2).\"]\n"
     ]
    }
   ],
   "source": [
    "similarities = cosine_similarity(explanation_embedding, reference_embeddings)\n",
    "\n",
    "most_similar_index = similarities.argmax()\n",
    "most_similar_reference = references[most_similar_index]\n",
    "\n",
    "print(f\"Most similar reference: {most_similar_reference}\")"
   ]
  },
  {
   "cell_type": "markdown",
   "id": "fd5ae8d7-4995-4097-a34e-0a8b1de0d1c7",
   "metadata": {},
   "source": [
    "## Using MedCPT-Cross-Encoder"
   ]
  },
  {
   "cell_type": "code",
   "execution_count": 11,
   "id": "c24f147c-3138-4f8d-a6e9-b26c5684f42c",
   "metadata": {
    "execution": {
     "iopub.execute_input": "2024-08-14T06:10:40.379127Z",
     "iopub.status.busy": "2024-08-14T06:10:40.378827Z",
     "iopub.status.idle": "2024-08-14T06:10:40.646454Z",
     "shell.execute_reply": "2024-08-14T06:10:40.645778Z",
     "shell.execute_reply.started": "2024-08-14T06:10:40.379090Z"
    }
   },
   "outputs": [],
   "source": [
    "tokenizer = AutoTokenizer.from_pretrained(\"ncbi/MedCPT-Cross-Encoder\")\n",
    "model = AutoModelForSequenceClassification.from_pretrained(\"ncbi/MedCPT-Cross-Encoder\")"
   ]
  },
  {
   "cell_type": "code",
   "execution_count": 18,
   "id": "3b32e8f4-a7c7-497a-92f7-db5bb03ac8e1",
   "metadata": {
    "execution": {
     "iopub.execute_input": "2024-08-14T06:28:17.841558Z",
     "iopub.status.busy": "2024-08-14T06:28:17.841166Z",
     "iopub.status.idle": "2024-08-14T06:28:18.230144Z",
     "shell.execute_reply": "2024-08-14T06:28:18.229767Z",
     "shell.execute_reply.started": "2024-08-14T06:28:17.841523Z"
    }
   },
   "outputs": [
    {
     "name": "stdout",
     "output_type": "stream",
     "text": [
      "tensor([6.7278, 4.4231, 5.2699])\n"
     ]
    }
   ],
   "source": [
    "query = \"The indirect relationship between amiodarone and mefloquine, based on the provided scientific abstracts, can be understood through their interactions with the cytochrome P450 enzyme system, specifically CYP2C8, and the implications for drug resistance and metabolism in the context of malaria treatment.\\n\\n1. **Amiodarone and CYP2C8 Interaction**: Amiodarone is mentioned as a weak time-dependent inhibitor (TDI) of CYP2C8 across various enzyme preparations, including human liver microsomes (HLMs) and recombinant CYP2C8. This suggests that amiodarone can influence the metabolism of other drugs that are substrates of CYP2C8 by potentially reducing their clearance.\\n\\n2. **Mefloquine and Drug Resistance**: Mefloquine is a registered antimalarial drug that has been used in routine clinical practice. The genomic architecture of antimalarial drug resistance, including mutations in the Plasmodium falciparum chloroquine resistance transporter gene (pfcrt), affects the efficacy of antimalarial drugs. Although the abstracts do not directly link mefloquine resistance to CYP2C8, the broader context of drug metabolism and resistance mechanisms is relevant.\\n\\n3. **Indirect Relationship through CYP2C8**: The indirect relationship between amiodarone and mefloquine can be inferred from their involvement with CYP2C8. Amiodarone's inhibition of CYP2C8 could theoretically affect the metabolism of drugs metabolized by this enzyme, including antimalarials. However, the specific impact on mefloquine is not directly addressed in the abstracts. Additionally, the genetic polymorphisms in CYP2C8 among different populations could influence the pharmacokinetics and dynamics of both drugs, potentially affecting their efficacy and safety profiles.\\n\\n4. **Malaria Treatment and Drug Resistance**: The abstracts highlight the complexity of malaria treatment, including the challenges posed by drug resistance. While amiodarone is not an antimalarial drug, its interaction with CYP2C8 and potential to influence the metabolism of drugs like mefloquine indirectly connects it to the broader issue of antimalarial treatment efficacy. The presence of genetic mutations that confer resistance to antimalarials underscores the importance of understanding drug-drug interactions and metabolic pathways in the management of malaria.\\n\\nIn summary, the indirect relationship between amiodarone and mefloquine is situated within their interactions with the CYP2C8 enzyme and the broader context of malaria treatment and drug resistance. While the abstracts do not provide a direct link between the two drugs in terms of their pharmacological actions against malaria, they underscore the complexity of drug metabolism and the potential for interactions that could impact the efficacy of antimalarial therapies\"\n",
    "\n",
    "articles = [\n",
    "    \"A randomized multicenter clinical trial to evaluate the efficacy of melatonin in the prophylaxis of SARS-CoV-2 infection in high-risk contacts (MeCOVID Trial): A structured summary of a study protocol for a randomised controlled trial. Primary objective: to evaluate the efficacy of melatonin as a prophylactic treatment on prevention of symptomatic SARS-CoV-2 infection among healthcare workers at high risk of SARS-CoV-2 exposure. Secondary objectives: To evaluate the efficacy of melatonin as a prophylactic treatment on prevention of asymptomatic SARS-CoV-2 infection.To evaluate the efficacy of melatonin to prevent the development of severe COVID-19 in the participants enrolled in this study who develop SARS-CoV-2 infection along the trial.To evaluate the duration of COVID-19 symptoms in participants receiving melatonin before the infection.To evaluate seroconversion timing post-symptom onset. Exploratory objectives:To compare severity of COVID-19 between men and women.To evaluate the influence of sleep and diet on prevention from SARS-CoV-2 infection.To evaluate the effect of melatonin on the incidence and characteristics of lymphopenia and increase of inflammatory cytokines related to COVID-19. This is a two-arm parallel randomised double-blind controlled trial to evaluate the efficacy of melatonin versus placebo in the prophylaxis of coronavirus disease 2019 among healthcare workers. Inclusion Criteria: Male or female participants >= 18 and <= 80 years of age. Healthcare workers from the public and private Spanish hospital network at risk of SARS-CoV 2 infection.Not having a previous COVID19 diagnosis. Understanding the purpose of the trial and not having taken any pre-exposure prophylaxis (PrEP) including HIV PrEP from March 1st 2020 until study enrolment. Having a negative SARS-CoV 2 reverse-transcription PCR (RT-PCR) result or a negative serologic rapid test (IgM/IgG) result before randomization. Premenopausal women must have a negative urinary pregnancy test in the 7 days before starting the trial treatment. Premenopausal women and males with premenopausal couples must commit to using a high efficiency anticonceptive method. HIV infection. Active hepatitis B infection. Renal failure (CrCl < 60 mL/min/1.73 m2) or need for hemodialysis. Osteoporosis. Myasthenia gravis.Pre-existent maculopathy. Retinitis pigmentosa. Bradycardia (less than 50 bpm). Weight less than 40 Kg. Participant with any immunosuppressive condition or hematological disease. Treatment with drugs that may prolong QT in the last month before randomization for more than 7 days including: azithromycin, chlorpromazine, cisapride, clarithromycin, domperidone, droperidol, erythromycin, halofantrine, haloperidol, lumefantrine, mefloquine, methadone, pentamidine, procainamide, quinidine, quinine, sotalol, sparfloxacin, thioridazine, amiodarone. Hereditary intolerance to galactose, Lapp lactase deficiency or glucose or galactose malabsorption. Treatment with fluvoxamine. Treatment with benzodiazepines or benzodiazepine analogues such as zolpidem, zopiclone or zaleplon. Pregnancy. Breastfeeding. History of potentially immune derived diseases such as: lupus, Crohn's disease, ulcerative colitis, vasculitis or rheumatoid arthritis. Insulin-dependent diabetes mellitus.Known history of hypersensitivity to the study drug or any of its components. Patients that should not be included in the study at the judgment of the research team. Participants will be recruited from the following eight hospitals in Madrid, Spain: Hospital Universitario La Paz, Hospital Ramon y Cajal, Hospital Infanta Sofia, Hospital 12 de Octubre, Hospital Clinico San Carlos, Hospital Central de la defensa Gomez Ulla,Hospital de La Princesa and Hospital Infanta Leonor. Experimental: Melatonin (Circadin(r), Exeltis Healthcare, Spain): 2 mg of melatonin orally before bedtime for 12 weeks. Comparator: Identical looking placebo (Laboratorios Liconsa, Spain) orally before bedtime for 12 weeks. Number of SARS-CoV-2 (COVID-19) symptomatic infections confirmed by polymerase chain reaction (PCR) test or serologic test or according to each centre diagnosis protocol. Primary outcome will be measured until the end of treatment for each participant (until the date of the last dose taken by each patient). Patients who meet all inclusion and no exclusion criteria will be randomised, stratified by centres, sex and age (<50 and >= 50 years old). The randomisation sequence was created using SAS version 9.4 statistical software (procedure 'PROC PLAN') with a 1:1 allocation. No randomisation seed was specified. The randomisation seed was generated taking the hour of the computer where the program was executed. Randomization will be done centrally through the electronic system RedCAP(r) in order to conceal the sequence until interventions are assigned BLINDING (MASKING): Participants, caregivers, and those assessing the outcomes are blinded to group assignment. A total of 450 participants are planned to be enrolled in this clinical trial, 225 in the experimental arm and 225 in the placebo arm. Protocol version 3.0, 17th of April 2020. Recruitment ongoing. First participant was recruited on the 21st of April 2020. The final participant is anticipated to be recruited on the 31st of May 2020. As of May 18th, 2020, a total of 312 participants have been enrolled (154 at Hospital La Paz, 85 at Hospital Infanta Sofia and 73 at Hospital 12 de Octubre). EU Clinical Trials Register: 2020-001530-35; Date of trial registration: 13th of April 2020; https://www.clinicaltrialsregister.eu/ctr-search/trial/2020-001530-35/ES FULL PROTOCOL: The full protocol is attached as an additional file, accessible from the Trials website (Additional file 1). In the interest in expediting dissemination of this material, the familiar formatting has been eliminated; this Letter serves as a summary of the key elements of the full protocol.\",\n",
    "    \"Efficacy of hydroxychloroquine for post-exposure prophylaxis to prevent severe acute respiratory syndrome coronavirus 2 (SARS-CoV-2) infection among adults exposed to coronavirus disease (COVID-19): a structured summary of a study protocol for a randomised controlled trial. Primary Objective  To test the efficacy of Hydroxychloroquine (HCQ) (400 mg orally daily for 3 days then 200 mg orally daily for an additional 11 days, to complete 14 days) to prevent incident SARS-CoV-2 infection, compared to ascorbic acid among contacts of persons with SARS-CoV-2 infection Secondary objectives  To determine the safety and tolerability of HCQ as SARS-CoV-2 Post-exposure Prophylaxis (PEP) in adults  To test the efficacy of HCQ (400 mg orally daily for 3 days then 200 mg orally daily for an additional 11 days, to complete 14 days) to prevent incident SARS-CoV-2 infection 2 weeks after completing therapy, compared to ascorbic acid among contacts of persons with SARS-CoV-2 infection  To test the efficacy of HCQ to shorten the duration of SARS-CoV-2 shedding among those with SARS-CoV-2 infection in the HCQ PEP group  To test the efficacy of HCQ to prevent incident COVID-19 TRIAL DESIGN: This is a randomized, multi-center, placebo-equivalent (ascorbic acid) controlled, blinded study of HCQ PEP for the prevention of SARS-CoV-2 infection in adults exposed to the virus. This study will enroll up to 2000 asymptomatic adults 18 to 80 years of age (inclusive) at baseline who are close contacts of persons with polymerase chain reaction (PCR)-confirmed SARS-CoV-2 or clinically suspected COVID-19 and a pending SARS-CoV-2 PCR test. This multisite trial will be conducted at seven sites in Seattle (UW), Los Angeles (UCLA), New Orleans (Tulane), Baltimore (UMB), New York City (NYU), Syracuse (SUNY-Upstate), and Boston (BMC). Inclusion criteria Participants are eligible to be included in the study only if all of the following criteria apply: 1.Men or women 18 to 80 years of age inclusive, at the time of signing the informed consent2. Willing and able to provide informed consent3.Had a close contact of a person (index) with known PCR-confirmed SARS-CoV-2 infection or index who is currently being assessed for COVID-19 Close contact is defined as: a. Household contact (i.e., residing with the index case in the 14 days prior to index diagnosis or prolonged exposure within a residence/vehicle/enclosed space without maintaining social distance)b. Medical staff, first responders, or other care persons who cared for the index case without personal protection (mask and gloves)4. Less than 4 days since last exposure (close contact with a person with SARS-CoV-2 infection) to the index case5. Access to device and internet for Telehealth visits6.Not planning to take HCQ in addition to the study medication Exclusion criteria Participants are excluded from the study if any of the following criteria apply: 1.Known hypersensitivity to HCQ or other 4-aminoquinoline compounds2. Currently hospitalized3. Symptomatic with subjective fever, cough, or shortness of breath4. Current medications exclude concomitant use of HCQ5. Concomitant use of other anti-malarial treatment or chemoprophylaxis, including chloroquine, mefloquine, artemether, or lumefantrine.6. History of retinopathy of any etiology7.Psoriasis8.Porphyria9.Known bone marrow disorders with significant neutropenia (polymorphonuclear leukocytes <1500) or thrombocytopenia (<100 K)10. Concomitant use of digoxin, cyclosporin, cimetidine, amiodarone, or tamoxifen11.Known moderate or severe liver disease12.Known long QT syndrome13. Severe renal impairment14.Use of any investigational or non-registered drug or vaccine within 30 days preceding the first dose of the study drugs or planned use during the study period INTERVENTION AND COMPARATOR: Households will be randomized 1:1 (at the level of household), with close contact participants receiving one of the following therapies: HCQ 400 mg orally daily for 3 days then 200 mg orally daily for an additional 11 days Placebo-like control (ascorbic acid) 500 mg orally daily for 3 days then 250 mg orally daily for 11 days MAIN OUTCOMES: The primary outcome of the study is the incidence of SARS-CoV-2 infection through day 14 among participants who are SARS-CoV-2 negative at baseline by randomization group. Participants will be randomized in a 1:1 ratio to HCQ or ascorbic acid at the level of the household (all eligible participants in 1 household will receive the same intervention). The randomization code and resulting allocation list will be generated and maintained by the Study Statistician. The list will be blocked and stratified by site and contact type (household versus healthcare worker). This is a blinded study. HCQ and ascorbic acid will appear similar, and taste will be partially masked as HCQ can be bitter and ascorbic acid will be sour. The participants will be blinded to their randomization group once assigned. Study team members, apart from the Study Pharmacist and the unblinded statistical staff, will be blinded. Laboratory staff are blinded to the group allocation. The sample size for the study is N=2 000 participants randomized 1:1 to either HCZ (n=1 000) and ascorbic acid (n=1 000). Protocol version: 1.2 05 April 2020 Recruitment is ongoing, started March 31 and anticipated end date is September 30, 2020. ClinicalTrials.gov, Protocol Registry Number: NCT04328961 Date of registration: April 1, 2020, retrospectively registered FULL PROTOCOL: The full protocol is attached as an additional file, accessible from the Trials website (Additional file 1). In the interest in expediting dissemination of this material, the familiar formatting has been eliminated; this Letter serves as a summary of the key elements of the full protocol. \" ,  \n",
    "    \"ChemoPROphyLaxIs with hydroxychloroquine For covId-19 infeCtious disease (PROLIFIC) to prevent covid-19 infection in frontline healthcare workers: A structured summary of a study protocol for a randomised controlled trial. PRIMARY OBJECTIVE: To determine whether chemoprophylaxis with hydroxychloroquine versus placebo increases time to contracting coronavirus disease 2019 (COVID-19) in frontline healthcare workers. 1) To determine whether chemoprophylaxis with daily versus weekly dosing of hydroxychloroquine increases time to contracting COVID-19 disease in frontline healthcare workers. 2) To compare the number of COVID-19 cases between each trial arm on the basis of positive tests (as per current clinical testing methods and/or serology) 3) To compare the percentage of COVID-19 positive individuals with current testing methods versus serologically-proven COVID-19 in each trial arm 4) To compare COVID-19 disease severity in each trial arm 5) To compare recovery time from COVID-19 infection in each trial arm EXPLORATORY OBJECTIVES: 1) To determine compliance (as measured by trough pharmacokinetic hydroxychloroquine levels) on COVID-19 positive tests 2) To determine if genetic factors determine susceptibility to COVID-19 disease or response to treatment 3) To determine if blood group determines susceptibility to COVID-19 disease 4) To compare serum biomarkers of COVID-19 disease in each arm TRIAL DESIGN: Double-blind, multi-centre, 2-arm (3:3:2 ratio) randomised placebo-controlled trial PARTICIPANTS: National Health Service (NHS) workers who have direct patient contact delivering care to patients with COVID-19. Participants in the trial will be recruited from a number of NHS hospitals directly caring for patients with COVID-19. To be included in the trial the participant MUST: 1) Have given written informed consent to participate 2) Be aged 18 years to 70 years 3) Not previously have been diagnosed with COVID-19 4) Work in a high-risk secondary or tertiary healthcare setting (hospitals accepting COVID-19 patients) with direct patient-facing care EXCLUSION CRITERIA: The presence of any of the following will mean participants are ineligible: 1) Known COVID-19 positive test at baseline (if available) 2) Symptomatic for possible COVID-19 at baseline 3) Known hypersensitivity reaction to hydroxychloroquine, chloroquine or 4-aminoquinolines 4) Known retinal disease 5) Known porphyria 6) Known chronic kidney disease (CKD; eGFR<30ml/min) 7) Known epilepsy 8) Known heart failure or conduction problems 9) Known significant liver disease (Gilbert's syndrome is permitted) 10) Known glucose-6-phosphate dehydrogenase (G6PD) deficiency 11) Currently taking any of the following contraindicated medications: Digoxin, Chloroquine, Halofantrine, Amiodarone, Moxifloxacin, Cyclosporin, Mefloquine, Praziquantel, Ciprofloxacin, Clarithromycin, Prochlorperazine, Fluconazole 12) Currently taking hydroxychloroquine or having a clinical indication for taking hydroxychloroquine 13) Currently breastfeeding 14) Unable to be followed-up during the trial 15) Current or future involvement in the active treatment phase of other interventional research studies (excluding observational/non-interventional studies) before study follow-up visit 16) Not able to use or have access to a modern phone device/web-based technology 17) Any other clinical reason which may preclude entry in the opinion of the investigator INTERVENTION AND COMPARATOR: Interventions being evaluated are: A) Daily hydroxychloroquine or B) Weekly hydroxychloroquine or C) Placebo The maximum treatment period is approximately 13 weeks per participant. Hydroxychloroquine-identical matched placebo tablets will ensure that all participants are taking the same number and dosing regimen of tablets across the three trial arms. There is no variation in the dose of hydroxychloroquine by weight. The dosing regimen for the three arms of the study (A, B, C) are described in further detail below. Arm A: Active Hydroxychloroquine (- daily dosing and placebo-matched hydroxychloroquine - weekly dosing). Form: Tablets Route: Oral. Dose and Frequency: Active hydroxychloroquine: Days 1-2: Loading phase - 400mg (2 x 200mg tablets) taken twice a day for 2 days Days 3 onwards: Maintenance Phase - 200mg (1 x 200mg tablet) taken once daily, every day for 90 days (~3 months) Matched Placebo hydroxychloroquine: Days 3 onwards: Maintenance Phase - 2 tablets taken once a week on the same day each week (every 7th day) for 90 days (~3 months) Arm B: Active Hydroxychloroquine (- weekly dosing and placebo matched hydroxychloroquine - daily dosing.) Form: Tablets Route: Oral. Dose and Frequency: Active hydroxychloroquine: Days 1-2: Loading Phase - 400mg (2 x 200mg tablets) taken twice daily for 2 days Days 3 onwards: Maintenance Phase - 400mg (2 x 200mg tablets) taken once a week on the same day each week (every 7th day) for 90 days (~3 months) Matched Placebo hydroxychloroquine: Days 3 onwards: Maintenance Phase - 1 tablet taken once daily for 90 days (~3 months) Arm C: Matched placebo Hydroxychloroquine (- daily dosing and matched placebo hydroxychloroquine - weekly dosing.) Form: Table. Route: Oral. Frequency: Matched placebo hydroxychloroquine - daily dosing: Days 1-2: Loading Phase - 2 tablets taken twice daily for 2 days Days 3 onwards: Maintenance Phase - 1 tablet taken once daily for 90 days (~3 months) Matched placebo hydroxychloroquine - weekly dosing: Days 3 onwards: Maintenance Phase - 2 tablets taken once a week on the same day each week (every 7th day) for 90 days (~3 months) A schematic of the dosing schedule can be found in the full study protocol (Additional File 1). Time to diagnosis of positive COVID-19 disease (defined by record of date of symptoms onset and confirmed by laboratory test) RANDOMISATION: Participants will be randomised to either hydroxychloroquine dosed daily with weekly placebo, HCQ dosed weekly with daily placebo, or placebo dosed daily and weekly. Randomisation will be in a 3:3:2 ratio [hydroxychloroquine-(daily), hydroxychloroquine-(weekly), placebo], using stratified block randomisation. Random block sizes will be used, and stratification will be by study site. Participants and trial investigators consenting participants, delivering trial assessments and procedures will be blinded to intervention. A sufficient number of participants will be enrolled so that approximately 1000 participants in total will have data suitable for the primary statistical analysis. It is anticipated that approximately 1,200 participants will need to be enrolled in total, to allow for a 20% dropout over the period of the trial. This would result in approximately 450:450:300 participants randomised to hydroxychloroquine daily, hydroxychloroquine weekly+daily matched placebo or matched-placebo daily and weekly. V 1.0, 7th April 2020 EU Clinical Trials Register EudraCT Number: 2020-001331-26 Date of registration: 14th April 2020 Trial registered before first participant enrolment. Trial site is Cambridge University Hospitals NHS Foundation Trust. Recruitment started on 11th May 2020. It is anticipated that the trial will run for 12 months. The recruitment end date cannot yet be accurately predicted. The full protocol is attached as an additional file, accessible from the Trials website (Additional file 1). In the interest of expediting dissemination of this material, the familiar formatting has been eliminated; this Letter serves as a summary of the key elements of the full protocol. The study protocol has been reported in accordance with the Standard Protocol Items: Recommendations for Clinical Interventional Trials (SPIRIT) guidelines (Additional file 2).\"\n",
    "]\n",
    "\n",
    "# combine query article into pairs\n",
    "pairs = [[query, article] for article in articles]\n",
    "\n",
    "with torch.no_grad():\n",
    "    encoded = tokenizer(\n",
    "        pairs,\n",
    "        truncation=True,\n",
    "        padding=True,\n",
    "        return_tensors=\"pt\",\n",
    "        max_length=512,\n",
    "    )\n",
    "\n",
    "    logits = model(**encoded).logits.squeeze(dim=1)\n",
    "    \n",
    "    print(logits)"
   ]
  },
  {
   "cell_type": "code",
   "execution_count": 16,
   "id": "d91d24e8-6d10-49ec-ba60-88396ca73dbb",
   "metadata": {
    "execution": {
     "iopub.execute_input": "2024-08-14T06:14:16.896537Z",
     "iopub.status.busy": "2024-08-14T06:14:16.895614Z",
     "iopub.status.idle": "2024-08-14T06:14:17.314270Z",
     "shell.execute_reply": "2024-08-14T06:14:17.313766Z",
     "shell.execute_reply.started": "2024-08-14T06:14:16.896504Z"
    }
   },
   "outputs": [
    {
     "name": "stdout",
     "output_type": "stream",
     "text": [
      "Relevance score: 5.999639987945557\n"
     ]
    }
   ],
   "source": [
    "with open('/work/acslab/users/svalipou/docs/13_exp/exp1.txt', 'r') as file:\n",
    "    explanation = file.read().strip()\n",
    "\n",
    "with open('/work/acslab/users/svalipou/docs/13/32493475.txt', 'r') as file:\n",
    "    reference = file.read().strip()\n",
    "   \n",
    "pair = (explanation, reference)\n",
    "\n",
    "with torch.no_grad():\n",
    "    encoded = tokenizer([pair], truncation=True, padding=True, return_tensors=\"pt\", max_length=512)\n",
    "    logits = model(**encoded).logits.squeeze(dim=1)\n",
    "\n",
    "    print(f\"Relevance score: {logits.item()}\")\n"
   ]
  },
  {
   "cell_type": "markdown",
   "id": "e2fcf43b-e0be-4d30-ac3c-4c4cb5e48cb5",
   "metadata": {},
   "source": [
    "## Using MedCPT-Cross-Encoder"
   ]
  },
  {
   "cell_type": "code",
   "execution_count": 8,
   "id": "094ced1a-ae2b-4af3-8ac5-4cbc47e95986",
   "metadata": {
    "execution": {
     "iopub.execute_input": "2024-08-14T05:25:29.707595Z",
     "iopub.status.busy": "2024-08-14T05:25:29.707237Z",
     "iopub.status.idle": "2024-08-14T05:25:32.760738Z",
     "shell.execute_reply": "2024-08-14T05:25:32.760340Z",
     "shell.execute_reply.started": "2024-08-14T05:25:29.707566Z"
    }
   },
   "outputs": [
    {
     "name": "stdout",
     "output_type": "stream",
     "text": [
      "Relevance score for /work/acslab/users/svalipou/docs/13/32493475.txt: 11.007904052734375\n",
      "Relevance score for /work/acslab/users/svalipou/docs/13/32493478.txt: 9.12633228302002\n",
      "Relevance score for /work/acslab/users/svalipou/docs/13/32616067.txt: 9.501900672912598\n"
     ]
    }
   ],
   "source": [
    "tokenizer = AutoTokenizer.from_pretrained(\"ncbi/MedCPT-Cross-Encoder\")\n",
    "model = AutoModelForSequenceClassification.from_pretrained(\"ncbi/MedCPT-Cross-Encoder\")\n",
    "\n",
    "with open('/work/acslab/users/svalipou/docs/13_exp/exp1.txt', 'r') as file:\n",
    "    explanation_text = file.read().strip()\n",
    "\n",
    "reference_files = [\n",
    "    '/work/acslab/users/svalipou/docs/13/32493475.txt',\n",
    "    '/work/acslab/users/svalipou/docs/13/32493478.txt',\n",
    "    '/work/acslab/users/svalipou/docs/13/32616067.txt'\n",
    "]\n",
    "\n",
    "for ref_file in reference_files:\n",
    "    with open(ref_file, 'r') as file:\n",
    "        reference = file.read().strip()\n",
    "    \n",
    "    pair = explanation + \" \" + reference\n",
    "    \n",
    "    with torch.no_grad():\n",
    "        encoded = tokenizer(pair, truncation=True, padding=True, return_tensors=\"pt\", max_length=512)\n",
    "        logits = model(**encoded).logits.squeeze(dim=1)\n",
    "\n",
    "    print(f\"Relevance score for {ref_file}: {logits.item()}\")"
   ]
  },
  {
   "cell_type": "code",
   "execution_count": null,
   "id": "ffc72b27-9daa-4ef5-8033-340b3a2d8959",
   "metadata": {},
   "outputs": [],
   "source": []
  }
 ],
 "metadata": {
  "kernelspec": {
   "display_name": "Python [conda env:llm_exp]",
   "language": "python",
   "name": "conda-env-llm_exp-py"
  },
  "language_info": {
   "codemirror_mode": {
    "name": "ipython",
    "version": 3
   },
   "file_extension": ".py",
   "mimetype": "text/x-python",
   "name": "python",
   "nbconvert_exporter": "python",
   "pygments_lexer": "ipython3",
   "version": "3.11.5"
  }
 },
 "nbformat": 4,
 "nbformat_minor": 5
}
