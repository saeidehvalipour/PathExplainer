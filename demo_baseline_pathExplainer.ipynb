{
 "cells": [
  {
   "cell_type": "code",
   "execution_count": 4,
   "id": "ae32bc0f-8e75-4595-a97f-6771dca1ce76",
   "metadata": {
    "execution": {
     "iopub.execute_input": "2024-08-13T22:58:11.912693Z",
     "iopub.status.busy": "2024-08-13T22:58:11.911944Z",
     "iopub.status.idle": "2024-08-13T22:58:11.917024Z",
     "shell.execute_reply": "2024-08-13T22:58:11.916070Z",
     "shell.execute_reply.started": "2024-08-13T22:58:11.912648Z"
    }
   },
   "outputs": [],
   "source": [
    "from BaseLine_Path_Exp import PathExplainer\n",
    "import pandas as pd"
   ]
  },
  {
   "cell_type": "code",
   "execution_count": 5,
   "id": "5159b4c7-b279-40b9-a724-fdb3c923d8e0",
   "metadata": {
    "execution": {
     "iopub.execute_input": "2024-08-13T22:58:12.837309Z",
     "iopub.status.busy": "2024-08-13T22:58:12.836726Z",
     "iopub.status.idle": "2024-08-13T22:58:14.487978Z",
     "shell.execute_reply": "2024-08-13T22:58:14.487061Z",
     "shell.execute_reply.started": "2024-08-13T22:58:12.837267Z"
    }
   },
   "outputs": [],
   "source": [
    "explainer = PathExplainer('/work/acslab/shared/Agatha_shared/sentences.sqlite3')"
   ]
  },
  {
   "cell_type": "code",
   "execution_count": 6,
   "id": "30300837-4b95-4098-aa2b-1cba3ad342b6",
   "metadata": {
    "execution": {
     "iopub.execute_input": "2024-08-13T22:58:16.046632Z",
     "iopub.status.busy": "2024-08-13T22:58:16.046192Z",
     "iopub.status.idle": "2024-08-13T22:58:16.057761Z",
     "shell.execute_reply": "2024-08-13T22:58:16.057074Z",
     "shell.execute_reply.started": "2024-08-13T22:58:16.046592Z"
    }
   },
   "outputs": [],
   "source": [
    "source = \"amiodarone\"\n",
    "target = \"mefloquine\"\n",
    "sp_df = pd.read_pickle('amiodarone_mefloquine.pkl')\n",
    "top_5_df = sp_df.head(5) # take 5 paths"
   ]
  },
  {
   "cell_type": "code",
   "execution_count": 7,
   "id": "ce89a40f-c636-4011-9510-cf11a38e4d46",
   "metadata": {
    "execution": {
     "iopub.execute_input": "2024-08-13T22:58:19.369413Z",
     "iopub.status.busy": "2024-08-13T22:58:19.368491Z",
     "iopub.status.idle": "2024-08-13T22:59:05.588859Z",
     "shell.execute_reply": "2024-08-13T22:59:05.587837Z",
     "shell.execute_reply.started": "2024-08-13T22:58:19.369370Z"
    },
    "scrolled": true
   },
   "outputs": [
    {
     "name": "stderr",
     "output_type": "stream",
     "text": [
      "Retrieving abstracts: 100%|███████████████████████████████████████████████████| 3/3 [00:00<00:00, 21769.74it/s]\n"
     ]
    },
    {
     "name": "stdout",
     "output_type": "stream",
     "text": [
      "Time taken for generating oai_get_response from llm: 8.81 seconds\n"
     ]
    },
    {
     "name": "stderr",
     "output_type": "stream",
     "text": [
      "Retrieving abstracts: 100%|███████████████████████████████████████████████████| 3/3 [00:00<00:00, 22075.28it/s]\n"
     ]
    },
    {
     "name": "stdout",
     "output_type": "stream",
     "text": [
      "Time taken for generating oai_get_response from llm: 4.74 seconds\n"
     ]
    },
    {
     "name": "stderr",
     "output_type": "stream",
     "text": [
      "Retrieving abstracts: 100%|████████████████████████████████████████████████████| 3/3 [00:00<00:00, 6397.01it/s]\n"
     ]
    },
    {
     "name": "stdout",
     "output_type": "stream",
     "text": [
      "Time taken for generating oai_get_response from llm: 9.36 seconds\n"
     ]
    },
    {
     "name": "stderr",
     "output_type": "stream",
     "text": [
      "Retrieving abstracts: 100%|███████████████████████████████████████████████████| 3/3 [00:00<00:00, 11848.32it/s]\n"
     ]
    },
    {
     "name": "stdout",
     "output_type": "stream",
     "text": [
      "Time taken for generating oai_get_response from llm: 13.96 seconds\n"
     ]
    },
    {
     "name": "stderr",
     "output_type": "stream",
     "text": [
      "Retrieving abstracts: 100%|███████████████████████████████████████████████████| 3/3 [00:00<00:00, 15439.16it/s]\n"
     ]
    },
    {
     "name": "stdout",
     "output_type": "stream",
     "text": [
      "Time taken for generating oai_get_response from llm: 7.89 seconds\n"
     ]
    },
    {
     "data": {
      "text/html": [
       "<div>\n",
       "<style scoped>\n",
       "    .dataframe tbody tr th:only-of-type {\n",
       "        vertical-align: middle;\n",
       "    }\n",
       "\n",
       "    .dataframe tbody tr th {\n",
       "        vertical-align: top;\n",
       "    }\n",
       "\n",
       "    .dataframe thead th {\n",
       "        text-align: right;\n",
       "    }\n",
       "</style>\n",
       "<table border=\"1\" class=\"dataframe\">\n",
       "  <thead>\n",
       "    <tr style=\"text-align: right;\">\n",
       "      <th></th>\n",
       "      <th>path</th>\n",
       "      <th>score_std</th>\n",
       "      <th>score_mean</th>\n",
       "      <th>dec_path</th>\n",
       "      <th>context_pmids</th>\n",
       "      <th>best_selection_sbert</th>\n",
       "      <th>cosine_similarity</th>\n",
       "      <th>llm_response_bl</th>\n",
       "    </tr>\n",
       "  </thead>\n",
       "  <tbody>\n",
       "    <tr>\n",
       "      <th>155</th>\n",
       "      <td>[C0002598, C0055661, C1412079, C0025153]</td>\n",
       "      <td>0.000000</td>\n",
       "      <td>0.998306</td>\n",
       "      <td>[amiodarone, chrysin, ABCC4 gene, mefloquine]</td>\n",
       "      <td>{('C0002598', 'C0055661'): ['34534572'], ('C00...</td>\n",
       "      <td>{('C0002598', 'C0055661'): '34534572', ('C0055...</td>\n",
       "      <td>{('C0002598', 'C0055661'): 0.30451369285583496...</td>\n",
       "      <td>An indirect relationship between amiodarone an...</td>\n",
       "    </tr>\n",
       "    <tr>\n",
       "      <th>392</th>\n",
       "      <td>[C0002598, C0018995, C0037285, C0025153]</td>\n",
       "      <td>0.000000</td>\n",
       "      <td>0.973623</td>\n",
       "      <td>[amiodarone, Hemochromatosis, Skin Manifestati...</td>\n",
       "      <td>{('C0002598', 'C0018995'): ['9141611'], ('C001...</td>\n",
       "      <td>{('C0002598', 'C0018995'): '9141611', ('C00189...</td>\n",
       "      <td>{('C0002598', 'C0018995'): 0.31887203454971313...</td>\n",
       "      <td>An indirect relationship between amiodarone an...</td>\n",
       "    </tr>\n",
       "    <tr>\n",
       "      <th>351</th>\n",
       "      <td>[C0002598, C1420133, C0024537, C0025153]</td>\n",
       "      <td>0.018100</td>\n",
       "      <td>0.966783</td>\n",
       "      <td>[amiodarone, SLCO2B1 gene, Malaria, Vivax, mef...</td>\n",
       "      <td>{('C0002598', 'C1420133'): ['19285480'], ('C14...</td>\n",
       "      <td>{('C0002598', 'C1420133'): '19285480', ('C1420...</td>\n",
       "      <td>{('C0002598', 'C1420133'): 0.13925690948963165...</td>\n",
       "      <td>Based on the provided abstracts, an indirect r...</td>\n",
       "    </tr>\n",
       "    <tr>\n",
       "      <th>295</th>\n",
       "      <td>[C0002598, C0051231, C0210995, C0025153]</td>\n",
       "      <td>0.006013</td>\n",
       "      <td>0.966562</td>\n",
       "      <td>[amiodarone, allyl isothiocyanate, mismatch re...</td>\n",
       "      <td>{('C0002598', 'C0051231'): ['25069801'], ('C00...</td>\n",
       "      <td>{('C0002598', 'C0051231'): '25069801', ('C0051...</td>\n",
       "      <td>{('C0002598', 'C0051231'): 0.14810478687286377...</td>\n",
       "      <td>An indirect relationship between amiodarone an...</td>\n",
       "    </tr>\n",
       "    <tr>\n",
       "      <th>329</th>\n",
       "      <td>[C0002598, C0002390, C0035891, C0025153]</td>\n",
       "      <td>0.000000</td>\n",
       "      <td>0.964968</td>\n",
       "      <td>[amiodarone, Extrinsic allergic alveolitis, ro...</td>\n",
       "      <td>{('C0002598', 'C0002390'): ['33792260'], ('C00...</td>\n",
       "      <td>{('C0002598', 'C0002390'): '33792260', ('C0002...</td>\n",
       "      <td>{('C0002598', 'C0002390'): 0.3570442497730255,...</td>\n",
       "      <td>An indirect relationship between amiodarone an...</td>\n",
       "    </tr>\n",
       "  </tbody>\n",
       "</table>\n",
       "</div>"
      ],
      "text/plain": [
       "                                         path  score_std  score_mean  \\\n",
       "155  [C0002598, C0055661, C1412079, C0025153]   0.000000    0.998306   \n",
       "392  [C0002598, C0018995, C0037285, C0025153]   0.000000    0.973623   \n",
       "351  [C0002598, C1420133, C0024537, C0025153]   0.018100    0.966783   \n",
       "295  [C0002598, C0051231, C0210995, C0025153]   0.006013    0.966562   \n",
       "329  [C0002598, C0002390, C0035891, C0025153]   0.000000    0.964968   \n",
       "\n",
       "                                              dec_path  \\\n",
       "155      [amiodarone, chrysin, ABCC4 gene, mefloquine]   \n",
       "392  [amiodarone, Hemochromatosis, Skin Manifestati...   \n",
       "351  [amiodarone, SLCO2B1 gene, Malaria, Vivax, mef...   \n",
       "295  [amiodarone, allyl isothiocyanate, mismatch re...   \n",
       "329  [amiodarone, Extrinsic allergic alveolitis, ro...   \n",
       "\n",
       "                                         context_pmids  \\\n",
       "155  {('C0002598', 'C0055661'): ['34534572'], ('C00...   \n",
       "392  {('C0002598', 'C0018995'): ['9141611'], ('C001...   \n",
       "351  {('C0002598', 'C1420133'): ['19285480'], ('C14...   \n",
       "295  {('C0002598', 'C0051231'): ['25069801'], ('C00...   \n",
       "329  {('C0002598', 'C0002390'): ['33792260'], ('C00...   \n",
       "\n",
       "                                  best_selection_sbert  \\\n",
       "155  {('C0002598', 'C0055661'): '34534572', ('C0055...   \n",
       "392  {('C0002598', 'C0018995'): '9141611', ('C00189...   \n",
       "351  {('C0002598', 'C1420133'): '19285480', ('C1420...   \n",
       "295  {('C0002598', 'C0051231'): '25069801', ('C0051...   \n",
       "329  {('C0002598', 'C0002390'): '33792260', ('C0002...   \n",
       "\n",
       "                                     cosine_similarity  \\\n",
       "155  {('C0002598', 'C0055661'): 0.30451369285583496...   \n",
       "392  {('C0002598', 'C0018995'): 0.31887203454971313...   \n",
       "351  {('C0002598', 'C1420133'): 0.13925690948963165...   \n",
       "295  {('C0002598', 'C0051231'): 0.14810478687286377...   \n",
       "329  {('C0002598', 'C0002390'): 0.3570442497730255,...   \n",
       "\n",
       "                                       llm_response_bl  \n",
       "155  An indirect relationship between amiodarone an...  \n",
       "392  An indirect relationship between amiodarone an...  \n",
       "351  Based on the provided abstracts, an indirect r...  \n",
       "295  An indirect relationship between amiodarone an...  \n",
       "329  An indirect relationship between amiodarone an...  "
      ]
     },
     "execution_count": 7,
     "metadata": {},
     "output_type": "execute_result"
    }
   ],
   "source": [
    "intermediate_df = top_5_df.apply(explainer.process_dataframe_row, axis=1)\n",
    "top_5_df[['best_selection_sbert', 'cosine_similarity']] = intermediate_df\n",
    "\n",
    "top_5_df['llm_response_bl'] = top_5_df.apply(\n",
    "    lambda row: explainer.generate_llm_response(row['best_selection_sbert'], \"amiodarone\", \"mefloquine\"), axis=1)\n",
    "\n",
    "top_5_df"
   ]
  },
  {
   "cell_type": "code",
   "execution_count": 9,
   "id": "29c8d294-d0fb-40b5-89c9-fb27d668cf56",
   "metadata": {
    "execution": {
     "iopub.execute_input": "2024-08-13T23:01:35.710956Z",
     "iopub.status.busy": "2024-08-13T23:01:35.710268Z",
     "iopub.status.idle": "2024-08-13T23:01:35.738040Z",
     "shell.execute_reply": "2024-08-13T23:01:35.737354Z",
     "shell.execute_reply.started": "2024-08-13T23:01:35.710912Z"
    }
   },
   "outputs": [
    {
     "data": {
      "text/html": [
       "<div>\n",
       "<style scoped>\n",
       "    .dataframe tbody tr th:only-of-type {\n",
       "        vertical-align: middle;\n",
       "    }\n",
       "\n",
       "    .dataframe tbody tr th {\n",
       "        vertical-align: top;\n",
       "    }\n",
       "\n",
       "    .dataframe thead th {\n",
       "        text-align: right;\n",
       "    }\n",
       "</style>\n",
       "<table border=\"1\" class=\"dataframe\">\n",
       "  <thead>\n",
       "    <tr style=\"text-align: right;\">\n",
       "      <th></th>\n",
       "      <th>path</th>\n",
       "      <th>score_std</th>\n",
       "      <th>score_mean</th>\n",
       "      <th>dec_path</th>\n",
       "      <th>context_pmids</th>\n",
       "      <th>best_selection_sbert</th>\n",
       "      <th>cosine_similarity</th>\n",
       "      <th>llm_response_bl</th>\n",
       "    </tr>\n",
       "  </thead>\n",
       "  <tbody>\n",
       "    <tr>\n",
       "      <th>155</th>\n",
       "      <td>[C0002598, C0055661, C1412079, C0025153]</td>\n",
       "      <td>0.000000</td>\n",
       "      <td>0.998306</td>\n",
       "      <td>[amiodarone, chrysin, ABCC4 gene, mefloquine]</td>\n",
       "      <td>{('C0002598', 'C0055661'): ['34534572'], ('C0055661', 'C1412079'): ['26291395'], ('C1412079', 'C0025153'): ['16004972']}</td>\n",
       "      <td>{('C0002598', 'C0055661'): '34534572', ('C0055661', 'C1412079'): '26291395', ('C1412079', 'C0025153'): '16004972'}</td>\n",
       "      <td>{('C0002598', 'C0055661'): 0.30451369285583496, ('C0055661', 'C1412079'): 0.03671790286898613, ('C1412079', 'C0025153'): 0.38149493932724}</td>\n",
       "      <td>An indirect relationship between amiodarone and mefloquine can be described through their interactions with multidrug resistance-associated proteins (MRPs), specifically MRP4 (ABCC4). Here’s a detailed explanation based on the provided abstracts:\\n\\n1. **Amiodarone and Chrysin Interaction**:\\n   - Amiodarone, a drug used to treat arrhythmias, can cause skin injury through extravasation, which involves an inflammatory process.\\n   - Chrysin, a natural flavonoid, has been shown to mitigate this skin injury by reducing inflammation and promoting wound healing. This effect is partly due to chrysin's interaction with cellular mechanisms, including its efflux transport mediated by MRP4.\\n\\n2. **Chrysin and MRP4**:\\n   - The second abstract discusses the role of MRP4 in the efflux transport of chrysin sulfates. MRP4 is identified as a significant transporter for chrysin sulfates, indicating that chrysin's pharmacokinetics and therapeutic effects are influenced by MRP4 activity.\\n\\n3. **Mefloquine and MRP4**:\\n   - The third abstract explores the interaction of mefloquine, an antimalarial drug, with MRPs, including MRP4. Mefloquine inhibits MRP4-mediated transport, suggesting that it can affect the efflux of various substrates transported by MRP4.\\n\\n**Connecting the Dots**:\\n- **Common Pathway (MRP4)**: Both chrysin and mefloquine interact with MRP4, albeit in different contexts. Chrysin is a substrate for MRP4, and its therapeutic effects in reducing amiodarone-induced skin injury are partly mediated through this transporter. Mefloquine, on the other hand, inhibits MRP4, which could potentially alter the transport and efficacy of other MRP4 substrates, including chrysin.\\n- **Potential Implications**: If mefloquine inhibits MRP4, it could theoretically affect the pharmacokinetics of chrysin when both are administered concurrently. This interaction might influence the therapeutic outcomes of chrysin in treating amiodarone-induced skin injury, although this is speculative and would require further investigation.\\n\\nIn summary, the indirect relationship between amiodarone and mefloquine is mediated through their shared interaction with MRP4. Amiodarone's side effects are mitigated by chrysin, which is transported by MRP4, while mefloquine inhibits MRP4, potentially affecting the transport and efficacy of chrysin.</td>\n",
       "    </tr>\n",
       "    <tr>\n",
       "      <th>392</th>\n",
       "      <td>[C0002598, C0018995, C0037285, C0025153]</td>\n",
       "      <td>0.000000</td>\n",
       "      <td>0.973623</td>\n",
       "      <td>[amiodarone, Hemochromatosis, Skin Manifestations, mefloquine]</td>\n",
       "      <td>{('C0002598', 'C0018995'): ['9141611'], ('C0018995', 'C0037285'): ['31496470'], ('C0037285', 'C0025153'): ['16938613']}</td>\n",
       "      <td>{('C0002598', 'C0018995'): '9141611', ('C0018995', 'C0037285'): '31496470', ('C0037285', 'C0025153'): '16938613'}</td>\n",
       "      <td>{('C0002598', 'C0018995'): 0.31887203454971313, ('C0018995', 'C0037285'): 0.09318222105503082, ('C0037285', 'C0025153'): 0.5571300983428955}</td>\n",
       "      <td>An indirect relationship between amiodarone and mefloquine can be inferred through their association with hemochromatosis and its manifestations. Here’s a detailed description:\\n\\nAmiodarone is highlighted in the context of treating cardiac complications, specifically ventricular tachycardia, in patients with cardiac hemochromatosis. Hemochromatosis, a systemic disorder characterized by excessive iron deposition, can lead to severe cardiac arrhythmias, which amiodarone, a class III antiarrhythmic drug, can effectively manage when other treatments fail.\\n\\nOn the other hand, hemochromatosis is also mentioned in the context of cutaneous deposition disorders, which can present with various skin manifestations. The abstract on cutaneous deposition disorders discusses how hemochromatosis can alter skin pigmentation and how it can be confused with other conditions like porphyria cutanea tarda (PCT), ochronosis, and argyria due to overlapping symptoms.\\n\\nMefloquine, although not directly connected to hemochromatosis in the provided abstracts, is mentioned in the context of an unusual cutaneous manifestation. Given that hemochromatosis can present with various skin abnormalities, it is plausible that mefloquine's cutaneous effects might be confused with or resemble those seen in hemochromatosis or related deposition disorders.\\n\\nThus, the indirect relationship between amiodarone and mefloquine can be described through their respective associations with hemochromatosis and its manifestations. Amiodarone is used to treat cardiac complications arising from hemochromatosis, while mefloquine's unusual cutaneous manifestations might overlap with the skin symptoms seen in hemochromatosis, leading to potential diagnostic confusion.</td>\n",
       "    </tr>\n",
       "    <tr>\n",
       "      <th>351</th>\n",
       "      <td>[C0002598, C1420133, C0024537, C0025153]</td>\n",
       "      <td>0.018100</td>\n",
       "      <td>0.966783</td>\n",
       "      <td>[amiodarone, SLCO2B1 gene, Malaria, Vivax, mefloquine]</td>\n",
       "      <td>{('C0002598', 'C1420133'): ['19285480'], ('C1420133', 'C0024537'): ['28975866'], ('C0024537', 'C0025153'): ['25272023', '21935647', '1603018', '9927829', '3915155', '3890575', '31411308', '17987363', '16575721', '15653127', '7004214']}</td>\n",
       "      <td>{('C0002598', 'C1420133'): '19285480', ('C1420133', 'C0024537'): '28975866', ('C0024537', 'C0025153'): '1603018'}</td>\n",
       "      <td>{('C0002598', 'C1420133'): 0.13925690948963165, ('C1420133', 'C0024537'): 0.2532974183559418, ('C0024537', 'C0025153'): 0.503267765045166}</td>\n",
       "      <td>Based on the provided abstracts, an indirect relationship between amiodarone (AMD) and mefloquine can be described through their interactions with organic anion transporting polypeptides (OATPs), specifically OATP2B1.\\n\\n1. **Amiodarone and OATP2B1**: The first abstract discusses the role of OATP2B1 in the accumulation of amiodarone in lung epithelial cells. It highlights that amiodarone is taken up by a carrier-mediated system involving OATP2B1, which contributes to its accumulation and potential pulmonary toxicity.\\n\\n2. **Mefloquine and OATP2B1**: The second abstract, while primarily focused on chloroquine and primaquine, mentions the influence of OATP2B1 polymorphisms on the treatment response in Plasmodium vivax malaria. Although mefloquine is not directly mentioned in this abstract, it is implied that OATP transporters, including OATP2B1, play a role in the pharmacokinetics and pharmacodynamics of antimalarial drugs.\\n\\n3. **Mefloquine Resistance**: The third abstract briefly mentions mefloquine-resistant Plasmodium vivax malaria in Papua New Guinea (PNG), suggesting that resistance mechanisms could involve alterations in drug transport and metabolism, potentially implicating OATP transporters.\\n\\n### Indirect Relationship:\\n- **Common Transporter Involvement**: Both amiodarone and antimalarial drugs (such as chloroquine and primaquine) interact with OATP2B1. This suggests that OATP2B1 could influence the pharmacokinetics of both types of drugs.\\n- **Pharmacogenetic Implications**: Polymorphisms in the SLCO2B1 gene, which encodes OATP2B1, affect the treatment response to antimalarial drugs. This implies that genetic variations in OATP2B1 could also potentially affect the pharmacokinetics and toxicity of amiodarone.\\n- **Potential Drug Interactions**: If a patient is taking both amiodarone and an antimalarial drug like mefloquine, the shared involvement of OATP2B1 could lead to drug-drug interactions, affecting the efficacy and safety of either or both drugs.\\n\\nIn summary, the indirect relationship between amiodarone and mefloquine can be described through their shared interaction with the OATP2B1 transporter, which influences their cellular uptake and pharmacokinetics. This common pathway suggests potential pharmacogenetic implications and possible drug-drug interactions that could impact clinical outcomes.</td>\n",
       "    </tr>\n",
       "    <tr>\n",
       "      <th>295</th>\n",
       "      <td>[C0002598, C0051231, C0210995, C0025153]</td>\n",
       "      <td>0.006013</td>\n",
       "      <td>0.966562</td>\n",
       "      <td>[amiodarone, allyl isothiocyanate, mismatch repair protein 1, human, mefloquine]</td>\n",
       "      <td>{('C0002598', 'C0051231'): ['25069801'], ('C0051231', 'C0210995'): ['31927049', '33692840', '31747319', '31571144', '24672635'], ('C0210995', 'C0025153'): ['16004972']}</td>\n",
       "      <td>{('C0002598', 'C0051231'): '25069801', ('C0051231', 'C0210995'): '24672635', ('C0210995', 'C0025153'): '16004972'}</td>\n",
       "      <td>{('C0002598', 'C0051231'): 0.14810478687286377, ('C0051231', 'C0210995'): 0.07797744125127792, ('C0210995', 'C0025153'): 0.38149493932724}</td>\n",
       "      <td>An indirect relationship between amiodarone and mefloquine can be described through their interactions with the same molecular pathways and cellular mechanisms, particularly involving the pregnane X receptor (PXR), constitutive androstane receptor (CAR), and multidrug resistance-associated protein 1 (MRP1).\\n\\n1. **Amiodarone and PXR/CAR Pathway:**\\n   - Amiodarone induces cytotoxicity that can be mitigated by allyl isothiocyanate (AITC) through the inhibition of PXR and CAR. AITC reduces the transcriptional activity of PXR and CAR, leading to decreased expression and function of their target genes, CYP3A4 and CYP2B6. This reduction in activity helps protect cells from the cytotoxic effects of amiodarone.\\n\\n2. **Mefloquine and MRP1 Interaction:**\\n   - Mefloquine interacts with MRP1, a transporter protein involved in the efflux of various substrates, including drugs and their metabolites. Mefloquine inhibits MRP1-mediated transport, which could affect the intracellular concentration of drugs and their metabolites.\\n\\n3. **AITC and MRP1 Upregulation:**\\n   - AITC increases the expression and activity of MRP1 in a concentration-dependent manner. This upregulation could enhance the efflux of toxic substances and drugs, potentially influencing the pharmacokinetics and toxicity profiles of drugs that are substrates of MRP1.\\n\\n4. **Common Pathways and Indirect Relationship:**\\n   - The indirect relationship between amiodarone and mefloquine can be understood through their shared interaction with AITC and MRP1. AITC's ability to inhibit PXR and CAR protects against amiodarone-induced cytotoxicity, while its upregulation of MRP1 could influence the efflux of mefloquine and other drugs. Additionally, mefloquine's inhibition of MRP1-mediated transport suggests that both drugs could potentially affect the same cellular transport mechanisms, albeit through different interactions.\\n\\nIn summary, the indirect relationship between amiodarone and mefloquine is mediated by their interactions with AITC and MRP1. AITC's modulation of PXR, CAR, and MRP1 pathways plays a central role in this relationship, influencing the cytotoxicity and transport of these drugs within cells.</td>\n",
       "    </tr>\n",
       "    <tr>\n",
       "      <th>329</th>\n",
       "      <td>[C0002598, C0002390, C0035891, C0025153]</td>\n",
       "      <td>0.000000</td>\n",
       "      <td>0.964968</td>\n",
       "      <td>[amiodarone, Extrinsic allergic alveolitis, roxithromycin, mefloquine]</td>\n",
       "      <td>{('C0002598', 'C0002390'): ['33792260'], ('C0002390', 'C0035891'): ['17008299'], ('C0035891', 'C0025153'): ['17118354']}</td>\n",
       "      <td>{('C0002598', 'C0002390'): '33792260', ('C0002390', 'C0035891'): '17008299', ('C0035891', 'C0025153'): '17118354'}</td>\n",
       "      <td>{('C0002598', 'C0002390'): 0.3570442497730255, ('C0002390', 'C0035891'): 0.06120168790221214, ('C0035891', 'C0025153'): 0.2940119504928589}</td>\n",
       "      <td>An indirect relationship between amiodarone and mefloquine can be described through their respective interactions with roxithromycin, a macrolide antibiotic. Here’s how the connection can be outlined based on the provided abstracts:\\n\\n1. **Amiodarone and Pulmonary Toxicity**: The first abstract discusses a case of amiodarone-associated allergic pneumonitis, a form of pulmonary toxicity. Amiodarone is an antiarrhythmic drug that can cause various pulmonary complications, including interstitial pneumonitis and eosinophilic pneumonia.\\n\\n2. **Roxithromycin and Hypersensitivity Pneumonitis**: The second abstract mentions that roxithromycin can induce hypersensitivity pneumonitis, another form of lung inflammation.\\n\\n3. **Roxithromycin and Mefloquine**: The third abstract highlights that roxithromycin can potentiate the effects of mefloquine (an antimalarial drug) on multidrug-resistant Plasmodium falciparum. Roxithromycin acts as a p-glycoprotein inhibitor and enhances the efficacy of mefloquine in overcoming drug resistance.\\n\\n### Indirect Relationship:\\n\\n- **Common Link (Roxithromycin)**: Roxithromycin serves as the common link between amiodarone and mefloquine. While amiodarone is associated with pulmonary toxicity and roxithromycin can induce hypersensitivity pneumonitis, roxithromycin also has a pharmacological interaction with mefloquine, enhancing its antimalarial effects.\\n\\n- **Pulmonary Complications**: Both amiodarone and roxithromycin are implicated in causing pulmonary complications, albeit through different mechanisms. This shared aspect of pulmonary toxicity indirectly connects amiodarone to roxithromycin.\\n\\n- **Pharmacological Interaction**: Roxithromycin’s ability to potentiate mefloquine’s effects on Plasmodium falciparum indirectly links mefloquine to the context of pulmonary complications discussed in relation to amiodarone and roxithromycin.\\n\\nIn summary, the indirect relationship between amiodarone and mefloquine is mediated through roxithromycin. Roxithromycin is involved in both pulmonary toxicity (a shared concern with amiodarone) and the potentiation of mefloquine’s antimalarial activity. This creates a web of interactions where roxithromycin serves as the connecting point between the two drugs.</td>\n",
       "    </tr>\n",
       "  </tbody>\n",
       "</table>\n",
       "</div>"
      ],
      "text/plain": [
       "                                         path  score_std  score_mean  \\\n",
       "155  [C0002598, C0055661, C1412079, C0025153]   0.000000    0.998306   \n",
       "392  [C0002598, C0018995, C0037285, C0025153]   0.000000    0.973623   \n",
       "351  [C0002598, C1420133, C0024537, C0025153]   0.018100    0.966783   \n",
       "295  [C0002598, C0051231, C0210995, C0025153]   0.006013    0.966562   \n",
       "329  [C0002598, C0002390, C0035891, C0025153]   0.000000    0.964968   \n",
       "\n",
       "                                                                             dec_path  \\\n",
       "155                                     [amiodarone, chrysin, ABCC4 gene, mefloquine]   \n",
       "392                    [amiodarone, Hemochromatosis, Skin Manifestations, mefloquine]   \n",
       "351                            [amiodarone, SLCO2B1 gene, Malaria, Vivax, mefloquine]   \n",
       "295  [amiodarone, allyl isothiocyanate, mismatch repair protein 1, human, mefloquine]   \n",
       "329            [amiodarone, Extrinsic allergic alveolitis, roxithromycin, mefloquine]   \n",
       "\n",
       "                                                                                                                                                                                                                                   context_pmids  \\\n",
       "155                                                                                                                     {('C0002598', 'C0055661'): ['34534572'], ('C0055661', 'C1412079'): ['26291395'], ('C1412079', 'C0025153'): ['16004972']}   \n",
       "392                                                                                                                      {('C0002598', 'C0018995'): ['9141611'], ('C0018995', 'C0037285'): ['31496470'], ('C0037285', 'C0025153'): ['16938613']}   \n",
       "351  {('C0002598', 'C1420133'): ['19285480'], ('C1420133', 'C0024537'): ['28975866'], ('C0024537', 'C0025153'): ['25272023', '21935647', '1603018', '9927829', '3915155', '3890575', '31411308', '17987363', '16575721', '15653127', '7004214']}   \n",
       "295                                                                     {('C0002598', 'C0051231'): ['25069801'], ('C0051231', 'C0210995'): ['31927049', '33692840', '31747319', '31571144', '24672635'], ('C0210995', 'C0025153'): ['16004972']}   \n",
       "329                                                                                                                     {('C0002598', 'C0002390'): ['33792260'], ('C0002390', 'C0035891'): ['17008299'], ('C0035891', 'C0025153'): ['17118354']}   \n",
       "\n",
       "                                                                                                   best_selection_sbert  \\\n",
       "155  {('C0002598', 'C0055661'): '34534572', ('C0055661', 'C1412079'): '26291395', ('C1412079', 'C0025153'): '16004972'}   \n",
       "392   {('C0002598', 'C0018995'): '9141611', ('C0018995', 'C0037285'): '31496470', ('C0037285', 'C0025153'): '16938613'}   \n",
       "351   {('C0002598', 'C1420133'): '19285480', ('C1420133', 'C0024537'): '28975866', ('C0024537', 'C0025153'): '1603018'}   \n",
       "295  {('C0002598', 'C0051231'): '25069801', ('C0051231', 'C0210995'): '24672635', ('C0210995', 'C0025153'): '16004972'}   \n",
       "329  {('C0002598', 'C0002390'): '33792260', ('C0002390', 'C0035891'): '17008299', ('C0035891', 'C0025153'): '17118354'}   \n",
       "\n",
       "                                                                                                                                cosine_similarity  \\\n",
       "155    {('C0002598', 'C0055661'): 0.30451369285583496, ('C0055661', 'C1412079'): 0.03671790286898613, ('C1412079', 'C0025153'): 0.38149493932724}   \n",
       "392  {('C0002598', 'C0018995'): 0.31887203454971313, ('C0018995', 'C0037285'): 0.09318222105503082, ('C0037285', 'C0025153'): 0.5571300983428955}   \n",
       "351    {('C0002598', 'C1420133'): 0.13925690948963165, ('C1420133', 'C0024537'): 0.2532974183559418, ('C0024537', 'C0025153'): 0.503267765045166}   \n",
       "295    {('C0002598', 'C0051231'): 0.14810478687286377, ('C0051231', 'C0210995'): 0.07797744125127792, ('C0210995', 'C0025153'): 0.38149493932724}   \n",
       "329   {('C0002598', 'C0002390'): 0.3570442497730255, ('C0002390', 'C0035891'): 0.06120168790221214, ('C0035891', 'C0025153'): 0.2940119504928589}   \n",
       "\n",
       "                                                                                                                                                                                                                                                                                                                                                                                                                                                                                                                                                                                                                                                                                                                                                                                                                                                                                                                                                                                                                                                                                                                                                                                                                                                                                                                                                                                                                                                                                                                                                                                                                                                                                                                                                                                                                                                                                                                                                                                                                                                                                                                                                                                                                                                                                                                                                                                                                                         llm_response_bl  \n",
       "155            An indirect relationship between amiodarone and mefloquine can be described through their interactions with multidrug resistance-associated proteins (MRPs), specifically MRP4 (ABCC4). Here’s a detailed explanation based on the provided abstracts:\\n\\n1. **Amiodarone and Chrysin Interaction**:\\n   - Amiodarone, a drug used to treat arrhythmias, can cause skin injury through extravasation, which involves an inflammatory process.\\n   - Chrysin, a natural flavonoid, has been shown to mitigate this skin injury by reducing inflammation and promoting wound healing. This effect is partly due to chrysin's interaction with cellular mechanisms, including its efflux transport mediated by MRP4.\\n\\n2. **Chrysin and MRP4**:\\n   - The second abstract discusses the role of MRP4 in the efflux transport of chrysin sulfates. MRP4 is identified as a significant transporter for chrysin sulfates, indicating that chrysin's pharmacokinetics and therapeutic effects are influenced by MRP4 activity.\\n\\n3. **Mefloquine and MRP4**:\\n   - The third abstract explores the interaction of mefloquine, an antimalarial drug, with MRPs, including MRP4. Mefloquine inhibits MRP4-mediated transport, suggesting that it can affect the efflux of various substrates transported by MRP4.\\n\\n**Connecting the Dots**:\\n- **Common Pathway (MRP4)**: Both chrysin and mefloquine interact with MRP4, albeit in different contexts. Chrysin is a substrate for MRP4, and its therapeutic effects in reducing amiodarone-induced skin injury are partly mediated through this transporter. Mefloquine, on the other hand, inhibits MRP4, which could potentially alter the transport and efficacy of other MRP4 substrates, including chrysin.\\n- **Potential Implications**: If mefloquine inhibits MRP4, it could theoretically affect the pharmacokinetics of chrysin when both are administered concurrently. This interaction might influence the therapeutic outcomes of chrysin in treating amiodarone-induced skin injury, although this is speculative and would require further investigation.\\n\\nIn summary, the indirect relationship between amiodarone and mefloquine is mediated through their shared interaction with MRP4. Amiodarone's side effects are mitigated by chrysin, which is transported by MRP4, while mefloquine inhibits MRP4, potentially affecting the transport and efficacy of chrysin.  \n",
       "392                                                                                                                                                                                                                                                                                                                                                                                                                                                                                                                                                                                                                                  An indirect relationship between amiodarone and mefloquine can be inferred through their association with hemochromatosis and its manifestations. Here’s a detailed description:\\n\\nAmiodarone is highlighted in the context of treating cardiac complications, specifically ventricular tachycardia, in patients with cardiac hemochromatosis. Hemochromatosis, a systemic disorder characterized by excessive iron deposition, can lead to severe cardiac arrhythmias, which amiodarone, a class III antiarrhythmic drug, can effectively manage when other treatments fail.\\n\\nOn the other hand, hemochromatosis is also mentioned in the context of cutaneous deposition disorders, which can present with various skin manifestations. The abstract on cutaneous deposition disorders discusses how hemochromatosis can alter skin pigmentation and how it can be confused with other conditions like porphyria cutanea tarda (PCT), ochronosis, and argyria due to overlapping symptoms.\\n\\nMefloquine, although not directly connected to hemochromatosis in the provided abstracts, is mentioned in the context of an unusual cutaneous manifestation. Given that hemochromatosis can present with various skin abnormalities, it is plausible that mefloquine's cutaneous effects might be confused with or resemble those seen in hemochromatosis or related deposition disorders.\\n\\nThus, the indirect relationship between amiodarone and mefloquine can be described through their respective associations with hemochromatosis and its manifestations. Amiodarone is used to treat cardiac complications arising from hemochromatosis, while mefloquine's unusual cutaneous manifestations might overlap with the skin symptoms seen in hemochromatosis, leading to potential diagnostic confusion.  \n",
       "351  Based on the provided abstracts, an indirect relationship between amiodarone (AMD) and mefloquine can be described through their interactions with organic anion transporting polypeptides (OATPs), specifically OATP2B1.\\n\\n1. **Amiodarone and OATP2B1**: The first abstract discusses the role of OATP2B1 in the accumulation of amiodarone in lung epithelial cells. It highlights that amiodarone is taken up by a carrier-mediated system involving OATP2B1, which contributes to its accumulation and potential pulmonary toxicity.\\n\\n2. **Mefloquine and OATP2B1**: The second abstract, while primarily focused on chloroquine and primaquine, mentions the influence of OATP2B1 polymorphisms on the treatment response in Plasmodium vivax malaria. Although mefloquine is not directly mentioned in this abstract, it is implied that OATP transporters, including OATP2B1, play a role in the pharmacokinetics and pharmacodynamics of antimalarial drugs.\\n\\n3. **Mefloquine Resistance**: The third abstract briefly mentions mefloquine-resistant Plasmodium vivax malaria in Papua New Guinea (PNG), suggesting that resistance mechanisms could involve alterations in drug transport and metabolism, potentially implicating OATP transporters.\\n\\n### Indirect Relationship:\\n- **Common Transporter Involvement**: Both amiodarone and antimalarial drugs (such as chloroquine and primaquine) interact with OATP2B1. This suggests that OATP2B1 could influence the pharmacokinetics of both types of drugs.\\n- **Pharmacogenetic Implications**: Polymorphisms in the SLCO2B1 gene, which encodes OATP2B1, affect the treatment response to antimalarial drugs. This implies that genetic variations in OATP2B1 could also potentially affect the pharmacokinetics and toxicity of amiodarone.\\n- **Potential Drug Interactions**: If a patient is taking both amiodarone and an antimalarial drug like mefloquine, the shared involvement of OATP2B1 could lead to drug-drug interactions, affecting the efficacy and safety of either or both drugs.\\n\\nIn summary, the indirect relationship between amiodarone and mefloquine can be described through their shared interaction with the OATP2B1 transporter, which influences their cellular uptake and pharmacokinetics. This common pathway suggests potential pharmacogenetic implications and possible drug-drug interactions that could impact clinical outcomes.  \n",
       "295                                                                                                                                                                  An indirect relationship between amiodarone and mefloquine can be described through their interactions with the same molecular pathways and cellular mechanisms, particularly involving the pregnane X receptor (PXR), constitutive androstane receptor (CAR), and multidrug resistance-associated protein 1 (MRP1).\\n\\n1. **Amiodarone and PXR/CAR Pathway:**\\n   - Amiodarone induces cytotoxicity that can be mitigated by allyl isothiocyanate (AITC) through the inhibition of PXR and CAR. AITC reduces the transcriptional activity of PXR and CAR, leading to decreased expression and function of their target genes, CYP3A4 and CYP2B6. This reduction in activity helps protect cells from the cytotoxic effects of amiodarone.\\n\\n2. **Mefloquine and MRP1 Interaction:**\\n   - Mefloquine interacts with MRP1, a transporter protein involved in the efflux of various substrates, including drugs and their metabolites. Mefloquine inhibits MRP1-mediated transport, which could affect the intracellular concentration of drugs and their metabolites.\\n\\n3. **AITC and MRP1 Upregulation:**\\n   - AITC increases the expression and activity of MRP1 in a concentration-dependent manner. This upregulation could enhance the efflux of toxic substances and drugs, potentially influencing the pharmacokinetics and toxicity profiles of drugs that are substrates of MRP1.\\n\\n4. **Common Pathways and Indirect Relationship:**\\n   - The indirect relationship between amiodarone and mefloquine can be understood through their shared interaction with AITC and MRP1. AITC's ability to inhibit PXR and CAR protects against amiodarone-induced cytotoxicity, while its upregulation of MRP1 could influence the efflux of mefloquine and other drugs. Additionally, mefloquine's inhibition of MRP1-mediated transport suggests that both drugs could potentially affect the same cellular transport mechanisms, albeit through different interactions.\\n\\nIn summary, the indirect relationship between amiodarone and mefloquine is mediated by their interactions with AITC and MRP1. AITC's modulation of PXR, CAR, and MRP1 pathways plays a central role in this relationship, influencing the cytotoxicity and transport of these drugs within cells.  \n",
       "329                                                                                               An indirect relationship between amiodarone and mefloquine can be described through their respective interactions with roxithromycin, a macrolide antibiotic. Here’s how the connection can be outlined based on the provided abstracts:\\n\\n1. **Amiodarone and Pulmonary Toxicity**: The first abstract discusses a case of amiodarone-associated allergic pneumonitis, a form of pulmonary toxicity. Amiodarone is an antiarrhythmic drug that can cause various pulmonary complications, including interstitial pneumonitis and eosinophilic pneumonia.\\n\\n2. **Roxithromycin and Hypersensitivity Pneumonitis**: The second abstract mentions that roxithromycin can induce hypersensitivity pneumonitis, another form of lung inflammation.\\n\\n3. **Roxithromycin and Mefloquine**: The third abstract highlights that roxithromycin can potentiate the effects of mefloquine (an antimalarial drug) on multidrug-resistant Plasmodium falciparum. Roxithromycin acts as a p-glycoprotein inhibitor and enhances the efficacy of mefloquine in overcoming drug resistance.\\n\\n### Indirect Relationship:\\n\\n- **Common Link (Roxithromycin)**: Roxithromycin serves as the common link between amiodarone and mefloquine. While amiodarone is associated with pulmonary toxicity and roxithromycin can induce hypersensitivity pneumonitis, roxithromycin also has a pharmacological interaction with mefloquine, enhancing its antimalarial effects.\\n\\n- **Pulmonary Complications**: Both amiodarone and roxithromycin are implicated in causing pulmonary complications, albeit through different mechanisms. This shared aspect of pulmonary toxicity indirectly connects amiodarone to roxithromycin.\\n\\n- **Pharmacological Interaction**: Roxithromycin’s ability to potentiate mefloquine’s effects on Plasmodium falciparum indirectly links mefloquine to the context of pulmonary complications discussed in relation to amiodarone and roxithromycin.\\n\\nIn summary, the indirect relationship between amiodarone and mefloquine is mediated through roxithromycin. Roxithromycin is involved in both pulmonary toxicity (a shared concern with amiodarone) and the potentiation of mefloquine’s antimalarial activity. This creates a web of interactions where roxithromycin serves as the connecting point between the two drugs.  "
      ]
     },
     "execution_count": 9,
     "metadata": {},
     "output_type": "execute_result"
    }
   ],
   "source": [
    "top_5_df"
   ]
  },
  {
   "cell_type": "code",
   "execution_count": null,
   "id": "af471e42-eec1-4298-9541-1c20f2d819d2",
   "metadata": {},
   "outputs": [],
   "source": []
  }
 ],
 "metadata": {
  "kernelspec": {
   "display_name": "Python [conda env:agatha_0724]",
   "language": "python",
   "name": "conda-env-agatha_0724-py"
  },
  "language_info": {
   "codemirror_mode": {
    "name": "ipython",
    "version": 3
   },
   "file_extension": ".py",
   "mimetype": "text/x-python",
   "name": "python",
   "nbconvert_exporter": "python",
   "pygments_lexer": "ipython3",
   "version": "3.9.19"
  }
 },
 "nbformat": 4,
 "nbformat_minor": 5
}
